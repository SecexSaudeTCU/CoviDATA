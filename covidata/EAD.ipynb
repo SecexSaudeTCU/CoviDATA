{
 "cells": [
  {
   "cell_type": "code",
   "execution_count": 1,
   "metadata": {},
   "outputs": [],
   "source": [
    "import os\n",
    "from sortedcontainers import SortedSet\n",
    "import pandas as pd"
   ]
  },
  {
   "cell_type": "code",
   "execution_count": 2,
   "metadata": {},
   "outputs": [],
   "source": [
    "diretorio = 'C:\\\\Users\\\\moniq\\\\Documents\\\\TCU\\SecexSaude\\\\CoviDATA\\\\dados\\\\consolidados'"
   ]
  },
  {
   "cell_type": "code",
   "execution_count": 3,
   "metadata": {},
   "outputs": [],
   "source": [
    "colunas = SortedSet()\n",
    "map_colunas_planilhas = {}\n",
    "map_arquivos_dfs = {}\n",
    "\n",
    "for root, subdirs, files in os.walk(diretorio):\n",
    "    for file in files:\n",
    "        if len(file) <= 7:\n",
    "            df = pd.read_excel(os.path.join(root, file))\n",
    "            df = df.drop(columns='Unnamed: 0', axis=1, errors='ignore')\n",
    "            map_arquivos_dfs[file] = df\n",
    "            \n",
    "            for coluna in df.columns:\n",
    "                colunas.add(coluna)\n",
    "\n",
    "                if coluna not in map_colunas_planilhas.keys():\n",
    "                    map_colunas_planilhas[coluna] = []\n",
    "\n",
    "                map_colunas_planilhas[coluna].append(file)\n"
   ]
  },
  {
   "cell_type": "code",
   "execution_count": 4,
   "metadata": {},
   "outputs": [],
   "source": [
    "#projeto, codigo de dispensa\n",
    "#Colunas relacionadas a data aparentemente repetidas\n",
    "#DATA, DATA CONTRATO\n",
    "#DATA DO ENCERRAMENTO, DATA FIM VIGÊNCIA, DATA TÉRMINO, DATA_FECHAMENTO, DATA_FIM_PREVISTO, DATA_FIM_VIGENCIA, DATA_TERMINO, DATA_VIGENCIA\n",
    "#DATA INÍCIO, DATA INÍCIO PREVISTO, DATA INÍCIO VIGÊNCIA"
   ]
  },
  {
   "cell_type": "code",
   "execution_count": 7,
   "metadata": {},
   "outputs": [
    {
     "data": {
      "text/plain": [
       "['MS.xlsx']"
      ]
     },
     "execution_count": 7,
     "metadata": {},
     "output_type": "execute_result"
    }
   ],
   "source": [
    "map_colunas_planilhas['DATA']"
   ]
  },
  {
   "cell_type": "code",
   "execution_count": 8,
   "metadata": {},
   "outputs": [
    {
     "data": {
      "text/plain": [
       "array([nan, '15/07/2020', '13/07/2020', '10/07/2020', '02/07/2020',\n",
       "       '29/06/2020', '26/06/2020', '25/06/2020', '16/06/2020',\n",
       "       '10/06/2020', '09/06/2020', '08/06/2020', '04/06/2020',\n",
       "       '03/06/2020', '02/06/2020', '26/05/2020', '25/05/2020',\n",
       "       '22/05/2020', '19/05/2020', '18/05/2020', '15/05/2020',\n",
       "       '13/05/2020', '11/05/2020', '05/05/2020', '04/05/2020',\n",
       "       '01/05/2020', '30/04/2020', '29/04/2020', '28/04/2020',\n",
       "       '27/04/2020', '23/04/2020', '22/04/2020', '16/04/2020',\n",
       "       '07/04/2020', '01/04/2020'], dtype=object)"
      ]
     },
     "execution_count": 8,
     "metadata": {},
     "output_type": "execute_result"
    }
   ],
   "source": [
    "#Segundo o dicionario de dados: \n",
    "map_arquivos_dfs['MS.xlsx']['DATA'].unique()"
   ]
  },
  {
   "cell_type": "code",
   "execution_count": 5,
   "metadata": {},
   "outputs": [
    {
     "data": {
      "text/plain": [
       "SortedSet(['A PAGAR', 'ACAO_COD', 'ACAO_DESCRICAO', 'ADITIVOS', 'AFASTAMENTO', 'AGENCIA', 'ANO', 'ANULADO', 'ANULAÇÃO/ REVOGAÇÃO/ RETIFICAÇÃO/\\nSUSPENSÃO', 'ASPS', 'BANCO', 'BOLETIM DE PAGAMENTO', 'CATEGORIA_ECONOMICA_COD', 'CATEGORIA_ECONOMICA_DESCRICAO', 'CELEBRAÇÃO', 'CNPJ ARREMATANTE', 'CODESPECIFICACAODESPESA', 'CODORGAO', 'CODPROJETO', 'COD_IBGE_MUNICIPIO', 'CONTA_CORRENTE', 'CONTRATADO_CNPJ', 'CONTRATADO_DESCRICAO', 'CONTRATANTE_CNPJ', 'CONTRATANTE_DESCRICAO', 'CONTRATO', 'CONTRATOS/OBSERVAÇÕES', 'COTA', 'CÓD.\\r\\n  DISPENSA', 'CÓDIGO GESTÃO', 'CÓDIGO ITEM', 'DATA', 'DATA ABERTURA', 'DATA APROVAÇÃO', 'DATA ASSINATURA', 'DATA ASSINATURA CONTRATO', 'DATA CONTRATO', 'DATA DA ALIMENTAÇÃO', 'DATA DA ASSINATURA', 'DATA DA LIQUIDAÇÃO', 'DATA DE CADASTRAMENTO DO PROCESSO', 'DATA DE CELEBRAÇÃO / PUBLICAÇÃO', 'DATA DO ENCERRAMENTO', 'DATA DO PAGAMENTO', 'DATA EMPENHO', 'DATA FIM VIGÊNCIA', 'DATA HOMOLOGAÇÃO', 'DATA INÍCIO', 'DATA INÍCIO PREVISTO', 'DATA INÍCIO VIGÊNCIA', 'DATA LIQUIDAÇÃO', 'DATA PAGAMENTO', 'DATA PEDIDO', 'DATA PUBLICAÇÃO', 'DATA RATIFICAÇÃO', 'DATA TÉRMINO', 'DATA_ABERTURA', 'DATA_ASSINATURA', 'DATA_CELEBRACAO', 'DATA_EXTRACAO_DADOS', 'DATA_FECHAMENTO', 'DATA_FIM_PREVISTO', 'DATA_FIM_VIGENCIA', 'DATA_PUBLICACAO', 'DATA_TERMINO', 'DATA_VIGENCIA', 'DESCRIÇÃO DA NATUREZA DA DESPESA', 'DESCRIÇÃO DETALHADA ITEM', 'DESCRIÇÃO DO PROGRAMA DE TRABALHO', 'DESCRIÇÃO DO ÓRGÃO DO EMPENHO', 'DESCRIÇÃO ITEM', 'DESCRIÇÃO PRODUTO', 'DESCRIÇÃO SUBITEM', 'DESPESA_DESCRICAO', 'DESTINAÇÃO DE USO', 'DESTINO', 'DIR IND', 'DOCUMENTO', 'DOCUMENTO_DATA', 'DOCUMENTO_NUMERO', 'DOCUMENT_NE', 'DOE N˚', 'DT ANUL LIQ', 'DT ANUL PAG', 'DURACAO', 'EDITAL DE LICITAÇÃO', 'ELEMENTO_DESPESA_COD', 'ELEMENTO_DESPESA_DESCRICAO', 'EMPENHADO ANULADO', 'EMPENHADO ORIGINAL', 'EMPENHADO REFORÇADO', 'EMPENHADO REFORÇO', 'ENQUADRAMENTO', 'ESFERA', 'ESPECIE', 'EVENTO', 'EXERCICIOCONTRATO', 'FAVORECIDO_TIPO', 'FIM DA VIGÊNCIA ATUALIZADA', 'FINAL', 'FONTE CONTRATADO DOAÇÕES', 'FONTE CONTRATADO ESTADUAL', 'FONTE CONTRATADO FEDERAL', 'FONTE PAGO DOAÇÕES', 'FONTE PAGO ESTADUAL', 'FONTE PAGO FEDERAL', 'FONTE_DADOS', 'FONTE_RECURSOS_COD', 'FONTE_RECURSOS_DESCRICAO', 'FUNCAO_COD', 'FUNCAO_DESCRICAO', 'FUNDAMENTO LEGAL', 'FUNDAMENTO_LEGAL', 'GND_COD', 'GND_DESCRICAO', 'HISTORICO', 'HORA_ABERTURA', 'HORA_FECHAMENTO', 'ID', 'INICIO_VIGENCIA', 'INSTRUMENTO CONTRATUAL', 'INTEGRA_CONTRATO', 'INÍCIO', 'ITEM_EMPENHO_DESCRICAO', 'ITEM_EMPENHO_QUANTIDADE', 'ITEM_EMPENHO_UNIDADE_MEDIDA', 'ITEM_EMPENHO_VALOR_TOTAL', 'ITEM_EMPENHO_VALOR_UNITARIO', 'LICITACAO', 'LIK_EDITAL_CREDENCIAMENTO', 'LINK DO PROCESSO DE CONTRATAÇÃO/AQUISIÇÃO', 'LINK_CONTRATO', 'LINK_CONVENIO', 'LINK_JUSTIFICATIVA', 'LINK_MAPA_PRECOS', 'LINK_NOTA_TECNICA', 'LINK_PLANILHA_CONSOLIDADA', 'LINK_PLANO_DE_TRABALHO', 'LINK_PROCESSO', 'LINK_PROJETO_BASICO', 'LINK_PROPOSTA_EMPRESA', 'LINK_TERMO_ADITIVO', 'LINK_TERMO_COLOB_EMERG', 'LINK_TERMO_DE_REFERÊNCIA', 'LIQUIDACAO', 'LIQUIDADO RETIDO', 'LIQUIDAÇÃO', 'LOCAL ENTREGA', 'LOCAL EXECUÇÃO', 'LOCAL_EXECUCAO_OU_ENTREGA', 'MARCA ITEM', 'MDE', 'MODALIDADE', 'MODALIDADE DA NOTA DE EMPENHO', 'MODALIDADE DE LICITAÇÃO', 'MODALIDADE LICITACAO', 'MODALIDADE LICITAÇÃO', 'MODALIDADE2', 'MOD_APLICACAO_COD', 'MOD_APLIC_DESCRICAO', 'MOTIVAÇÃO/JUSTIFICATIVA', 'MUNICIPIO_DESCRICAO', 'MÊS', 'MÊS EMPENHO', 'MÊS LIQUIDAÇÃO', 'N. PROCESSO', 'NATUREZA', 'NATUREZA DA DESPESA', 'NATUREZA2', 'NE1', 'NE10', 'NE10CANCELADA', 'NE1CANCELADA', 'NE2', 'NE2CANCELADA', 'NE3', 'NE3CANCELADA', 'NE4', 'NE4CANCELADA', 'NE5', 'NE5CANCELADA', 'NE6', 'NE6CANCELADA', 'NE7', 'NE7CANCELADA', 'NE8', 'NE8CANCELADA', 'NE9', 'NE9CANCELADA', 'NOME ARREMATANTE', 'NOME GESTÃO CONTRATANTE', 'NOMEBANCO', 'NOMECONTACORRENTE', 'NOMEUO', 'NOMSIGLA', 'NOTA DE PAGAMENTO', 'NR INSTRUMENTO', 'NUMEMPENHO', 'NUMERO_CONTRATO', 'NUMERO_PROCESSO', 'NUMERO_SIGA', 'NUM_CERTIDAO', 'N_PROCESSO_NE', 'Nº DISPENSA', 'Nº E ÍNTEGRA DO PROCESSO / CONTRATO', 'Nº LICITAÇÃO', 'Nº PROCESSO', 'NÚMERO / ANO DO INSTRUMENTO CONTRATUAL', 'NÚMERO CONTRATO', 'NÚMERO DA LIQUIDAÇÃO', 'NÚMERO DISPENSA', 'NÚMERO DO PROCESSO DE COMPRA', 'NÚMERO DO PROCESSO DE CONTRATAÇÃO / AQUISIÇÃO', 'NÚMERO ITEM', 'NÚMERO LICITACAO', 'NÚMERO LICITAÇÃO', 'NÚMERO LOTE', 'NÚMERO PROCESSO', 'NÚMERO SERVIÇO/MATERIAL', 'NÚMERO/ANO', 'OBRA_META', 'ORGAO', 'ORGAO_COD', 'ORGAO_SIGLA', 'PAGAMENTO', 'PAGAMENTO RETIDO', 'PDFNE1', 'PDFNE10', 'PDFNE2', 'PDFNE3', 'PDFNE4', 'PDFNE5', 'PDFNE6', 'PDFNE7', 'PDFNE8', 'PDFNE9', 'PODER', 'PORTAL COVID-19', 'PRAZO              CONTRATO (MÊS)', 'PRAZO CONTRATUAL', 'PRAZO DE VIGÊNCIA', 'PRAZO EXECUÇÃO', 'PRAZO_EM_DIAS', 'PREÇO ITEM', 'PREÇO SUBITEM', 'PREÇO TOTAL', 'PREÇO UNITÁRIO', 'PROCESSO', 'PROCESSO DE LIQUIDAÇÃO', 'PROCESSO DO EMPENHO', 'PROCESSO E-COMPRAS', 'PROCESSO/ANO', 'PROCESSO_LICITACAO', 'PROGRAMA DE TRABALHO', 'PROGRAMA_COD', 'PROGRAMA_DESCRICAO', 'PROTOCOLO', 'PROTOCOLO / PROCESSO', 'PU ITEM', 'PU PRODUTO', 'PU SUBITEM', 'PUBLICAÇÃO DODF', 'PUBLICIDADE', 'P_A_OE', 'QUANTIDADE', 'QUANTIDADE ITEM', 'QUANTIDADE OBJETO', 'QUANTIDADE PRODUTO', 'QUANTIDADE SUBITEM', 'RESPONSAVEL', 'RESULTADO LICITAÇÃO', 'RP_PAGO', 'SALDO A EXECUTAR DO INSTRUMENTO', 'SIGLA ÓRGÃO', 'SITUACAO', 'SITUACAO EMPENHO', 'SITUAÇÃO CONTRATUAL', 'SITUAÇÃO DO PROCESSO', 'SITUAÇÃO LICITAÇÃO', 'SITUAÇÃO LOTE', 'SITUAÇÃO OFERTA', 'STATUS', 'SUBFUNCAO_COD', 'SUBFUNCAO_DESCRICAO', 'SUB_ELEMENTO_DESPESA_COD', 'SUB_ELEMENTO_DESPESA_DESCRICAO', 'TERMO', 'TERMO DE REFERÊNCIA / PROJETO BÁSICO', 'TIPO ADMINISTRAÇÃO', 'TIPO CONTRATO', 'TIPO DE CREDOR', 'TIPO DESPESA', 'TIPO OBJETO', 'TIPO_DOCUMENTO', 'UF', 'UG_COD', 'UG_DESCRICAO', 'UNIDADE CONTÁBIL', 'UNIDADE ITEM', 'UNIDADE OBJETO', 'UNIDADE ORÇAMENTÁRIA', 'UNIDADE PROGRAMA DE TRABALHO', 'UNIDADE SUBITEM', 'UNIDADE VALOR', 'UO', 'URL DOCUMENTOS', 'URL PROPOSTAS', 'VALOR ANULADO', 'VALOR ANULADO (R$)', 'VALOR ATUAL', 'VALOR ATUALIZADO DO INSTRUMENTO', 'VALOR CANCELADO', 'VALOR DE REFERÊNCIA', 'VALOR DO ACRÉSCIMO OU REDUÇÃO', 'VALOR DOTAÇÃO ATUALIZADA', 'VALOR DOTAÇÃO INICIAL', 'VALOR HOMOLOGADO', 'VALOR INICIAL DO INSTRUMENTO', 'VALOR MENSAL', 'VALORDESPESA', 'VALOR_EMPENHADO', 'VALOR_LIQUIDADO', 'VALOR_PAGO', 'VALOR_R$', 'VENCEDOR LICITAÇÃO', 'VIGENCIA DO CONTRATO', 'VIGÊNCIA', 'VL ANUL DISP', 'VL ANUL EMP', 'VL ANUL LIQ', 'VL ANUL LIQ RP', 'VL ANUL RP', 'VL COFINS', 'VL COFINS PIS PASEP CSLL', 'VL CSLL', 'VL DESCONTOS', 'VL INSS', 'VL IR', 'VL ISS', 'VL MULTAS', 'VL PIS PASEP', 'VL SEM RETENCAO', 'VL SOMA RETENCAO', 'VL TAFC', 'VL TAFI', 'VL TRFC', 'VLR_EMPENHO', 'ÍNTEGRA DO INSTRUMENTO CONTRATUAL', 'ÓRGÃO DO EMPENHO', 'ÓRGÃO INSTRUMENTO', 'ÓRGÃO PROGRAMA DE TRABALHO'])"
      ]
     },
     "execution_count": 5,
     "metadata": {},
     "output_type": "execute_result"
    }
   ],
   "source": [
    "colunas"
   ]
  },
  {
   "cell_type": "code",
   "execution_count": 320,
   "metadata": {},
   "outputs": [
    {
     "data": {
      "text/plain": [
       "351"
      ]
     },
     "execution_count": 320,
     "metadata": {},
     "output_type": "execute_result"
    }
   ],
   "source": [
    "len(colunas)"
   ]
  },
  {
   "cell_type": "code",
   "execution_count": null,
   "metadata": {},
   "outputs": [],
   "source": []
  }
 ],
 "metadata": {
  "kernelspec": {
   "display_name": "Python 3",
   "language": "python",
   "name": "python3"
  },
  "language_info": {
   "codemirror_mode": {
    "name": "ipython",
    "version": 3
   },
   "file_extension": ".py",
   "mimetype": "text/x-python",
   "name": "python",
   "nbconvert_exporter": "python",
   "pygments_lexer": "ipython3",
   "version": "3.7.3"
  }
 },
 "nbformat": 4,
 "nbformat_minor": 2
}
