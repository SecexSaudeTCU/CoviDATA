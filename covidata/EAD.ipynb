{
 "cells": [
  {
   "cell_type": "code",
   "execution_count": 276,
   "metadata": {},
   "outputs": [],
   "source": [
    "import os\n",
    "from sortedcontainers import SortedSet\n",
    "import pandas as pd"
   ]
  },
  {
   "cell_type": "code",
   "execution_count": 277,
   "metadata": {},
   "outputs": [],
   "source": [
    "diretorio = 'C:\\\\Users\\\\moniq\\\\Documents\\\\TCU\\SecexSaude\\\\CoviDATA\\\\dados\\\\consolidados'"
   ]
  },
  {
   "cell_type": "code",
   "execution_count": 278,
   "metadata": {},
   "outputs": [],
   "source": [
    "colunas = SortedSet()\n",
    "map_colunas_planilhas = {}\n",
    "map_arquivos_dfs = {}\n",
    "\n",
    "for root, subdirs, files in os.walk(diretorio):\n",
    "    for file in files:\n",
    "        if len(file) <= 7:\n",
    "            df = pd.read_excel(os.path.join(root, file))\n",
    "            df = df.drop(columns='Unnamed: 0', axis=1, errors='ignore')\n",
    "            map_arquivos_dfs[file] = df\n",
    "            \n",
    "            for coluna in df.columns:\n",
    "                colunas.add(coluna)\n",
    "\n",
    "                if coluna not in map_colunas_planilhas.keys():\n",
    "                    map_colunas_planilhas[coluna] = []\n",
    "\n",
    "                map_colunas_planilhas[coluna].append(file)\n"
   ]
  },
  {
   "cell_type": "code",
   "execution_count": null,
   "metadata": {},
   "outputs": [],
   "source": [
    "#projeto, codigo de dispensa"
   ]
  },
  {
   "cell_type": "code",
   "execution_count": 279,
   "metadata": {},
   "outputs": [
    {
     "data": {
      "text/plain": [
       "SortedSet(['A PAGAR', 'ACAO_COD', 'ACAO_DESCRICAO', 'ADITIVOS', 'AFASTAMENTO', 'AGENCIA', 'ANO', 'ANULADO', 'ANULAÇÃO/ REVOGAÇÃO/ RETIFICAÇÃO/\\nSUSPENSÃO', 'ASPS', 'BANCO', 'BOLETIM DE PAGAMENTO', 'CATEGORIA_ECONOMICA_COD', 'CATEGORIA_ECONOMICA_DESCRICAO', 'CELEBRAÇÃO', 'CNPJ ARREMATANTE', 'CODESPECIFICACAODESPESA', 'CODORGAO', 'CODPROJETO', 'COD_IBGE_MUNICIPIO', 'CONTA_CORRENTE', 'CONTRATADO_CNPJ', 'CONTRATADO_DESCRICAO', 'CONTRATANTE_CNPJ', 'CONTRATANTE_DESCRICAO', 'CONTRATO', 'CONTRATOS/OBSERVAÇÕES', 'COTA', 'CÓD.\\r\\n  DISPENSA', 'CÓDIGO GESTÃO', 'CÓDIGO ITEM', 'DATA', 'DATA ABERTURA', 'DATA APROVAÇÃO', 'DATA ASSINATURA', 'DATA ASSINATURA CONTRATO', 'DATA CONTRATO', 'DATA DA ALIMENTAÇÃO', 'DATA DA ASSINATURA', 'DATA DA LIQUIDAÇÃO', 'DATA DE CADASTRAMENTO DO PROCESSO', 'DATA DE CELEBRAÇÃO / PUBLICAÇÃO', 'DATA DO ENCERRAMENTO', 'DATA DO PAGAMENTO', 'DATA EMPENHO', 'DATA FIM VIGÊNCIA', 'DATA HOMOLOGAÇÃO', 'DATA INÍCIO', 'DATA INÍCIO PREVISTO', 'DATA INÍCIO VIGÊNCIA', 'DATA LIQUIDAÇÃO', 'DATA PAGAMENTO', 'DATA PEDIDO', 'DATA PUBLICAÇÃO', 'DATA RATIFICAÇÃO', 'DATA TÉRMINO', 'DATA_ABERTURA', 'DATA_ASSINATURA', 'DATA_CELEBRACAO', 'DATA_EXTRACAO_DADOS', 'DATA_FECHAMENTO', 'DATA_FIM_PREVISTO', 'DATA_FIM_VIGENCIA', 'DATA_PUBLICACAO', 'DATA_TERMINO', 'DATA_VIGENCIA', 'DESCRIÇÃO DA NATUREZA DA DESPESA', 'DESCRIÇÃO DETALHADA ITEM', 'DESCRIÇÃO DO PROGRAMA DE TRABALHO', 'DESCRIÇÃO DO ÓRGÃO DO EMPENHO', 'DESCRIÇÃO ITEM', 'DESCRIÇÃO PRODUTO', 'DESCRIÇÃO SUBITEM', 'DESPESA_DESCRICAO', 'DESTINAÇÃO DE USO', 'DESTINO', 'DIR IND', 'DOCUMENTO', 'DOCUMENTO_DATA', 'DOCUMENTO_NUMERO', 'DOCUMENT_NE', 'DOE N˚', 'DT ANUL LIQ', 'DT ANUL PAG', 'DURACAO', 'EDITAL DE LICITAÇÃO', 'ELEMENTO_DESPESA_COD', 'ELEMENTO_DESPESA_DESCRICAO', 'EMPENHADO ANULADO', 'EMPENHADO ORIGINAL', 'EMPENHADO REFORÇADO', 'EMPENHADO REFORÇO', 'ENQUADRAMENTO', 'ESFERA', 'ESPECIE', 'EVENTO', 'EXERCICIOCONTRATO', 'FAVORECIDO_TIPO', 'FIM DA VIGÊNCIA ATUALIZADA', 'FINAL', 'FONTE CONTRATADO DOAÇÕES', 'FONTE CONTRATADO ESTADUAL', 'FONTE CONTRATADO FEDERAL', 'FONTE PAGO DOAÇÕES', 'FONTE PAGO ESTADUAL', 'FONTE PAGO FEDERAL', 'FONTE_DADOS', 'FONTE_RECURSOS_COD', 'FONTE_RECURSOS_DESCRICAO', 'FUNCAO_COD', 'FUNCAO_DESCRICAO', 'FUNDAMENTO LEGAL', 'FUNDAMENTO_LEGAL', 'GND_COD', 'GND_DESCRICAO', 'HISTORICO', 'HORA_ABERTURA', 'HORA_FECHAMENTO', 'ID', 'INICIO_VIGENCIA', 'INSTRUMENTO CONTRATUAL', 'INTEGRA_CONTRATO', 'INÍCIO', 'ITEM_EMPENHO_DESCRICAO', 'ITEM_EMPENHO_QUANTIDADE', 'ITEM_EMPENHO_UNIDADE_MEDIDA', 'ITEM_EMPENHO_VALOR_TOTAL', 'ITEM_EMPENHO_VALOR_UNITARIO', 'LICITACAO', 'LIK_EDITAL_CREDENCIAMENTO', 'LINK DO PROCESSO DE CONTRATAÇÃO/AQUISIÇÃO', 'LINK_CONTRATO', 'LINK_CONVENIO', 'LINK_JUSTIFICATIVA', 'LINK_MAPA_PRECOS', 'LINK_NOTA_TECNICA', 'LINK_PLANILHA_CONSOLIDADA', 'LINK_PLANO_DE_TRABALHO', 'LINK_PROCESSO', 'LINK_PROJETO_BASICO', 'LINK_PROPOSTA_EMPRESA', 'LINK_TERMO_ADITIVO', 'LINK_TERMO_COLOB_EMERG', 'LINK_TERMO_DE_REFERÊNCIA', 'LIQUIDACAO', 'LIQUIDADO RETIDO', 'LIQUIDAÇÃO', 'LOCAL ENTREGA', 'LOCAL EXECUÇÃO', 'LOCAL_EXECUCAO_OU_ENTREGA', 'MARCA ITEM', 'MDE', 'MODALIDADE', 'MODALIDADE DA NOTA DE EMPENHO', 'MODALIDADE DE LICITAÇÃO', 'MODALIDADE LICITACAO', 'MODALIDADE LICITAÇÃO', 'MODALIDADE2', 'MOD_APLICACAO_COD', 'MOD_APLIC_DESCRICAO', 'MOTIVAÇÃO/JUSTIFICATIVA', 'MUNICIPIO_DESCRICAO', 'MÊS', 'MÊS EMPENHO', 'MÊS LIQUIDAÇÃO', 'N. PROCESSO', 'NATUREZA', 'NATUREZA DA DESPESA', 'NATUREZA2', 'NE1', 'NE10', 'NE10CANCELADA', 'NE1CANCELADA', 'NE2', 'NE2CANCELADA', 'NE3', 'NE3CANCELADA', 'NE4', 'NE4CANCELADA', 'NE5', 'NE5CANCELADA', 'NE6', 'NE6CANCELADA', 'NE7', 'NE7CANCELADA', 'NE8', 'NE8CANCELADA', 'NE9', 'NE9CANCELADA', 'NOME ARREMATANTE', 'NOME GESTÃO CONTRATANTE', 'NOMEBANCO', 'NOMECONTACORRENTE', 'NOMEUO', 'NOMSIGLA', 'NOTA DE PAGAMENTO', 'NR INSTRUMENTO', 'NUMEMPENHO', 'NUMERO_CONTRATO', 'NUMERO_PROCESSO', 'NUMERO_SIGA', 'NUM_CERTIDAO', 'N_PROCESSO_NE', 'Nº DISPENSA', 'Nº E ÍNTEGRA DO PROCESSO / CONTRATO', 'Nº LICITAÇÃO', 'Nº PROCESSO', 'NÚMERO / ANO DO INSTRUMENTO CONTRATUAL', 'NÚMERO CONTRATO', 'NÚMERO DA LIQUIDAÇÃO', 'NÚMERO DISPENSA', 'NÚMERO DO PROCESSO DE COMPRA', 'NÚMERO DO PROCESSO DE CONTRATAÇÃO / AQUISIÇÃO', 'NÚMERO ITEM', 'NÚMERO LICITACAO', 'NÚMERO LICITAÇÃO', 'NÚMERO LOTE', 'NÚMERO PROCESSO', 'NÚMERO SERVIÇO/MATERIAL', 'NÚMERO/ANO', 'OBRA_META', 'ORGAO', 'ORGAO_COD', 'ORGAO_SIGLA', 'PAGAMENTO', 'PAGAMENTO RETIDO', 'PDFNE1', 'PDFNE10', 'PDFNE2', 'PDFNE3', 'PDFNE4', 'PDFNE5', 'PDFNE6', 'PDFNE7', 'PDFNE8', 'PDFNE9', 'PODER', 'PORTAL COVID-19', 'PRAZO              CONTRATO (MÊS)', 'PRAZO CONTRATUAL', 'PRAZO DE VIGÊNCIA', 'PRAZO EXECUÇÃO', 'PRAZO_EM_DIAS', 'PREÇO ITEM', 'PREÇO SUBITEM', 'PREÇO TOTAL', 'PREÇO UNITÁRIO', 'PROCESSO', 'PROCESSO DE LIQUIDAÇÃO', 'PROCESSO DO EMPENHO', 'PROCESSO E-COMPRAS', 'PROCESSO/ANO', 'PROCESSO_LICITACAO', 'PROGRAMA DE TRABALHO', 'PROGRAMA_COD', 'PROGRAMA_DESCRICAO', 'PROTOCOLO', 'PROTOCOLO / PROCESSO', 'PU ITEM', 'PU PRODUTO', 'PU SUBITEM', 'PUBLICAÇÃO DODF', 'PUBLICIDADE', 'P_A_OE', 'QUANTIDADE', 'QUANTIDADE ITEM', 'QUANTIDADE OBJETO', 'QUANTIDADE PRODUTO', 'QUANTIDADE SUBITEM', 'RESPONSAVEL', 'RESULTADO LICITAÇÃO', 'RP_PAGO', 'SALDO A EXECUTAR DO INSTRUMENTO', 'SIGLA ÓRGÃO', 'SITUACAO', 'SITUACAO EMPENHO', 'SITUAÇÃO CONTRATUAL', 'SITUAÇÃO DO PROCESSO', 'SITUAÇÃO LICITAÇÃO', 'SITUAÇÃO LOTE', 'SITUAÇÃO OFERTA', 'STATUS', 'SUBFUNCAO_COD', 'SUBFUNCAO_DESCRICAO', 'SUB_ELEMENTO_DESPESA_COD', 'SUB_ELEMENTO_DESPESA_DESCRICAO', 'TERMO', 'TERMO DE REFERÊNCIA / PROJETO BÁSICO', 'TIPO ADMINISTRAÇÃO', 'TIPO CONTRATO', 'TIPO DE CREDOR', 'TIPO DESPESA', 'TIPO OBJETO', 'TIPO_DOCUMENTO', 'UF', 'UG_COD', 'UG_DESCRICAO', 'UNIDADE CONTÁBIL', 'UNIDADE ITEM', 'UNIDADE OBJETO', 'UNIDADE ORÇAMENTÁRIA', 'UNIDADE PROGRAMA DE TRABALHO', 'UNIDADE SUBITEM', 'UNIDADE VALOR', 'UO', 'URL DOCUMENTOS', 'URL PROPOSTAS', 'VALOR ANULADO', 'VALOR ANULADO (R$)', 'VALOR ATUAL', 'VALOR ATUALIZADO DO INSTRUMENTO', 'VALOR CANCELADO', 'VALOR DE REFERÊNCIA', 'VALOR DO ACRÉSCIMO OU REDUÇÃO', 'VALOR DOTAÇÃO ATUALIZADA', 'VALOR DOTAÇÃO INICIAL', 'VALOR HOMOLOGADO', 'VALOR INICIAL DO INSTRUMENTO', 'VALOR MENSAL', 'VALORDESPESA', 'VALOR_EMPENHADO', 'VALOR_LIQUIDADO', 'VALOR_PAGO', 'VALOR_R$', 'VENCEDOR LICITAÇÃO', 'VIGENCIA DO CONTRATO', 'VIGÊNCIA', 'VL ANUL DISP', 'VL ANUL EMP', 'VL ANUL LIQ', 'VL ANUL LIQ RP', 'VL ANUL RP', 'VL COFINS', 'VL COFINS PIS PASEP CSLL', 'VL CSLL', 'VL DESCONTOS', 'VL INSS', 'VL IR', 'VL ISS', 'VL MULTAS', 'VL PIS PASEP', 'VL SEM RETENCAO', 'VL SOMA RETENCAO', 'VL TAFC', 'VL TAFI', 'VL TRFC', 'VLR_EMPENHO', 'ÍNTEGRA DO INSTRUMENTO CONTRATUAL', 'ÓRGÃO DO EMPENHO', 'ÓRGÃO INSTRUMENTO', 'ÓRGÃO PROGRAMA DE TRABALHO'])"
      ]
     },
     "execution_count": 279,
     "metadata": {},
     "output_type": "execute_result"
    }
   ],
   "source": [
    "colunas"
   ]
  },
  {
   "cell_type": "code",
   "execution_count": 280,
   "metadata": {},
   "outputs": [
    {
     "data": {
      "text/plain": [
       "351"
      ]
     },
     "execution_count": 280,
     "metadata": {},
     "output_type": "execute_result"
    }
   ],
   "source": [
    "len(colunas)"
   ]
  },
  {
   "cell_type": "code",
   "execution_count": 300,
   "metadata": {},
   "outputs": [
    {
     "data": {
      "text/plain": [
       "['DF.xlsx']"
      ]
     },
     "execution_count": 300,
     "metadata": {},
     "output_type": "execute_result"
    }
   ],
   "source": [
    "map_colunas_planilhas['CELEBRAÇÃO']"
   ]
  },
  {
   "cell_type": "code",
   "execution_count": 301,
   "metadata": {},
   "outputs": [
    {
     "data": {
      "text/plain": [
       "array(['04/04/2020', '06.07.2020', '24.06.2020', '18.06.2020',\n",
       "       '08/06/2020', '05/06/2020', '13/05/2020', '11/05/2020',\n",
       "       '29/04/2020', '22/04/2020', '24/04/2020', '17/04/2020',\n",
       "       '09/04/2020', '08/04/2020', '02/04/2020', '22.06.2020',\n",
       "       '21/05/2020', '20/05/2020', '18/05/2020', '12/05/2020',\n",
       "       '08/05/2020', '11/04/2020', '22/05/2020', '03.06.2020',\n",
       "       '03/06/2020', '21.05.2020', 'R$ 200,00', '07/05/2020',\n",
       "       '05/05/2020', '20/04/2020', '07.04.2020', '25.03.2020',\n",
       "       '06/07/2020', '03/07/2020', '29.06.2020', '08.06.2020',\n",
       "       '28/05/2020', '04.06.2020', '27/05/2020', '01/04/2020',\n",
       "       '16/04/2020', '15/04/2020', '30/03/2020', '25/03/2020',\n",
       "       '04/05/2020', '28/04/2020', '27/04/2020', '27/03/2020',\n",
       "       '23/03/2020', '17.06.2020', '23/04/2020', '03/04/2020',\n",
       "       '26/03/2020', '13/04/2020', '23.06.2020', '25/05/2020',\n",
       "       '04/06/2020', '14/05/202', '26.05.2020', '31/03/2020'],\n",
       "      dtype=object)"
      ]
     },
     "execution_count": 301,
     "metadata": {},
     "output_type": "execute_result"
    }
   ],
   "source": [
    "map_arquivos_dfs['DF.xlsx']['CELEBRAÇÃO'].unique()"
   ]
  },
  {
   "cell_type": "code",
   "execution_count": 302,
   "metadata": {},
   "outputs": [
    {
     "data": {
      "text/plain": [
       "['RO.xlsx']"
      ]
     },
     "execution_count": 302,
     "metadata": {},
     "output_type": "execute_result"
    }
   ],
   "source": [
    "map_colunas_planilhas['CODORGAO']"
   ]
  },
  {
   "cell_type": "code",
   "execution_count": 303,
   "metadata": {},
   "outputs": [
    {
     "data": {
      "text/plain": [
       "['RJ.xlsx']"
      ]
     },
     "execution_count": 303,
     "metadata": {},
     "output_type": "execute_result"
    }
   ],
   "source": [
    "map_colunas_planilhas['ORGAO']"
   ]
  },
  {
   "cell_type": "code",
   "execution_count": 304,
   "metadata": {},
   "outputs": [
    {
     "data": {
      "text/plain": [
       "array([230030, 190001, 170012, 110009, 150014, 140001, 190023, 150020,\n",
       "       140023, 130006, 150001, 150003, 190014, 160001], dtype=int64)"
      ]
     },
     "execution_count": 304,
     "metadata": {},
     "output_type": "execute_result"
    }
   ],
   "source": [
    "map_arquivos_dfs['RO.xlsx']['CODORGAO'].unique()"
   ]
  },
  {
   "cell_type": "code",
   "execution_count": 305,
   "metadata": {},
   "outputs": [
    {
     "data": {
      "text/plain": [
       "array([  nan, 1861., 1867., 1800., 1812., 1871., 1851., 1870., 1864.,\n",
       "       1600., 2802., 1873., 1885., 1872., 1100., 1877., 2202., 1813.,\n",
       "       1876., 1700., 1886., 1814., 1703., 1862., 1878., 1874., 3931.,\n",
       "       1809., 1882., 1815., 1880., 1806., 1811., 1808., 1616., 1151.,\n",
       "       1881., 1606., 1805., 2400., 1604., 1608., 1607., 1883., 1810.,\n",
       "       3904., 3900., 1609., 1610., 2951., 1611., 2900., 1807., 1602.,\n",
       "       1605., 1603.])"
      ]
     },
     "execution_count": 305,
     "metadata": {},
     "output_type": "execute_result"
    }
   ],
   "source": [
    "map_arquivos_dfs['RJ.xlsx']['ORGAO'].unique()"
   ]
  },
  {
   "cell_type": "code",
   "execution_count": 306,
   "metadata": {},
   "outputs": [
    {
     "data": {
      "text/plain": [
       "['AM.xlsx', 'PA.xlsx', 'PB.xlsx', 'RR.xlsx']"
      ]
     },
     "execution_count": 306,
     "metadata": {},
     "output_type": "execute_result"
    }
   ],
   "source": [
    "map_colunas_planilhas['CONTRATO']"
   ]
  },
  {
   "cell_type": "code",
   "execution_count": 307,
   "metadata": {},
   "outputs": [
    {
     "data": {
      "text/plain": [
       "array([nan, 'DESPESA ORDINÁRIA  ENTREGA IMEDIATA*',\n",
       "       'DESPESA ORDINÁRIA ENTREGA IMEDIATA',\n",
       "       'DESPESA ORDINÁRIA ENTREGA IMEDIATA*', 'CONTRATO 003/2020 ',\n",
       "       'CONTRATO 004/2020', 'CONTRATO 005/2020', 'Contrato 006/2020',\n",
       "       'Contrato 007/2020', 'Contrato 011/2020', 'Contrato 016/2020',\n",
       "       'Contrato 009/2020', 'Contrato 013/2020', 'Contrato 012/2020',\n",
       "       'Contrato 014/2020', 'Contrato 010/2020', 'Contrato 008/2020',\n",
       "       'Contrato 015/2020', 'Contrato 017/2020'], dtype=object)"
      ]
     },
     "execution_count": 307,
     "metadata": {},
     "output_type": "execute_result"
    }
   ],
   "source": [
    "map_arquivos_dfs['AM.xlsx']['CONTRATO'].unique()"
   ]
  },
  {
   "cell_type": "code",
   "execution_count": 308,
   "metadata": {},
   "outputs": [
    {
     "data": {
      "text/plain": [
       "array(['https://transparenciacovid19.pa.gov.br/sites/default/files/contratos/proc._2020415099.pdf',\n",
       "       'https://transparenciacovid19.pa.gov.br/sites/default/files/contratos/proc_2020376039.pdf',\n",
       "       'https://transparenciacovid19.pa.gov.br/sites/default/files/contratos/proc._2020402828.pdf',\n",
       "       'https://transparenciacovid19.pa.gov.br/sites/default/files/contratos/pae-2020_275048_chamada_01_2.pdf',\n",
       "       'https://transparenciacovid19.pa.gov.br/sites/default/files/contratos/pae-2020_275048_chamada_01_90.pdf',\n",
       "       'https://transparenciacovid19.pa.gov.br/sites/default/files/contratos/fasepa_-aquisicao_mascaras.pdf',\n",
       "       'https://transparenciacovid19.pa.gov.br/sites/default/files/contratos/tr_e_docs_luvas.pdf, https://transparenciacovid19.pa.gov.br/sites/default/files/contratos/ne_luvas.pdf',\n",
       "       'https://transparenciacovid19.pa.gov.br/sites/default/files/contratos/tr_e_empenho_alcool.pdf',\n",
       "       'https://transparenciacovid19.pa.gov.br/sites/default/files/contratos/tr_e_empenho_mascaras.pdf',\n",
       "       'https://transparenciacovid19.pa.gov.br/sites/default/files/contratos/brasfarma_comercio_de_medicamentos_r_785600.pdf',\n",
       "       'https://transparenciacovid19.pa.gov.br/sites/default/files/contratos/nazaria_distribuidora_de_produtos_far_r_1153420.pdf',\n",
       "       'https://transparenciacovid19.pa.gov.br/sites/default/files/contratos/pae-2020.275048_mascara_para_todos_36.pdf',\n",
       "       'https://transparenciacovid19.pa.gov.br/sites/default/files/contratos/pae-2020.275048_mascara_para_todos_37.pdf',\n",
       "       'https://transparenciacovid19.pa.gov.br/sites/default/files/contratos/pae-2020.275048_mascara_para_todos_51.pdf',\n",
       "       'https://transparenciacovid19.pa.gov.br/sites/default/files/contratos/pae-2020_275048_chamada_01_47.pdf',\n",
       "       'https://transparenciacovid19.pa.gov.br/sites/default/files/contratos/pae-2020_275048_chamada_01_87.pdf',\n",
       "       'https://transparenciacovid19.pa.gov.br/sites/default/files/contratos/pae_-2020.329832_edital_03.2020_mascaras_2.pdf',\n",
       "       'https://transparenciacovid19.pa.gov.br/sites/default/files/contratos/2020-05-18_protocolo-2020_237805.pdf',\n",
       "       'https://transparenciacovid19.pa.gov.br/sites/default/files/contratos/pae_-2020.329832_edital_03.2020_mascaras_2_0.pdf',\n",
       "       'https://transparenciacovid19.pa.gov.br/sites/default/files/contratos/pae_-2020.329832_edital_03.2020_mascaras_2_1.pdf',\n",
       "       'https://transparenciacovid19.pa.gov.br/sites/default/files/contratos/pae_-2020.329832_edital_03.2020_mascaras_2_2.pdf',\n",
       "       'https://transparenciacovid19.pa.gov.br/sites/default/files/contratos/pae_-2020.329832_edital_03.2020_mascaras_2_3.pdf',\n",
       "       'https://transparenciacovid19.pa.gov.br/sites/default/files/contratos/pae_-2020.329832_edital_03.2020_mascaras_2_4.pdf',\n",
       "       'https://transparenciacovid19.pa.gov.br/sites/default/files/contratos/proc._2020-332340.pdf',\n",
       "       nan,\n",
       "       'https://transparenciacovid19.pa.gov.br/sites/default/files/contratos/pae-2020.275048_mascara_para_todos_85.pdf',\n",
       "       'https://transparenciacovid19.pa.gov.br/sites/default/files/contratos/pae-2020.275048_mascara_para_todos_90.pdf',\n",
       "       'https://transparenciacovid19.pa.gov.br/sites/default/files/contratos/pae-2020_275048_chamada_01_77.pdf',\n",
       "       'https://transparenciacovid19.pa.gov.br/sites/default/files/contratos/pae-2020_275048_chamada_01_18.pdf',\n",
       "       'https://transparenciacovid19.pa.gov.br/sites/default/files/contratos/pae-2020.275048_mascara_para_todos_91.pdf',\n",
       "       'https://transparenciacovid19.pa.gov.br/sites/default/files/contratos/pae-2020.275048_mascara_para_todos_70.pdf',\n",
       "       'https://transparenciacovid19.pa.gov.br/sites/default/files/contratos/pae-2020.275048_mascara_para_todos_45.pdf',\n",
       "       'https://transparenciacovid19.pa.gov.br/sites/default/files/contratos/pae-2020_275048_chamada_01_37.pdf',\n",
       "       'https://transparenciacovid19.pa.gov.br/sites/default/files/contratos/pae-2020.275048_mascara_para_todos_106.pdf',\n",
       "       'https://transparenciacovid19.pa.gov.br/sites/default/files/contratos/pae-2020_275048_chamada_01_38.pdf',\n",
       "       'https://transparenciacovid19.pa.gov.br/sites/default/files/contratos/pae-2020_275048_chamada_01_40.pdf',\n",
       "       'https://transparenciacovid19.pa.gov.br/sites/default/files/contratos/pae-2020_275048_chamada_01_58.pdf',\n",
       "       'https://transparenciacovid19.pa.gov.br/sites/default/files/contratos/pae-2020_275048_chamada_01_20.pdf',\n",
       "       'https://transparenciacovid19.pa.gov.br/sites/default/files/contratos/pae-2020.275048_mascara_para_todos_84.pdf',\n",
       "       'https://transparenciacovid19.pa.gov.br/sites/default/files/contratos/pae-2020.275048_mascara_para_todos_34.pdf',\n",
       "       'https://transparenciacovid19.pa.gov.br/sites/default/files/contratos/pae-2020_275048_chamada_01_27.pdf',\n",
       "       'https://transparenciacovid19.pa.gov.br/sites/default/files/contratos/pae-2020_275048_chamada_01_53.pdf',\n",
       "       'https://transparenciacovid19.pa.gov.br/sites/default/files/contratos/pae-2020.275048_mascara_para_todos_105.pdf',\n",
       "       'https://transparenciacovid19.pa.gov.br/sites/default/files/contratos/pae-2020_275048_chamada_01_44.pdf',\n",
       "       'https://transparenciacovid19.pa.gov.br/sites/default/files/contratos/pae-2020_275048_chamada_01_79.pdf',\n",
       "       'https://transparenciacovid19.pa.gov.br/sites/default/files/contratos/pae-2020.275048_mascara_para_todos_112.pdf',\n",
       "       'https://transparenciacovid19.pa.gov.br/sites/default/files/contratos/pae-2020_275048_chamada_01_11.pdf',\n",
       "       'https://transparenciacovid19.pa.gov.br/sites/default/files/contratos/pae-2020.275048_mascara_para_todos-chamada_1_3.pdf',\n",
       "       'https://transparenciacovid19.pa.gov.br/sites/default/files/contratos/pae-2020.275048_mascara_para_todos_42.pdf',\n",
       "       'https://transparenciacovid19.pa.gov.br/sites/default/files/contratos/pae-2020_275048_chamada_01_6.pdf',\n",
       "       'https://transparenciacovid19.pa.gov.br/sites/default/files/contratos/pae-2020.275048_mascara_para_todos_69.pdf',\n",
       "       'https://transparenciacovid19.pa.gov.br/sites/default/files/contratos/pae-2020_275048_chamada_01_30.pdf',\n",
       "       'https://transparenciacovid19.pa.gov.br/sites/default/files/contratos/pae-2020.275048_mascara_para_todos-chamada_1.pdf',\n",
       "       'https://transparenciacovid19.pa.gov.br/sites/default/files/contratos/pae-2020.275048_mascara_para_todos_28.pdf',\n",
       "       'https://transparenciacovid19.pa.gov.br/sites/default/files/contratos/pae-2020_275048_chamada_01_78.pdf',\n",
       "       'https://transparenciacovid19.pa.gov.br/sites/default/files/contratos/pae-2020_275048_chamada_01_74.pdf',\n",
       "       'https://transparenciacovid19.pa.gov.br/sites/default/files/contratos/pae-2020.275048_mascara_para_todos_46.pdf',\n",
       "       'https://transparenciacovid19.pa.gov.br/sites/default/files/contratos/pae-2020.275048_mascara_para_todos_33.pdf',\n",
       "       'https://transparenciacovid19.pa.gov.br/sites/default/files/contratos/pae-2020_275048_chamada_01_55.pdf',\n",
       "       'https://transparenciacovid19.pa.gov.br/sites/default/files/contratos/pae-2020.275048_mascara_para_todos_48.pdf',\n",
       "       'https://transparenciacovid19.pa.gov.br/sites/default/files/contratos/pae-2020_275048_chamada_01_52.pdf',\n",
       "       'https://transparenciacovid19.pa.gov.br/sites/default/files/contratos/pae-2020.275048_mascara_para_todos_107.pdf',\n",
       "       'https://transparenciacovid19.pa.gov.br/sites/default/files/contratos/pae-2020_275048_chamada_01_89.pdf',\n",
       "       'https://transparenciacovid19.pa.gov.br/sites/default/files/contratos/pae-2020.275048_mascara_para_todos_109.pdf',\n",
       "       'https://transparenciacovid19.pa.gov.br/sites/default/files/contratos/pae-2020.275048_mascara_para_todos_44.pdf',\n",
       "       'https://transparenciacovid19.pa.gov.br/sites/default/files/contratos/pae-2020.275048_mascara_para_todos_63.pdf',\n",
       "       'https://transparenciacovid19.pa.gov.br/sites/default/files/contratos/pae-2020_275048_chamada_01_15.pdf',\n",
       "       'https://transparenciacovid19.pa.gov.br/sites/default/files/contratos/pae-2020.275048_mascara_para_todos_61.pdf',\n",
       "       'https://transparenciacovid19.pa.gov.br/sites/default/files/contratos/proc._2020-318278_1.pdf',\n",
       "       'https://transparenciacovid19.pa.gov.br/sites/default/files/contratos/pae-2020.275048_mascara_para_todos_43.pdf',\n",
       "       'https://transparenciacovid19.pa.gov.br/sites/default/files/contratos/pae-2020_275048_chamada_01_86.pdf',\n",
       "       'https://transparenciacovid19.pa.gov.br/sites/default/files/contratos/pae-2020_275048_chamada_01_32.pdf',\n",
       "       'https://transparenciacovid19.pa.gov.br/sites/default/files/contratos/pae-2020_275048_chamada_01_76.pdf',\n",
       "       'https://transparenciacovid19.pa.gov.br/sites/default/files/contratos/pae-2020.275048_mascara_para_todos_27.pdf',\n",
       "       'https://transparenciacovid19.pa.gov.br/sites/default/files/contratos/pae-2020.275048_mascara_para_todos_53.pdf',\n",
       "       'https://transparenciacovid19.pa.gov.br/sites/default/files/contratos/pae-2020_275048_chamada_01_45.pdf',\n",
       "       'https://transparenciacovid19.pa.gov.br/sites/default/files/contratos/pae-2020_275048_chamada_01_42.pdf',\n",
       "       'https://transparenciacovid19.pa.gov.br/sites/default/files/contratos/pae-2020_275048_chamada_01_59.pdf',\n",
       "       'https://transparenciacovid19.pa.gov.br/sites/default/files/contratos/pae-2020.275048_mascara_para_todos_57.pdf',\n",
       "       'https://transparenciacovid19.pa.gov.br/sites/default/files/contratos/pae-2020.275048_mascara_para_todos_29.pdf',\n",
       "       'https://transparenciacovid19.pa.gov.br/sites/default/files/contratos/proc._2020-239316_0.pdf',\n",
       "       'https://transparenciacovid19.pa.gov.br/sites/default/files/contratos/pae-2020.275048_mascara_para_todos_87.pdf',\n",
       "       'https://transparenciacovid19.pa.gov.br/sites/default/files/contratos/suprimento.pdf',\n",
       "       'https://transparenciacovid19.pa.gov.br/sites/default/files/contratos/pae-2020_275048_chamada_01_85.pdf',\n",
       "       'https://transparenciacovid19.pa.gov.br/sites/default/files/contratos/pae-2020_275048_chamada_01_41.pdf',\n",
       "       'https://transparenciacovid19.pa.gov.br/sites/default/files/contratos/pae-2020.275048_mascara_para_todos_35.pdf',\n",
       "       'https://transparenciacovid19.pa.gov.br/sites/default/files/contratos/pae-2020.275048_mascara_para_todos_40.pdf',\n",
       "       'https://transparenciacovid19.pa.gov.br/sites/default/files/contratos/pae-2020.275048_mascara_para_todos_80.pdf',\n",
       "       'https://transparenciacovid19.pa.gov.br/sites/default/files/contratos/pae-2020.275048_mascara_para_todos_86.pdf',\n",
       "       'https://transparenciacovid19.pa.gov.br/sites/default/files/contratos/pae-2020.275048_mascara_para_todos_60.pdf',\n",
       "       'https://transparenciacovid19.pa.gov.br/sites/default/files/contratos/pae-2020.275048_mascara_para_todos_68.pdf',\n",
       "       'https://transparenciacovid19.pa.gov.br/sites/default/files/contratos/pae-2020.275048_mascara_para_todos_110.pdf',\n",
       "       'https://transparenciacovid19.pa.gov.br/sites/default/files/contratos/pae-2020_275048_chamada_01_64.pdf',\n",
       "       'https://transparenciacovid19.pa.gov.br/sites/default/files/contratos/pae-2020_275048_chamada_01_34.pdf',\n",
       "       'https://transparenciacovid19.pa.gov.br/sites/default/files/contratos/pae-2020_275048_chamada_01_22.pdf',\n",
       "       'https://transparenciacovid19.pa.gov.br/sites/default/files/contratos/pae-2020_275048_chamada_01_14.pdf',\n",
       "       'https://transparenciacovid19.pa.gov.br/sites/default/files/contratos/pae-2020_275048_chamada_01_65.pdf',\n",
       "       'https://transparenciacovid19.pa.gov.br/sites/default/files/contratos/pae-2020.275048_mascara_para_todos_31.pdf',\n",
       "       'https://transparenciacovid19.pa.gov.br/sites/default/files/contratos/pae-2020.275048_mascara_para_todos_62.pdf',\n",
       "       'https://transparenciacovid19.pa.gov.br/sites/default/files/contratos/pae-2020.275048_mascara_para_todos-chamada_1_4.pdf',\n",
       "       'https://transparenciacovid19.pa.gov.br/sites/default/files/contratos/pae-2020_275048_chamada_01_68.pdf',\n",
       "       'https://transparenciacovid19.pa.gov.br/sites/default/files/contratos/pae-2020_275048_chamada_01_88.pdf',\n",
       "       'https://transparenciacovid19.pa.gov.br/sites/default/files/contratos/pae-2020_275048_chamada_01.pdf',\n",
       "       'https://transparenciacovid19.pa.gov.br/sites/default/files/contratos/pae-2020_275048_chamada_01_31.pdf',\n",
       "       'https://transparenciacovid19.pa.gov.br/sites/default/files/contratos/pae-2020.275048_mascara_para_todos_108.pdf',\n",
       "       'https://transparenciacovid19.pa.gov.br/sites/default/files/contratos/pae-2020.275048_mascara_para_todos_47.pdf',\n",
       "       'https://transparenciacovid19.pa.gov.br/sites/default/files/contratos/pae-2020.275048_mascara_para_todos_115.pdf',\n",
       "       'https://transparenciacovid19.pa.gov.br/sites/default/files/contratos/pae-2020_275048_chamada_01_60.pdf',\n",
       "       'https://transparenciacovid19.pa.gov.br/sites/default/files/contratos/pae-2020.275048_mascara_para_todos_100.pdf',\n",
       "       'https://transparenciacovid19.pa.gov.br/sites/default/files/contratos/pae-2020_275048_chamada_01_4.pdf',\n",
       "       'https://transparenciacovid19.pa.gov.br/sites/default/files/contratos/pae-2020.275048_mascara_para_todos_66.pdf',\n",
       "       'https://transparenciacovid19.pa.gov.br/sites/default/files/contratos/pae-2020.275048_mascara_para_todos_113.pdf',\n",
       "       'https://transparenciacovid19.pa.gov.br/sites/default/files/contratos/pae-2020.275048_mascara_para_todos_32.pdf',\n",
       "       'https://transparenciacovid19.pa.gov.br/sites/default/files/contratos/pae-2020.275048_mascara_para_todos_93.pdf',\n",
       "       'https://transparenciacovid19.pa.gov.br/sites/default/files/contratos/pae-2020.275048_mascara_para_todos_52.pdf',\n",
       "       'https://transparenciacovid19.pa.gov.br/sites/default/files/contratos/pae-2020.275048_mascara_para_todos_78.pdf',\n",
       "       'https://transparenciacovid19.pa.gov.br/sites/default/files/contratos/pae-2020.275048_mascara_para_todos_55.pdf',\n",
       "       'https://transparenciacovid19.pa.gov.br/sites/default/files/contratos/pae-2020.275048_mascara_para_todos_77.pdf',\n",
       "       'https://transparenciacovid19.pa.gov.br/sites/default/files/contratos/pae-2020_275048_chamada_01_43.pdf',\n",
       "       'https://transparenciacovid19.pa.gov.br/sites/default/files/contratos/pae-2020_275048_chamada_01_46.pdf',\n",
       "       'https://transparenciacovid19.pa.gov.br/sites/default/files/contratos/pae-2020_275048_chamada_01_81.pdf',\n",
       "       'https://transparenciacovid19.pa.gov.br/sites/default/files/contratos/pae-2020.275048_mascara_para_todos_101.pdf',\n",
       "       'https://transparenciacovid19.pa.gov.br/sites/default/files/contratos/pae-2020_275048_chamada_01_23.pdf',\n",
       "       'https://transparenciacovid19.pa.gov.br/sites/default/files/contratos/pae-2020_275048_chamada_01_69.pdf',\n",
       "       'https://transparenciacovid19.pa.gov.br/sites/default/files/contratos/pae-2020_275048_chamada_01_8.pdf',\n",
       "       'https://transparenciacovid19.pa.gov.br/sites/default/files/contratos/processo_dl_006_2020_cph_aquisicao_alcool_gel.pdf',\n",
       "       'https://transparenciacovid19.pa.gov.br/sites/default/files/contratos/pae-2020_275048_chamada_01_7.pdf',\n",
       "       'https://transparenciacovid19.pa.gov.br/sites/default/files/contratos/pae-2020_275048_chamada_01_21.pdf',\n",
       "       'https://transparenciacovid19.pa.gov.br/sites/default/files/contratos/pae-2020.275048_mascara_para_todos_65.pdf',\n",
       "       'https://transparenciacovid19.pa.gov.br/sites/default/files/contratos/pae-2020_275048_chamada_01_35.pdf',\n",
       "       'https://transparenciacovid19.pa.gov.br/sites/default/files/contratos/pae-2020_275048_chamada_01_63.pdf',\n",
       "       'https://transparenciacovid19.pa.gov.br/sites/default/files/contratos/pae-2020_275048_chamada_01_29.pdf',\n",
       "       'https://transparenciacovid19.pa.gov.br/sites/default/files/contratos/pae-2020.275048_mascara_para_todos_98.pdf',\n",
       "       'https://transparenciacovid19.pa.gov.br/sites/default/files/contratos/pae-2020.275048_mascara_para_todos_81.pdf',\n",
       "       'https://transparenciacovid19.pa.gov.br/sites/default/files/contratos/pae-2020_275048_chamada_01_24.pdf',\n",
       "       'https://transparenciacovid19.pa.gov.br/sites/default/files/contratos/pae-2020_275048_chamada_01_72.pdf',\n",
       "       'https://transparenciacovid19.pa.gov.br/sites/default/files/contratos/pae-2020_275048_chamada_01_33.pdf',\n",
       "       'https://transparenciacovid19.pa.gov.br/sites/default/files/contratos/pae-2020.275048_mascara_para_todos_30.pdf',\n",
       "       'https://transparenciacovid19.pa.gov.br/sites/default/files/contratos/pae-2020_275048_chamada_01_9.pdf',\n",
       "       'https://transparenciacovid19.pa.gov.br/sites/default/files/contratos/pae-2020.275048_mascara_para_todos_82.pdf',\n",
       "       'https://transparenciacovid19.pa.gov.br/sites/default/files/contratos/pae-2020_275048_chamada_01_48.pdf',\n",
       "       'https://transparenciacovid19.pa.gov.br/sites/default/files/contratos/pae-2020.275048_mascara_para_todos-chamada_1_7.pdf',\n",
       "       'https://transparenciacovid19.pa.gov.br/sites/default/files/contratos/2020-05-20_protocolo-2020_292176-assinado.pdf',\n",
       "       'https://transparenciacovid19.pa.gov.br/sites/default/files/contratos/pae-2020.275048_mascara_para_todos-chamada_1_1.pdf',\n",
       "       'https://transparenciacovid19.pa.gov.br/sites/default/files/contratos/pae-2020_275048_chamada_01_16.pdf',\n",
       "       'https://transparenciacovid19.pa.gov.br/sites/default/files/contratos/pae-2020.275048_mascara_para_todos_96.pdf',\n",
       "       'https://transparenciacovid19.pa.gov.br/sites/default/files/contratos/pae-2020_275048_chamada_01_62.pdf',\n",
       "       'https://transparenciacovid19.pa.gov.br/sites/default/files/contratos/pae-2020.275048_mascara_para_todos_39.pdf',\n",
       "       'https://transparenciacovid19.pa.gov.br/sites/default/files/contratos/proc._2020-290752_6.pdf',\n",
       "       'https://transparenciacovid19.pa.gov.br/sites/default/files/contratos/pae-2020.275048_mascara_para_todos-chamada_1_5.pdf',\n",
       "       'https://transparenciacovid19.pa.gov.br/sites/default/files/contratos/pae-2020_275048_chamada_01_17.pdf',\n",
       "       'https://transparenciacovid19.pa.gov.br/sites/default/files/contratos/pae-2020_275048_chamada_01_51.pdf',\n",
       "       'https://transparenciacovid19.pa.gov.br/sites/default/files/contratos/pae-2020.275048_mascara_para_todos_72.pdf',\n",
       "       'https://transparenciacovid19.pa.gov.br/sites/default/files/contratos/proc._2020-290752_2.pdf',\n",
       "       'https://transparenciacovid19.pa.gov.br/sites/default/files/contratos/proc._2020-318278_2.pdf',\n",
       "       'https://transparenciacovid19.pa.gov.br/sites/default/files/contratos/pae-2020_275048_chamada_01_54.pdf',\n",
       "       'https://transparenciacovid19.pa.gov.br/sites/default/files/contratos/proc._2020-318278_0.pdf',\n",
       "       'https://transparenciacovid19.pa.gov.br/sites/default/files/contratos/pae-2020_275048_chamada_01_83.pdf',\n",
       "       'https://transparenciacovid19.pa.gov.br/sites/default/files/contratos/proc._2020-243625.pdf',\n",
       "       'https://transparenciacovid19.pa.gov.br/sites/default/files/contratos/proc._2020-290752_4.pdf',\n",
       "       'https://transparenciacovid19.pa.gov.br/sites/default/files/contratos/pae-2020.275048_mascara_para_todos_104.pdf',\n",
       "       'https://transparenciacovid19.pa.gov.br/sites/default/files/contratos/proc._2020-239316_1.pdf',\n",
       "       'https://transparenciacovid19.pa.gov.br/sites/default/files/contratos/proc._2020-318278.pdf',\n",
       "       'https://transparenciacovid19.pa.gov.br/sites/default/files/contratos/proc._2020-260403_0.pdf',\n",
       "       'https://transparenciacovid19.pa.gov.br/sites/default/files/contratos/pae-2020.275048_mascara_para_todos_102.pdf',\n",
       "       'https://transparenciacovid19.pa.gov.br/sites/default/files/contratos/pae-2020_275048_chamada_01_57.pdf',\n",
       "       'https://transparenciacovid19.pa.gov.br/sites/default/files/contratos/pae-2020_275048_chamada_01_80.pdf',\n",
       "       'https://transparenciacovid19.pa.gov.br/sites/default/files/contratos/pae-2020.275048_mascara_para_todos_83.pdf',\n",
       "       'https://transparenciacovid19.pa.gov.br/sites/default/files/contratos/pae-2020_275048_chamada_01_56.pdf',\n",
       "       'https://transparenciacovid19.pa.gov.br/sites/default/files/contratos/pae-2020_275048_chamada_01_26.pdf',\n",
       "       'https://transparenciacovid19.pa.gov.br/sites/default/files/contratos/pae-2020.275048_mascara_para_todos_103.pdf',\n",
       "       'https://transparenciacovid19.pa.gov.br/sites/default/files/contratos/pae-2020_275048_chamada_01_10.pdf',\n",
       "       'https://transparenciacovid19.pa.gov.br/sites/default/files/contratos/pae-2020.275048_mascara_para_todos_38.pdf',\n",
       "       'https://transparenciacovid19.pa.gov.br/sites/default/files/contratos/pae-2020.275048_mascara_para_todos-chamada_1_2.pdf',\n",
       "       'https://transparenciacovid19.pa.gov.br/sites/default/files/contratos/pae-2020.275048_mascara_para_todos_88.pdf',\n",
       "       'https://transparenciacovid19.pa.gov.br/sites/default/files/contratos/pae-2020.275048_mascara_para_todos_59.pdf',\n",
       "       'https://transparenciacovid19.pa.gov.br/sites/default/files/contratos/pae-2020.275048_mascara_para_todos_2.pdf',\n",
       "       'https://transparenciacovid19.pa.gov.br/sites/default/files/contratos/pae-2020_275048_chamada_01_39.pdf',\n",
       "       'https://transparenciacovid19.pa.gov.br/sites/default/files/contratos/pae-2020.275048_mascara_para_todos_94.pdf',\n",
       "       'https://transparenciacovid19.pa.gov.br/sites/default/files/contratos/pae-2020.275048_mascara_para_todos_71.pdf',\n",
       "       'https://transparenciacovid19.pa.gov.br/sites/default/files/contratos/pae-2020.275048_mascara_para_todos_75.pdf',\n",
       "       'https://transparenciacovid19.pa.gov.br/sites/default/files/contratos/pae-2020_275048_chamada_01_73.pdf',\n",
       "       'https://transparenciacovid19.pa.gov.br/sites/default/files/contratos/pae-2020.275048_mascara_para_todos_58.pdf',\n",
       "       'https://transparenciacovid19.pa.gov.br/sites/default/files/contratos/pae-2020.275048_mascara_para_todos_50.pdf',\n",
       "       'https://transparenciacovid19.pa.gov.br/sites/default/files/contratos/pae-2020.275048_mascara_para_todos_49.pdf',\n",
       "       'https://transparenciacovid19.pa.gov.br/sites/default/files/contratos/pae-2020_275048_chamada_01_12.pdf',\n",
       "       'https://transparenciacovid19.pa.gov.br/sites/default/files/contratos/pae-2020_275048_chamada_01_13.pdf',\n",
       "       'https://transparenciacovid19.pa.gov.br/sites/default/files/contratos/pae-2020.275048_mascara_para_todos_64.pdf',\n",
       "       'https://transparenciacovid19.pa.gov.br/sites/default/files/contratos/pae-2020_275048_chamada_01_82.pdf',\n",
       "       'https://transparenciacovid19.pa.gov.br/sites/default/files/contratos/processo_2020266762_aq_alcool_gel_1aparte.pdf, https://transparenciacovid19.pa.gov.br/sites/default/files/contratos/processo_2020266762_aq_alcool_gel_2aparte.pdf',\n",
       "       'https://transparenciacovid19.pa.gov.br/sites/default/files/contratos/pae-2020.275048_mascara_para_todos_79.pdf',\n",
       "       'https://transparenciacovid19.pa.gov.br/sites/default/files/contratos/pae-2020_275048_chamada_01_1.pdf',\n",
       "       'https://transparenciacovid19.pa.gov.br/sites/default/files/contratos/pae-2020_275048_chamada_01_84.pdf',\n",
       "       'https://transparenciacovid19.pa.gov.br/sites/default/files/contratos/pae-2020.275048_mascara_para_todos_54.pdf',\n",
       "       'https://transparenciacovid19.pa.gov.br/sites/default/files/contratos/pae-2020.275048_mascara_para_todos_89.pdf',\n",
       "       'https://transparenciacovid19.pa.gov.br/sites/default/files/contratos/pae-2020.275048_mascara_para_todos_97.pdf',\n",
       "       'https://transparenciacovid19.pa.gov.br/sites/default/files/contratos/pae-2020.275048_mascara_para_todos_95.pdf',\n",
       "       'https://transparenciacovid19.pa.gov.br/sites/default/files/contratos/pae-2020_275048_chamada_01_67.pdf',\n",
       "       'https://transparenciacovid19.pa.gov.br/sites/default/files/contratos/pae-2020.275048_mascara_para_todos_67.pdf',\n",
       "       'https://transparenciacovid19.pa.gov.br/sites/default/files/contratos/proc._2020-290752_0.pdf',\n",
       "       'https://transparenciacovid19.pa.gov.br/sites/default/files/contratos/pae-2020.275048_mascara_para_todos_92.pdf',\n",
       "       'https://transparenciacovid19.pa.gov.br/sites/default/files/contratos/pae-2020.275048_mascara_para_todos_41.pdf',\n",
       "       'https://transparenciacovid19.pa.gov.br/sites/default/files/contratos/pae-2020.275048_mascara_para_todos_99.pdf',\n",
       "       'https://transparenciacovid19.pa.gov.br/sites/default/files/contratos/pae-2020_275048_chamada_01_50.pdf',\n",
       "       'https://transparenciacovid19.pa.gov.br/sites/default/files/contratos/pae-2020_275048_chamada_01_66.pdf',\n",
       "       'https://transparenciacovid19.pa.gov.br/sites/default/files/contratos/proc._2020-290752_5.pdf',\n",
       "       'https://transparenciacovid19.pa.gov.br/sites/default/files/contratos/pae-2020_275048_chamada_01_61.pdf',\n",
       "       'https://transparenciacovid19.pa.gov.br/sites/default/files/contratos/pae-2020_275048_chamada_01_25.pdf',\n",
       "       'https://transparenciacovid19.pa.gov.br/sites/default/files/contratos/pae-2020.275048_mascara_para_todos_73.pdf',\n",
       "       'https://transparenciacovid19.pa.gov.br/sites/default/files/contratos/proc._2020-290752_3.pdf',\n",
       "       'https://transparenciacovid19.pa.gov.br/sites/default/files/contratos/pae-2020.275048_mascara_para_todos_56.pdf',\n",
       "       'https://transparenciacovid19.pa.gov.br/sites/default/files/contratos/processo_lanche_digitalizado_1.pdf',\n",
       "       'https://transparenciacovid19.pa.gov.br/sites/default/files/contratos/pae-2020_275048_chamada_01_49.pdf',\n",
       "       'https://transparenciacovid19.pa.gov.br/sites/default/files/contratos/pae-2020.275048_mascara_para_todos_74.pdf',\n",
       "       'https://transparenciacovid19.pa.gov.br/sites/default/files/contratos/nazaria_distribuidora_de_produtos_far_r_1623017.pdf',\n",
       "       'https://transparenciacovid19.pa.gov.br/sites/default/files/contratos/pae-2020_275048_chamada_01_70.pdf',\n",
       "       'https://transparenciacovid19.pa.gov.br/sites/default/files/contratos/pae-2020_275048_chamada_01_3.pdf',\n",
       "       'https://transparenciacovid19.pa.gov.br/sites/default/files/contratos/pae-2020_275048_chamada_01_36.pdf',\n",
       "       'https://transparenciacovid19.pa.gov.br/sites/default/files/contratos/pae-2020.275048_mascara_para_todos-chamada_1_6.pdf',\n",
       "       'https://transparenciacovid19.pa.gov.br/sites/default/files/contratos/pae-2020_275048_chamada_01_28.pdf',\n",
       "       'https://transparenciacovid19.pa.gov.br/sites/default/files/contratos/pae-2020_275048_chamada_01_19.pdf',\n",
       "       'https://transparenciacovid19.pa.gov.br/sites/default/files/contratos/proc._2020-239316.pdf',\n",
       "       'https://transparenciacovid19.pa.gov.br/sites/default/files/contratos/pae-2020.275048_mascara_para_todos_111.pdf',\n",
       "       'https://transparenciacovid19.pa.gov.br/sites/default/files/contratos/2020-05-19_protocolo_2020_308544_sespa.pdf',\n",
       "       'https://transparenciacovid19.pa.gov.br/sites/default/files/contratos/pae-2020.275048_mascara_para_todos_114.pdf',\n",
       "       'https://transparenciacovid19.pa.gov.br/sites/default/files/contratos/pae-2020_275048_chamada_01_71.pdf',\n",
       "       'https://transparenciacovid19.pa.gov.br/sites/default/files/contratos/pae-2020.275048_mascara_para_todos_4.pdf',\n",
       "       'https://transparenciacovid19.pa.gov.br/sites/default/files/contratos/pae-2020_275048_chamada_01_0.pdf',\n",
       "       'https://transparenciacovid19.pa.gov.br/sites/default/files/contratos/proc._2020-305468.pdf',\n",
       "       'https://transparenciacovid19.pa.gov.br/sites/default/files/contratos/pae-2020.275048_mascara_para_todos_0.pdf',\n",
       "       'https://transparenciacovid19.pa.gov.br/sites/default/files/contratos/pae-2020.275048_mascara_para_todos_1.pdf',\n",
       "       'https://transparenciacovid19.pa.gov.br/sites/default/files/contratos/proc._2020-290752.pdf',\n",
       "       'https://transparenciacovid19.pa.gov.br/sites/default/files/contratos/pae-2020.275048_mascara_para_todos_14.pdf',\n",
       "       'https://transparenciacovid19.pa.gov.br/sites/default/files/contratos/pae-2020.275048_mascara_para_todos_9.pdf',\n",
       "       'https://transparenciacovid19.pa.gov.br/sites/default/files/contratos/pae-2020.275048_mascara_para_todos_8.pdf',\n",
       "       'https://transparenciacovid19.pa.gov.br/sites/default/files/contratos/pae-2020.275048_mascara_para_todos_10.pdf',\n",
       "       'https://transparenciacovid19.pa.gov.br/sites/default/files/contratos/pae-2020.275048_mascara_para_todos_11.pdf',\n",
       "       'https://transparenciacovid19.pa.gov.br/sites/default/files/contratos/pae-2020.275048_mascara_para_todos_3.pdf',\n",
       "       'https://transparenciacovid19.pa.gov.br/sites/default/files/contratos/2020-263717_.pdf',\n",
       "       'https://transparenciacovid19.pa.gov.br/sites/default/files/contratos/pae-2020.275048_mascara_para_todos_13.pdf',\n",
       "       'https://transparenciacovid19.pa.gov.br/sites/default/files/contratos/no_2020.308140_-_suprimento.pdf',\n",
       "       'https://transparenciacovid19.pa.gov.br/sites/default/files/contratos/pae-2020.275048_mascara_para_todos_18.pdf',\n",
       "       'https://transparenciacovid19.pa.gov.br/sites/default/files/contratos/2020-263717__0.pdf',\n",
       "       'https://transparenciacovid19.pa.gov.br/sites/default/files/contratos/pae-2020.275048_mascara_para_todos_5.pdf',\n",
       "       'https://transparenciacovid19.pa.gov.br/sites/default/files/contratos/pae-2020.275048_mascara_para_todos_6.pdf',\n",
       "       'https://transparenciacovid19.pa.gov.br/sites/default/files/contratos/pae-2020.275048_mascara_para_todos_22.pdf',\n",
       "       'https://transparenciacovid19.pa.gov.br/sites/default/files/contratos/pae-2020.275048_mascara_para_todos_7.pdf',\n",
       "       'https://transparenciacovid19.pa.gov.br/sites/default/files/contratos/pae-2020.275048_mascara_para_todos_12.pdf',\n",
       "       'https://transparenciacovid19.pa.gov.br/sites/default/files/contratos/pae-2020_275048_chamada_01_75.pdf',\n",
       "       'https://transparenciacovid19.pa.gov.br/sites/default/files/contratos/pae-2020.275048_mascara_para_todos_19.pdf',\n",
       "       'https://transparenciacovid19.pa.gov.br/sites/default/files/contratos/pae-2020.275048_mascara_para_todos-chamada_1_0.pdf',\n",
       "       'https://transparenciacovid19.pa.gov.br/sites/default/files/contratos/pae-2020.275048_mascara_para_todos_15.pdf',\n",
       "       'https://transparenciacovid19.pa.gov.br/sites/default/files/contratos/pae-2020.275048_mascara_para_todos_20.pdf',\n",
       "       'https://transparenciacovid19.pa.gov.br/sites/default/files/contratos/pae-2020.275048_mascara_para_todos_16.pdf',\n",
       "       'https://transparenciacovid19.pa.gov.br/sites/default/files/contratos/pae-2020.275048_mascara_para_todos_17.pdf',\n",
       "       'https://transparenciacovid19.pa.gov.br/sites/default/files/contratos/pae-2020.275048_mascara_para_todos_76.pdf',\n",
       "       'https://transparenciacovid19.pa.gov.br/sites/default/files/contratos/pae-2020.275048_mascara_para_todos_21.pdf',\n",
       "       'https://transparenciacovid19.pa.gov.br/sites/default/files/contratos/eprotocolo_download_1589641194957_0.pdf',\n",
       "       'https://transparenciacovid19.pa.gov.br/sites/default/files/contratos/eprotocolo_download_1589641813055.pdf',\n",
       "       'https://transparenciacovid19.pa.gov.br/sites/default/files/contratos/pae-2020.275048_mascara_para_todos_24.pdf',\n",
       "       'https://transparenciacovid19.pa.gov.br/sites/default/files/contratos/pae-2020.275048_mascara_para_todos_23.pdf',\n",
       "       'https://transparenciacovid19.pa.gov.br/sites/default/files/contratos/2020-05-19_protocolo_2020_298868.pdf',\n",
       "       'https://transparenciacovid19.pa.gov.br/sites/default/files/contratos/pae-2020.275048_mascara_para_todos_26.pdf',\n",
       "       'https://transparenciacovid19.pa.gov.br/sites/default/files/contratos/2020-05-19_protocolo_2020_298868_0.pdf',\n",
       "       'https://transparenciacovid19.pa.gov.br/sites/default/files/contratos/pae-2020.275048_mascara_para_todos_25.pdf',\n",
       "       'https://transparenciacovid19.pa.gov.br/sites/default/files/contratos/2020-05-19_protocolo_2020_298878.pdf',\n",
       "       'https://transparenciacovid19.pa.gov.br/sites/default/files/contratos/2020-05-11_protocolo-2020_287293.pdf',\n",
       "       'https://transparenciacovid19.pa.gov.br/sites/default/files/contratos/2020-300185_-_seplad_suprimento_manoel_fernandes.pdf',\n",
       "       'https://transparenciacovid19.pa.gov.br/sites/default/files/contratos/processo_completo_compressed.pdf',\n",
       "       'https://transparenciacovid19.pa.gov.br/sites/default/files/contratos/sanitizacao_-_contrato_e_termo_de_referencia.pdf',\n",
       "       'https://transparenciacovid19.pa.gov.br/sites/default/files/contratos/proc._2020-260403_10.pdf',\n",
       "       'https://transparenciacovid19.pa.gov.br/sites/default/files/contratos/proc._2020-239316_3.pdf',\n",
       "       'https://transparenciacovid19.pa.gov.br/sites/default/files/contratos/proc._2020-260403_8.pdf',\n",
       "       'https://transparenciacovid19.pa.gov.br/sites/default/files/contratos/proc._2020-291325.pdf',\n",
       "       'https://transparenciacovid19.pa.gov.br/sites/default/files/contratos/proc_2020-293098.pdf',\n",
       "       'https://transparenciacovid19.pa.gov.br/sites/default/files/contratos/proc._2020-260403_9.pdf',\n",
       "       'https://transparenciacovid19.pa.gov.br/sites/default/files/contratos/proc._2020-260403_1.pdf',\n",
       "       'https://transparenciacovid19.pa.gov.br/sites/default/files/contratos/proc._2020-260403_4.pdf',\n",
       "       'https://transparenciacovid19.pa.gov.br/sites/default/files/contratos/proc._2020-260403_5.pdf',\n",
       "       'https://transparenciacovid19.pa.gov.br/sites/default/files/contratos/proc._2020-260403_6.pdf',\n",
       "       'https://transparenciacovid19.pa.gov.br/sites/default/files/contratos/proc._2020-260403_2.pdf',\n",
       "       'https://transparenciacovid19.pa.gov.br/sites/default/files/contratos/proc._2020-260403_7.pdf',\n",
       "       'https://transparenciacovid19.pa.gov.br/sites/default/files/contratos/proc._2020-260403_3.pdf',\n",
       "       'https://transparenciacovid19.pa.gov.br/sites/default/files/contratos/proc._2020-260403.pdf',\n",
       "       'https://transparenciacovid19.pa.gov.br/sites/default/files/contratos/manutencao_corretiva_0.pdf',\n",
       "       'https://transparenciacovid19.pa.gov.br/sites/default/files/contratos/proc._2020-239316_2.pdf',\n",
       "       'https://transparenciacovid19.pa.gov.br/sites/default/files/contratos/2020-280186.pdf',\n",
       "       'https://transparenciacovid19.pa.gov.br/sites/default/files/contratos/2020-280186_0.pdf',\n",
       "       'https://transparenciacovid19.pa.gov.br/sites/default/files/contratos/proc._2020-274099.pdf',\n",
       "       'https://transparenciacovid19.pa.gov.br/sites/default/files/contratos/proc._2020-276837.pdf',\n",
       "       'https://transparenciacovid19.pa.gov.br/sites/default/files/contratos/aquisicao_de_alcool_em_gel_termo_de_referencia_e_empenho.pdf',\n",
       "       'https://transparenciacovid19.pa.gov.br/sites/default/files/contratos/2020-05-11_protocolo-2020_229598.pdf',\n",
       "       'https://transparenciacovid19.pa.gov.br/sites/default/files/contratos/processo_aquisicao_de_mascaras_2020_256059.pdf',\n",
       "       'https://transparenciacovid19.pa.gov.br/sites/default/files/contratos/2020-271188_-_parte_1_.pdf, https://transparenciacovid19.pa.gov.br/sites/default/files/contratos/2020-271188_-_parte_2_.pdf',\n",
       "       'https://transparenciacovid19.pa.gov.br/sites/default/files/contratos/2020-263624_1.pdf',\n",
       "       'https://transparenciacovid19.pa.gov.br/sites/default/files/contratos/2020-225205_-_parte_1_.pdf, https://transparenciacovid19.pa.gov.br/sites/default/files/contratos/2020-225205_-_parte_2_.pdf',\n",
       "       'https://transparenciacovid19.pa.gov.br/sites/default/files/contratos/2020-05-15_protocolo-2020_246616_0.pdf',\n",
       "       'https://transparenciacovid19.pa.gov.br/sites/default/files/contratos/2020-05-15_protocolo-2020_246616_1.pdf',\n",
       "       'https://transparenciacovid19.pa.gov.br/sites/default/files/contratos/contrato_de_gestao_no_003.2020._hospital_de_campanha_de_santarem.pdf',\n",
       "       'https://transparenciacovid19.pa.gov.br/sites/default/files/contratos/contrato_de_gestao_no_004.2020_hospital_de_campanha_de_breves_breves.pdf',\n",
       "       'https://transparenciacovid19.pa.gov.br/sites/default/files/contratos/contrato_de_gestao_no_005.2020_hospital_de_campanha_de_belem.pdf',\n",
       "       'https://transparenciacovid19.pa.gov.br/sites/default/files/contratos/2020-05-17_protocolo_2020_258741_0.pdf',\n",
       "       'https://transparenciacovid19.pa.gov.br/sites/default/files/contratos/rescisao_unilateral.pdf',\n",
       "       'https://transparenciacovid19.pa.gov.br/sites/default/files/contratos/proc._2020-228063_3.pdf',\n",
       "       'https://transparenciacovid19.pa.gov.br/sites/default/files/contratos/atualizado_2020-05-15_protocolo-2020_257432.pdf',\n",
       "       'https://transparenciacovid19.pa.gov.br/sites/default/files/contratos/processo_2020246783_sf_das.pdf',\n",
       "       'https://transparenciacovid19.pa.gov.br/sites/default/files/contratos/proc._2020-228063_0.pdf',\n",
       "       'https://transparenciacovid19.pa.gov.br/sites/default/files/contratos/tubo_c.i_520_0.pdf',\n",
       "       'https://transparenciacovid19.pa.gov.br/sites/default/files/contratos/proc._2020-228063_1.pdf',\n",
       "       'https://transparenciacovid19.pa.gov.br/sites/default/files/contratos/processo_alcool_em_gel_2020.241649.pdf',\n",
       "       'https://transparenciacovid19.pa.gov.br/sites/default/files/contratos/proc._2020-228063_4.pdf',\n",
       "       'https://transparenciacovid19.pa.gov.br/sites/default/files/contratos/proc._2020-228063_5.pdf',\n",
       "       'https://transparenciacovid19.pa.gov.br/sites/default/files/contratos/proc._2020-228063_6.pdf',\n",
       "       'https://transparenciacovid19.pa.gov.br/sites/default/files/contratos/proc._2020-228063_7.pdf',\n",
       "       'https://transparenciacovid19.pa.gov.br/sites/default/files/contratos/proc._2020-228063_9.pdf',\n",
       "       'https://transparenciacovid19.pa.gov.br/sites/default/files/contratos/processo_2020-232483_-_dispensa_de_licitacao_-_dispara_hospitalar.pdf',\n",
       "       'https://transparenciacovid19.pa.gov.br/sites/default/files/contratos/proc._2020-242308.pdf',\n",
       "       'https://transparenciacovid19.pa.gov.br/sites/default/files/contratos/2020-322692_-_seplad_suprimento_maxwell.pdf',\n",
       "       'https://transparenciacovid19.pa.gov.br/sites/default/files/contratos/no_2020.251637_-_suprimento.pdf',\n",
       "       'https://transparenciacovid19.pa.gov.br/sites/default/files/contratos/proc._2020-242308_0.pdf',\n",
       "       'https://transparenciacovid19.pa.gov.br/sites/default/files/contratos/proc._2020-228063.pdf',\n",
       "       'https://transparenciacovid19.pa.gov.br/sites/default/files/contratos/processo_2020245816_sf_galmox.pdf',\n",
       "       'https://transparenciacovid19.pa.gov.br/sites/default/files/contratos/2020-05-17_protocolo_244009_0.pdf',\n",
       "       'https://transparenciacovid19.pa.gov.br/sites/default/files/contratos/contrato_13.2020_-_disp._hospital_de_castanhal.pdf',\n",
       "       'https://transparenciacovid19.pa.gov.br/sites/default/files/contratos/2020-05-17_protocolo_244009.pdf',\n",
       "       'https://transparenciacovid19.pa.gov.br/sites/default/files/contratos/processo_2020243767_aq_mascaras_pff2.pdf',\n",
       "       'https://transparenciacovid19.pa.gov.br/sites/default/files/contratos/processo_2020237487_aq_luvas_1aparte.pdf, https://transparenciacovid19.pa.gov.br/sites/default/files/contratos/processo_2020237487_aq_luvas_2aparte.pdf',\n",
       "       'https://transparenciacovid19.pa.gov.br/sites/default/files/contratos/2020-05-16_protocolo-2020_243773_capa_0.pdf',\n",
       "       'https://transparenciacovid19.pa.gov.br/sites/default/files/contratos/2020-05-11_protocolo-2020_229598_0.pdf',\n",
       "       'https://transparenciacovid19.pa.gov.br/sites/default/files/contratos/2020-05-11_protocolo-2020_229598_1.pdf',\n",
       "       'https://transparenciacovid19.pa.gov.br/sites/default/files/contratos/contrato_01.2020_-_seaster_0.pdf',\n",
       "       'https://transparenciacovid19.pa.gov.br/sites/default/files/contratos/2020-04-29_protocolo-2020_97233_vol1_2.pdf, https://transparenciacovid19.pa.gov.br/sites/default/files/contratos/2020-05-16_protocolo-2020_97233_vol2_2.pdf',\n",
       "       'https://transparenciacovid19.pa.gov.br/sites/default/files/contratos/mascaras_inteiro.pdf',\n",
       "       'https://transparenciacovid19.pa.gov.br/sites/default/files/contratos/2020-04-29_protocolo-2020_97233_vol1_0.pdf, https://transparenciacovid19.pa.gov.br/sites/default/files/contratos/2020-05-16_protocolo-2020_97233_vol2_0.pdf',\n",
       "       'https://transparenciacovid19.pa.gov.br/sites/default/files/contratos/2020-04-29_protocolo-2020_97233_vol1_1.pdf, https://transparenciacovid19.pa.gov.br/sites/default/files/contratos/2020-05-16_protocolo-2020_97233_vol2_1.pdf',\n",
       "       'https://transparenciacovid19.pa.gov.br/sites/default/files/contratos/proc._2020-159155_11.pdf',\n",
       "       'https://transparenciacovid19.pa.gov.br/sites/default/files/contratos/proc._2020-159155_3.pdf',\n",
       "       'https://transparenciacovid19.pa.gov.br/sites/default/files/contratos/proc._2020-159155_5.pdf',\n",
       "       'https://transparenciacovid19.pa.gov.br/sites/default/files/contratos/proc._2020-159155.pdf',\n",
       "       'https://transparenciacovid19.pa.gov.br/sites/default/files/contratos/proc._2020-159155_0.pdf',\n",
       "       'https://transparenciacovid19.pa.gov.br/sites/default/files/contratos/proc._2020-159155_10.pdf',\n",
       "       'https://transparenciacovid19.pa.gov.br/sites/default/files/contratos/proc._2020-159155_4.pdf',\n",
       "       'https://transparenciacovid19.pa.gov.br/sites/default/files/contratos/proc._2020-159155_6.pdf',\n",
       "       'https://transparenciacovid19.pa.gov.br/sites/default/files/contratos/proc._2020-159155_9.pdf',\n",
       "       'https://transparenciacovid19.pa.gov.br/sites/default/files/contratos/proc._2020-159155_2.pdf',\n",
       "       'https://transparenciacovid19.pa.gov.br/sites/default/files/contratos/proc._2020-159155_8.pdf',\n",
       "       'https://transparenciacovid19.pa.gov.br/sites/default/files/contratos/pdfsam_merge.pdf',\n",
       "       'https://transparenciacovid19.pa.gov.br/sites/default/files/contratos/pae-2020_275048_chamada_01_5.pdf'],\n",
       "      dtype=object)"
      ]
     },
     "execution_count": 308,
     "metadata": {},
     "output_type": "execute_result"
    }
   ],
   "source": [
    "map_arquivos_dfs['PA.xlsx']['CONTRATO'].unique()"
   ]
  },
  {
   "cell_type": "code",
   "execution_count": 309,
   "metadata": {},
   "outputs": [
    {
     "data": {
      "text/plain": [
       "array(['0014/2020', '0084/2020', '0006/2020', '0113/2020', '0224/2020',\n",
       "       '0225/2020', '0226/2020', '0015/2020', '0227/2020', '0003/2020',\n",
       "       '0029/2020', '0030/2020', '0232/2020', '0002/2020', '0109/2020',\n",
       "       '0234/2020', '0184/2020', '0230/2020', '0237/2020', '0009/2020',\n",
       "       '0007/2020', '0008/2020', '0191/2020', '0192/2020', '0070/2020',\n",
       "       '0075/2020', '0076/2020', '0074/2020', '0005/2020', '0023/2020',\n",
       "       '0207/2020', '0210/2020', '0206/2020', '0211/2020', '0212/2020',\n",
       "       '0213/2020', '0214/2020', '0215/2020', '0028/2020', '0063/2020',\n",
       "       '0077/2020', '0016/2020', '0078/2020', '0072/2020', '0022/2020',\n",
       "       '0216/2020', '0217/2020', '0059/2020', '0219/2020', '0026/2020',\n",
       "       '0027/2020', '0025/2020', '0080/2020', '0073/2020', '0024/2020',\n",
       "       '0004/2020', '0110/2020', '0087/2020', '0088/2020', '0095/2020',\n",
       "       '0094/2020', '0085/2020', '0247/2020', '0248/2020', '0244/2020',\n",
       "       '0243/2020', nan], dtype=object)"
      ]
     },
     "execution_count": 309,
     "metadata": {},
     "output_type": "execute_result"
    }
   ],
   "source": [
    "map_arquivos_dfs['PB.xlsx']['CONTRATO'].unique()"
   ]
  },
  {
   "cell_type": "code",
   "execution_count": 310,
   "metadata": {},
   "outputs": [
    {
     "data": {
      "text/plain": [
       "array(['Não informado', nan], dtype=object)"
      ]
     },
     "execution_count": 310,
     "metadata": {},
     "output_type": "execute_result"
    }
   ],
   "source": [
    "map_arquivos_dfs['RR.xlsx']['CONTRATO'].unique()"
   ]
  },
  {
   "cell_type": "code",
   "execution_count": 311,
   "metadata": {},
   "outputs": [
    {
     "data": {
      "text/plain": [
       "['RN.xlsx', 'SC.xlsx']"
      ]
     },
     "execution_count": 311,
     "metadata": {},
     "output_type": "execute_result"
    }
   ],
   "source": [
    "map_colunas_planilhas['DATA ASSINATURA']"
   ]
  },
  {
   "cell_type": "code",
   "execution_count": 312,
   "metadata": {},
   "outputs": [
    {
     "data": {
      "text/plain": [
       "['AC.xlsx', 'AM.xlsx', 'MG.xlsx', 'PE.xlsx', 'RJ.xlsx']"
      ]
     },
     "execution_count": 312,
     "metadata": {},
     "output_type": "execute_result"
    }
   ],
   "source": [
    "map_colunas_planilhas['DATA_FIM_PREVISTO']"
   ]
  },
  {
   "cell_type": "code",
   "execution_count": 313,
   "metadata": {},
   "outputs": [
    {
     "data": {
      "text/plain": [
       "['MG.xlsx']"
      ]
     },
     "execution_count": 313,
     "metadata": {},
     "output_type": "execute_result"
    }
   ],
   "source": [
    "map_colunas_planilhas['DATA_FIM_VIGENCIA']"
   ]
  },
  {
   "cell_type": "code",
   "execution_count": 314,
   "metadata": {},
   "outputs": [
    {
     "data": {
      "text/plain": [
       "array([nan, datetime.datetime(2016, 6, 13, 0, 0),\n",
       "       datetime.datetime(2020, 9, 19, 0, 0),\n",
       "       datetime.datetime(2020, 4, 13, 0, 0),\n",
       "       datetime.datetime(2020, 5, 15, 0, 0),\n",
       "       datetime.datetime(2020, 4, 8, 0, 0),\n",
       "       datetime.datetime(2020, 9, 22, 0, 0),\n",
       "       datetime.datetime(2020, 9, 23, 0, 0),\n",
       "       datetime.datetime(2020, 7, 29, 0, 0),\n",
       "       datetime.datetime(2020, 9, 29, 0, 0),\n",
       "       datetime.datetime(2020, 5, 19, 0, 0),\n",
       "       datetime.datetime(2020, 3, 31, 0, 0),\n",
       "       datetime.datetime(2020, 4, 21, 0, 0),\n",
       "       datetime.datetime(2020, 7, 7, 0, 0),\n",
       "       datetime.datetime(2020, 6, 8, 0, 0),\n",
       "       datetime.datetime(2020, 4, 18, 0, 0),\n",
       "       datetime.datetime(2020, 6, 28, 0, 0),\n",
       "       datetime.datetime(2020, 5, 7, 0, 0),\n",
       "       datetime.datetime(2020, 5, 8, 0, 0),\n",
       "       datetime.datetime(2020, 5, 14, 0, 0),\n",
       "       datetime.datetime(2020, 5, 16, 0, 0),\n",
       "       datetime.datetime(2020, 5, 22, 0, 0),\n",
       "       datetime.datetime(2020, 5, 13, 0, 0),\n",
       "       datetime.datetime(2020, 7, 11, 0, 0),\n",
       "       datetime.datetime(2020, 5, 23, 0, 0),\n",
       "       datetime.datetime(2020, 6, 2, 0, 0),\n",
       "       datetime.datetime(2020, 6, 5, 0, 0),\n",
       "       datetime.datetime(2020, 6, 13, 0, 0),\n",
       "       datetime.datetime(2020, 6, 23, 0, 0),\n",
       "       'até 15 dias após recebimento da NE',\n",
       "       datetime.datetime(2020, 12, 14, 0, 0),\n",
       "       datetime.datetime(2020, 12, 22, 0, 0)], dtype=object)"
      ]
     },
     "execution_count": 314,
     "metadata": {},
     "output_type": "execute_result"
    }
   ],
   "source": [
    "map_arquivos_dfs['MG.xlsx']['DATA_FIM_VIGENCIA'].unique()"
   ]
  },
  {
   "cell_type": "code",
   "execution_count": 315,
   "metadata": {},
   "outputs": [
    {
     "data": {
      "text/plain": [
       "['MT.xlsx']"
      ]
     },
     "execution_count": 315,
     "metadata": {},
     "output_type": "execute_result"
    }
   ],
   "source": [
    "map_colunas_planilhas['DATA_VIGENCIA']"
   ]
  },
  {
   "cell_type": "code",
   "execution_count": 316,
   "metadata": {},
   "outputs": [
    {
     "data": {
      "text/plain": [
       "array(['2020-03-25T00:00:00.000000000', '2020-03-19T00:00:00.000000000',\n",
       "       '2020-06-24T00:00:00.000000000', '2020-04-01T00:00:00.000000000',\n",
       "       '2020-04-06T00:00:00.000000000', '2020-06-22T00:00:00.000000000',\n",
       "       '2020-06-05T00:00:00.000000000', '2020-06-08T00:00:00.000000000',\n",
       "       '2020-05-08T00:00:00.000000000', '2020-03-20T00:00:00.000000000',\n",
       "       '2020-04-02T00:00:00.000000000', '2020-05-12T00:00:00.000000000',\n",
       "       '2020-05-05T00:00:00.000000000', '2020-04-13T00:00:00.000000000',\n",
       "       '2020-05-29T00:00:00.000000000', '2020-03-31T00:00:00.000000000',\n",
       "       '2020-03-27T00:00:00.000000000', '2020-03-30T00:00:00.000000000',\n",
       "       '2020-03-26T00:00:00.000000000', '2020-04-29T00:00:00.000000000',\n",
       "       '2020-04-07T00:00:00.000000000', '2020-04-20T00:00:00.000000000',\n",
       "       '2020-04-17T00:00:00.000000000', '2020-04-27T00:00:00.000000000',\n",
       "       '2020-04-30T00:00:00.000000000', '2020-05-18T00:00:00.000000000',\n",
       "       '2020-05-20T00:00:00.000000000', '2020-06-01T00:00:00.000000000',\n",
       "       '2020-05-21T00:00:00.000000000', '2020-05-11T00:00:00.000000000',\n",
       "       '2020-05-14T00:00:00.000000000', '2020-03-24T00:00:00.000000000',\n",
       "       '2020-06-17T00:00:00.000000000'], dtype='datetime64[ns]')"
      ]
     },
     "execution_count": 316,
     "metadata": {},
     "output_type": "execute_result"
    }
   ],
   "source": [
    "map_arquivos_dfs['MT.xlsx']['DATA_VIGENCIA'].unique()"
   ]
  },
  {
   "cell_type": "code",
   "execution_count": null,
   "metadata": {},
   "outputs": [],
   "source": []
  }
 ],
 "metadata": {
  "kernelspec": {
   "display_name": "Python 3",
   "language": "python",
   "name": "python3"
  },
  "language_info": {
   "codemirror_mode": {
    "name": "ipython",
    "version": 3
   },
   "file_extension": ".py",
   "mimetype": "text/x-python",
   "name": "python",
   "nbconvert_exporter": "python",
   "pygments_lexer": "ipython3",
   "version": "3.7.3"
  }
 },
 "nbformat": 4,
 "nbformat_minor": 2
}
