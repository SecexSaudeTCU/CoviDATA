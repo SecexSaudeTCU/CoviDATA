{
 "cells": [
  {
   "cell_type": "code",
   "execution_count": 1,
   "metadata": {},
   "outputs": [],
   "source": [
    "import os\n",
    "from sortedcontainers import SortedSet\n",
    "import pandas as pd"
   ]
  },
  {
   "cell_type": "code",
   "execution_count": 2,
   "metadata": {},
   "outputs": [],
   "source": [
    "diretorio = 'C:\\\\Users\\\\moniq\\\\Documents\\\\TCU\\SecexSaude\\\\CoviDATA\\\\dados\\\\consolidados'"
   ]
  },
  {
   "cell_type": "code",
   "execution_count": 12,
   "metadata": {},
   "outputs": [],
   "source": [
    "colunas = SortedSet()\n",
    "map_colunas_planilhas = {}\n",
    "map_arquivos_dfs = {}\n",
    "\n",
    "for root, subdirs, files in os.walk(diretorio):\n",
    "    for file in files:\n",
    "        if len(file) <= 7:\n",
    "            df = pd.read_excel(os.path.join(root, file))\n",
    "            df = df.drop(columns='Unnamed: 0', axis=1, errors='ignore')\n",
    "            map_arquivos_dfs[file] = df\n",
    "            \n",
    "            for coluna in df.columns:\n",
    "                colunas.add(coluna)\n",
    "\n",
    "                if coluna not in map_colunas_planilhas.keys():\n",
    "                    map_colunas_planilhas[coluna] = []\n",
    "\n",
    "                map_colunas_planilhas[coluna].append(file)\n"
   ]
  },
  {
   "cell_type": "code",
   "execution_count": 13,
   "metadata": {},
   "outputs": [
    {
     "data": {
      "text/plain": [
       "SortedSet(['ANO', 'COD_IBGE_MUNICIPIO', 'CONTRATADO_CNPJ', 'CONTRATADO_DESCRICAO', 'CONTRATANTE_DESCRICAO', 'CONTRATO', 'CONTRATOS/OBSERVAÇÕES', 'COTA', 'CÓD.\\r\\n  DISPENSA', 'DATA DA ALIMENTAÇÃO', 'DATA DE CELEBRAÇÃO / PUBLICAÇÃO', 'DATA PEDIDO', 'DATA RATIFICAÇÃO', 'DATA_ABERTURA', 'DATA_ASSINATURA', 'DATA_CELEBRACAO', 'DATA_EXTRACAO_DADOS', 'DATA_FECHAMENTO', 'DATA_FIM_VIGENCIA', 'DATA_INICIO_VIGENCIA', 'DESPESA_DESCRICAO', 'DESTINAÇÃO DE USO', 'DESTINO', 'DOCUMENTO_DATA', 'DOCUMENTO_NUMERO', 'DURACAO', 'EDITAL DE LICITAÇÃO', 'ELEMENTO_DESPESA_DESCRICAO', 'ENQUADRAMENTO', 'ESFERA', 'FAVORECIDO_TIPO', 'FONTE CONTRATADO DOAÇÕES', 'FONTE CONTRATADO ESTADUAL', 'FONTE CONTRATADO FEDERAL', 'FONTE PAGO DOAÇÕES', 'FONTE PAGO ESTADUAL', 'FONTE PAGO FEDERAL', 'FONTE_DADOS', 'FONTE_RECURSOS_COD', 'FONTE_RECURSOS_DESCRICAO', 'FUNDAMENTO_LEGAL', 'HORA_ABERTURA', 'HORA_FECHAMENTO', 'ID', 'INSTRUMENTO CONTRATUAL', 'INTEGRA_CONTRATO', 'ITEM_EMPENHO_DESCRICAO', 'ITEM_EMPENHO_QUANTIDADE', 'ITEM_EMPENHO_UNIDADE_MEDIDA', 'ITEM_EMPENHO_VALOR_TOTAL', 'ITEM_EMPENHO_VALOR_UNITARIO', 'LIK_EDITAL_CREDENCIAMENTO', 'LINK DO PROCESSO DE CONTRATAÇÃO/AQUISIÇÃO', 'LINK_CONTRATO', 'LINK_CONVENIO', 'LINK_JUSTIFICATIVA', 'LINK_MAPA_PRECOS', 'LINK_NOTA_TECNICA', 'LINK_PLANILHA_CONSOLIDADA', 'LINK_PLANO_DE_TRABALHO', 'LINK_PROCESSO', 'LINK_PROJETO_BASICO', 'LINK_PROPOSTA_EMPRESA', 'LINK_TERMO_ADITIVO', 'LINK_TERMO_COLOB_EMERG', 'LINK_TERMO_DE_REFERÊNCIA', 'LOCAL_EXECUCAO_OU_ENTREGA', 'MODALIDADE DA NOTA DE EMPENHO', 'MOD_APLICACAO_COD', 'MOD_APLIC_DESCRICAO', 'MOTIVAÇÃO/JUSTIFICATIVA', 'MUNICIPIO_DESCRICAO', 'NATUREZA', 'NE1', 'NE10', 'NE10CANCELADA', 'NE1CANCELADA', 'NE2', 'NE2CANCELADA', 'NE3', 'NE3CANCELADA', 'NE4', 'NE4CANCELADA', 'NE5', 'NE5CANCELADA', 'NE6', 'NE6CANCELADA', 'NE7', 'NE7CANCELADA', 'NE8', 'NE8CANCELADA', 'NE9', 'NE9CANCELADA', 'NUMERO_CONTRATO', 'NUMERO_PROCESSO', 'NUMERO_SIGA', 'NUM_CERTIDAO', 'Nº E ÍNTEGRA DO PROCESSO / CONTRATO', 'Nº PROCESSO', 'NÚMERO\\r\\n  PROCESSO', 'NÚMERO / ANO DO INSTRUMENTO CONTRATUAL', 'NÚMERO DO PROCESSO DE CONTRATAÇÃO / AQUISIÇÃO', 'NÚMERO/ANO', 'ORGAO_SIGLA', 'PDFNE1', 'PDFNE10', 'PDFNE2', 'PDFNE3', 'PDFNE4', 'PDFNE5', 'PDFNE6', 'PDFNE7', 'PDFNE8', 'PDFNE9', 'PORTAL COVID-19', 'PRAZO CONTRATUAL', 'PRAZO DE VIGÊNCIA', 'PRAZO_EM_DIAS', 'PROCESSO E-COMPRAS', 'PROCESSO/ANO', 'PROCESSO_LICITACAO', 'PUBLICAÇÃO DODF', 'PUBLICIDADE', 'RESPONSAVEL', 'SITUACAO EMPENHO', 'STATUS', 'TERMO', 'TERMO DE REFERÊNCIA / PROJETO BÁSICO', 'TIPO DE CREDOR', 'TIPO DESPESA', 'TIPO_DOCUMENTO', 'UF', 'UG_COD', 'UG_DESCRICAO', 'VALOR ANULADO', 'VALOR ATUAL', 'VALOR MENSAL', 'VALOR_EMPENHADO', 'VALOR_LIQUIDADO', 'VALOR_PAGO', 'VALOR_R$', 'VIGÊNCIA', 'ÍNTEGRA DO INSTRUMENTO CONTRATUAL'])"
      ]
     },
     "execution_count": 13,
     "metadata": {},
     "output_type": "execute_result"
    }
   ],
   "source": [
    "colunas"
   ]
  },
  {
   "cell_type": "code",
   "execution_count": 19,
   "metadata": {},
   "outputs": [
    {
     "data": {
      "text/plain": [
       "['ES.xlsx']"
      ]
     },
     "execution_count": 19,
     "metadata": {},
     "output_type": "execute_result"
    }
   ],
   "source": [
    "map_colunas_planilhas['NÚMERO / ANO DO INSTRUMENTO CONTRATUAL']"
   ]
  },
  {
   "cell_type": "code",
   "execution_count": 20,
   "metadata": {},
   "outputs": [
    {
     "data": {
      "text/plain": [
       "array(['030/2020-SSAS', '026/2020', '0088/2020', '0059/2020',\n",
       "       'INVOICE 25', 'OF 012/2020', 'OF 013/2020', 'OF 014/2020',\n",
       "       'OF 015/2020', 'OF 016/2020', 'OF 017/2020', 'OF 018/2020',\n",
       "       'OF 019/2020', 'OF 20/2020', 'OF 21/2020', 'OF 22/2020',\n",
       "       'OF 23/2020', 'OF 24/2020', 'OF 25/2020', 'OF 26/2020',\n",
       "       'OF 27/2020', 'OF 28/2020', 'OF 29/2020', 'OF 30/2020',\n",
       "       'OF 31/2020', 'OF 0888/2020', 'OF 0698/2020',\n",
       "       'TERMO DE CONTRATO 003/2020', '092/2020', '029/2020',\n",
       "       'OF 1001/2020', 'OF 1000/2020', 'OF 0889/2020',\n",
       "       'CONTRATO Nº 002/2020', '0060/2020', 'OF 0885/2020',\n",
       "       'CONTRATO 006/2020', 'AFM 0363/2020', '027/2020', '2020NE00231',\n",
       "       'OF.045/2020', '2020NE00230', '2020NE00229',\n",
       "       'PROPOSTA INVOICE E RATIFICAÇÃO', 'Ord. Fornec. nº 220987',\n",
       "       'Ord. Fornec. nº 219886', '025/2020', '2020NE00222', '2020NE00227',\n",
       "       '2020NE00223', '2020NE00228', '2020NE00224', 'OF 0676/2020',\n",
       "       '023/2020', '0109/2020', 'OF 1121/2020', 'OF 1122/2020',\n",
       "       'OF 1120/2020', 'OF 1119/2020', '077/2020', 'AES nº 0089/2020',\n",
       "       '0052/2020', 'OF 0865/2020', '2020NE00647', '2020NE00646',\n",
       "       '2020NE00648', '2020NE00645', 'AFM 0365/2020', 'OF 1296/2020',\n",
       "       '2020NE00259', '0051/2020', '0053/2020', 'AFM\\xa0483/2020',\n",
       "       'AES 0068/2020', '022/2020', 'AFM nº 505/2020', 'AFM 0426/2020',\n",
       "       'OF 0842/2020', 'OF 0836/2020', '0781/2020', '00010/2020',\n",
       "       '0090/2020', 'TERMO DE CONTRATO 002/2020', '0106/2020',\n",
       "       '0107/2020', '0108/2020', '2020NE00253', 'OF 1048/2020',\n",
       "       '081/2020', 'AFM 540/2020', 'AFM 545/2020', 'OF 1313/2020',\n",
       "       'OF 1315/2020', 'OF 1312/2020', '0104/2020', 'OF 1044/2020',\n",
       "       '082/2020', '083/2020', 'OF 1301/2020', 'Contrato nº. 027/2020',\n",
       "       'Contrato nº. 025/2020', 'Contrato nº. 026/2020',\n",
       "       'Contrato nº. 028/2020', 'OF 0817/2020', '2020NE00635',\n",
       "       '0103/2020', '2020NE00246', 'OF 1294/2020', 'OF 1297/2020',\n",
       "       'OF 1295/2020', 'OF 044/2020', '006/2020', '007/2020', '008/2020',\n",
       "       '2020NE00614', '044/2020', 'OF 1032/2020', 'OF 1035/2020',\n",
       "       '0078/2020', 'OF 1023/2020', '0086/2020',\n",
       "       'OF 009/2020, 010/2020 e 011/2020', '2020NE00608', '2020NE00607',\n",
       "       '2020NE00606', 'CONTRATO Nº 007/2020', '1013/2020', '0050/2020',\n",
       "       'Contrato nº. 024/2020', '0048/2020', 'CONTRATO Nº 006/2020',\n",
       "       '1002/2020', '1003/2020', '2020NE00599', 'AES 0052/2020',\n",
       "       '0102/2020', '0074/2020', '0075/2020', '0076/2020', '0073/2020',\n",
       "       'OF 0938/2020', 'OF 0985/2020', 'OF 0984/2020', '00007/2020',\n",
       "       '0072/2020', '0980/2020', '0981/2020', 'O.FORN/SERVIÇOS 001/2020',\n",
       "       'OF 0792/2020', 'OF 0782/2020', '0046/2020', '2020NE00276',\n",
       "       '099/2020', 'OF 1259/2020', 'OF 1261/2020', 'OF 1244/2020',\n",
       "       'OF 1248/2020', '2020NE00239', '2020NE00238', '00009/2020',\n",
       "       'AES 0051/2020', 'OF.055/2020', 'OF 1238/2020', 'OF 1240/2020',\n",
       "       'AFM 0368/2020', '005/2020', 'RATIFICAÇÃO/OB', '0043/2020',\n",
       "       'CONTRATO Nº 004/2020', '0041/2020', '0044/2020', 'OF 476/2020',\n",
       "       'AES 0075/2020', 'OF  0762/2020', 'AF 037/2020', 'OF 0774/2020',\n",
       "       'AF 040/2020', 'OF 1236/2020', '0096/2020', 'OF 0911/2020',\n",
       "       'OF 0912/2020', '063/2020', '061/2020', '0094/2020', '00887/2020',\n",
       "       '0068/2020', '0069/2020', '0039/2020', '0038/2020', '042/2020',\n",
       "       'OF 0759/2020', 'OF 0758/2020', 'OF 0757/2020', 'OF 0764/2020',\n",
       "       'OF  0761/2020', 'OF 1183/2020', 'OF 1182/2020', 'OF 1181/2020',\n",
       "       '0035/2020', '0033/2020', '0032/2020', '0036/2020', '0037/2020',\n",
       "       '0034/2020', 'OF 0744/2020', '0040/2020', 'OF  0747/2020',\n",
       "       '2020NE00149', 'OF 0765/2020', 'OF  0746/2020', '020/2020', nan],\n",
       "      dtype=object)"
      ]
     },
     "execution_count": 20,
     "metadata": {},
     "output_type": "execute_result"
    }
   ],
   "source": [
    "map_arquivos_dfs['ES.xlsx']['NÚMERO / ANO DO INSTRUMENTO CONTRATUAL'].unique()"
   ]
  },
  {
   "cell_type": "code",
   "execution_count": 7,
   "metadata": {},
   "outputs": [
    {
     "data": {
      "text/plain": [
       "['AC.xlsx']"
      ]
     },
     "execution_count": 7,
     "metadata": {},
     "output_type": "execute_result"
    }
   ],
   "source": [
    "map_colunas_planilhas['Nº PROCESSO']"
   ]
  },
  {
   "cell_type": "code",
   "execution_count": 8,
   "metadata": {},
   "outputs": [
    {
     "data": {
      "text/plain": [
       "array([nan, '19-20-0010908\\xa0', '\\t 0007.009187.00006/2020-11',\n",
       "       'D N de Souza Eireli', '004/2020', '09/2020', '014/2020',\n",
       "       '016/2020', '013/2020', '\\n19-20-0022902\\n', '\\n19-20-0011583\\n',\n",
       "       '\\n19.05.0050.0001902/2020-09\\n', '\\n19.05.0050.0001933/2020-45\\n',\n",
       "       '\\n19-20-0032807\\n', '\\n19-20-0011491\\n', '\\n19-20-0032855\\n',\n",
       "       '\\n013/2020\\n', '\\n003/2020/SEMSA\\n', '\\n002/2020/SEMSA\\n',\n",
       "       '\\n19-20-0032806\\n', '\\n0819.012803.00129/2020-06\\n',\n",
       "       '\\n007/2020\\n', '\\n016/2020\\n', '\\n14/2020/SEJUSP\\n',\n",
       "       '\\n10/2020/SEJUSP\\n', '\\n19-20-0011560\\n', '\\n014/2020\\n',\n",
       "       '\\n19-20-0032824\\n', '\\n19-20-0010911\\n', '\\n19-20-0000964\\n',\n",
       "       '\\n401601194800023/2020-93\\n', '\\n66.2020.03 DCLC\\n',\n",
       "       '\\n010/2020\\n', '\\n401601192400038/2020-75\\n', '\\n127/2020\\n',\n",
       "       '\\n\\xa008/2020\\n', '\\n061.2020.90\\r\\n  DCLC\\n',\n",
       "       '\\n\\xa0061.2020.90 DCLC\\n', '\\n003/2020\\n', '\\n\\xa0010/2020\\n',\n",
       "       '\\n\\xa0003/2020\\n', '\\n\\xa009/2020\\n',\n",
       "       '\\n\\xa00007.009187.00006/2020-11\\n', '\\n\\xa019-20-0010908\\n'],\n",
       "      dtype=object)"
      ]
     },
     "execution_count": 8,
     "metadata": {},
     "output_type": "execute_result"
    }
   ],
   "source": [
    "map_arquivos_dfs['AC.xlsx']['Nº PROCESSO'].unique()"
   ]
  },
  {
   "cell_type": "code",
   "execution_count": null,
   "metadata": {},
   "outputs": [],
   "source": [
    "#projeto, codigo de dispensa\n",
    "#Colunas relacionadas a data aparentemente repetidas\n",
    "#DATA (MS): sem documentação \n",
    "#DATA CONTRATO (RR) => DATA_CELEBRACAO\n",
    "#DATA DO ENCERRAMENTO (RJ): coluna vazia excluí\n",
    "#DATA FIM VIGÊNCIA (SC) => DATA_FIM_PREVISTO\n",
    "#DATA TÉRMINO (RR) => DATA_FIM_PREVISTO (nos dados, está como não informado) \n",
    "#DATA_FECHAMENTO (AL): sem  documentação\n",
    "#DATA_TERMINO (CE) => DATA_FIM_PREVISTO (tem datas no futuro)\n",
    "#DATA INÍCIO (RR) => INICIO_VIGENCIA\n",
    "#DATA INÍCIO PREVISTO (RJ) => INICIO_VIGENCIA\n",
    "#DATA INÍCIO VIGÊNCIA (SC) => INICIO_VIGENCIA"
   ]
  },
  {
   "cell_type": "code",
   "execution_count": null,
   "metadata": {},
   "outputs": [],
   "source": [
    "map_colunas_planilhas['DATA']"
   ]
  },
  {
   "cell_type": "code",
   "execution_count": null,
   "metadata": {},
   "outputs": [],
   "source": [
    "#Não tem dicionário de dados explicando o significado \n",
    "map_arquivos_dfs['MS.xlsx']['DATA'].unique()"
   ]
  },
  {
   "cell_type": "code",
   "execution_count": null,
   "metadata": {},
   "outputs": [],
   "source": [
    "map_colunas_planilhas['DATA CONTRATO']"
   ]
  },
  {
   "cell_type": "code",
   "execution_count": null,
   "metadata": {},
   "outputs": [],
   "source": [
    "#Segundo rastreamento do código do scraping, é a data de celebração: \n",
    "map_arquivos_dfs['RR.xlsx']['DATA CONTRATO'].unique()"
   ]
  },
  {
   "cell_type": "code",
   "execution_count": null,
   "metadata": {},
   "outputs": [],
   "source": [
    "map_colunas_planilhas['DATA DO ENCERRAMENTO']"
   ]
  },
  {
   "cell_type": "code",
   "execution_count": null,
   "metadata": {},
   "outputs": [],
   "source": [
    "map_arquivos_dfs['RJ.xlsx']['DATA DO ENCERRAMENTO'].unique()"
   ]
  },
  {
   "cell_type": "code",
   "execution_count": null,
   "metadata": {},
   "outputs": [],
   "source": [
    "map_colunas_planilhas['DATA FIM VIGÊNCIA']"
   ]
  },
  {
   "cell_type": "code",
   "execution_count": null,
   "metadata": {},
   "outputs": [],
   "source": [
    "#Segundo o dicionário de dados, é a data de término da vigência do contrato\n",
    "map_arquivos_dfs['SC.xlsx']['DATA FIM VIGÊNCIA'].unique()"
   ]
  },
  {
   "cell_type": "code",
   "execution_count": null,
   "metadata": {},
   "outputs": [],
   "source": [
    "map_colunas_planilhas['DATA TÉRMINO']"
   ]
  },
  {
   "cell_type": "code",
   "execution_count": null,
   "metadata": {},
   "outputs": [],
   "source": [
    "map_arquivos_dfs['RR.xlsx']['DATA TÉRMINO'].unique()"
   ]
  },
  {
   "cell_type": "code",
   "execution_count": null,
   "metadata": {},
   "outputs": [],
   "source": [
    "map_colunas_planilhas['DATA_FECHAMENTO']"
   ]
  },
  {
   "cell_type": "code",
   "execution_count": null,
   "metadata": {},
   "outputs": [],
   "source": [
    "#Não consegui rastrear a fonte original para checar o significado\n",
    "map_arquivos_dfs['AL.xlsx']['DATA_FECHAMENTO'].unique()"
   ]
  },
  {
   "cell_type": "code",
   "execution_count": null,
   "metadata": {},
   "outputs": [],
   "source": [
    "map_colunas_planilhas['DATA_FIM_VIGENCIA']"
   ]
  },
  {
   "cell_type": "code",
   "execution_count": null,
   "metadata": {},
   "outputs": [],
   "source": [
    "map_arquivos_dfs['MG.xlsx']['DATA_FIM_VIGENCIA'].unique()"
   ]
  },
  {
   "cell_type": "code",
   "execution_count": null,
   "metadata": {},
   "outputs": [],
   "source": [
    "map_colunas_planilhas['DATA_TERMINO']"
   ]
  },
  {
   "cell_type": "code",
   "execution_count": null,
   "metadata": {},
   "outputs": [],
   "source": [
    "map_arquivos_dfs['CE.xlsx']['DATA_TERMINO'].unique()"
   ]
  },
  {
   "cell_type": "code",
   "execution_count": null,
   "metadata": {},
   "outputs": [],
   "source": [
    "map_colunas_planilhas['DATA_VIGENCIA']"
   ]
  },
  {
   "cell_type": "code",
   "execution_count": null,
   "metadata": {},
   "outputs": [],
   "source": [
    "map_arquivos_dfs['MT.xlsx']['DATA_VIGENCIA'].unique()"
   ]
  },
  {
   "cell_type": "code",
   "execution_count": null,
   "metadata": {},
   "outputs": [],
   "source": [
    "map_colunas_planilhas['DATA INÍCIO']"
   ]
  },
  {
   "cell_type": "code",
   "execution_count": null,
   "metadata": {},
   "outputs": [],
   "source": [
    "map_arquivos_dfs['RR.xlsx']['DATA INÍCIO'].unique()"
   ]
  },
  {
   "cell_type": "code",
   "execution_count": null,
   "metadata": {},
   "outputs": [],
   "source": [
    "map_colunas_planilhas['DATA INÍCIO PREVISTO']"
   ]
  },
  {
   "cell_type": "code",
   "execution_count": null,
   "metadata": {},
   "outputs": [],
   "source": [
    "map_arquivos_dfs['RJ.xlsx']['DATA INÍCIO PREVISTO'].unique()"
   ]
  },
  {
   "cell_type": "code",
   "execution_count": null,
   "metadata": {},
   "outputs": [],
   "source": [
    "map_colunas_planilhas['DATA INÍCIO VIGÊNCIA']"
   ]
  },
  {
   "cell_type": "code",
   "execution_count": null,
   "metadata": {},
   "outputs": [],
   "source": []
  }
 ],
 "metadata": {
  "kernelspec": {
   "display_name": "Python 3",
   "language": "python",
   "name": "python3"
  },
  "language_info": {
   "codemirror_mode": {
    "name": "ipython",
    "version": 3
   },
   "file_extension": ".py",
   "mimetype": "text/x-python",
   "name": "python",
   "nbconvert_exporter": "python",
   "pygments_lexer": "ipython3",
   "version": "3.7.3"
  }
 },
 "nbformat": 4,
 "nbformat_minor": 2
}
