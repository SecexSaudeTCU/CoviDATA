{
 "cells": [
  {
   "cell_type": "code",
   "execution_count": 1,
   "metadata": {},
   "outputs": [],
   "source": [
    "import os\n",
    "from sortedcontainers import SortedSet\n",
    "import pandas as pd"
   ]
  },
  {
   "cell_type": "code",
   "execution_count": 2,
   "metadata": {},
   "outputs": [],
   "source": [
    "diretorio = 'C:\\\\Users\\\\moniq\\\\Documents\\\\TCU\\SecexSaude\\\\CoviDATA\\\\dados\\\\consolidados'"
   ]
  },
  {
   "cell_type": "code",
   "execution_count": 42,
   "metadata": {},
   "outputs": [],
   "source": [
    "colunas = SortedSet()\n",
    "map_colunas_planilhas = {}\n",
    "map_arquivos_dfs = {}\n",
    "\n",
    "for root, subdirs, files in os.walk(diretorio):\n",
    "    for file in files:\n",
    "        if len(file) <= 7:\n",
    "            df = pd.read_excel(os.path.join(root, file))\n",
    "            df = df.drop(columns='Unnamed: 0', axis=1, errors='ignore')\n",
    "            map_arquivos_dfs[file] = df\n",
    "            \n",
    "            for coluna in df.columns:\n",
    "                colunas.add(coluna)\n",
    "\n",
    "                if coluna not in map_colunas_planilhas.keys():\n",
    "                    map_colunas_planilhas[coluna] = []\n",
    "\n",
    "                map_colunas_planilhas[coluna].append(file)\n"
   ]
  },
  {
   "cell_type": "code",
   "execution_count": 43,
   "metadata": {},
   "outputs": [
    {
     "data": {
      "text/plain": [
       "SortedSet(['ACAO_COD', 'ACAO_DESCRICAO', 'ANO', 'COD_IBGE_MUNICIPIO', 'CONTRATADO_CNPJ', 'CONTRATADO_DESCRICAO', 'CONTRATANTE_DESCRICAO', 'CONTRATOS/OBSERVAÇÕES', 'COTA', 'CÓD.\\r\\n  DISPENSA', 'DATA DA ALIMENTAÇÃO', 'DATA PEDIDO', 'DATA RATIFICAÇÃO', 'DATA_ABERTURA', 'DATA_ASSINATURA', 'DATA_CELEBRACAO', 'DATA_EXTRACAO_DADOS', 'DATA_FECHAMENTO', 'DATA_FIM_VIGENCIA', 'DATA_INICIO_VIGENCIA', 'DESPESA_DESCRICAO', 'DESTINO', 'DOCUMENTO_DATA', 'DOCUMENTO_NUMERO', 'DURACAO', 'EDITAL DE LICITAÇÃO', 'ELEMENTO_DESPESA_DESCRICAO', 'ENQUADRAMENTO', 'ESFERA', 'FAVORECIDO_TIPO', 'FONTE_DADOS', 'FONTE_RECURSOS_COD', 'FONTE_RECURSOS_DESCRICAO', 'FUNDAMENTO_LEGAL', 'HORA_ABERTURA', 'HORA_FECHAMENTO', 'ID', 'INSTRUMENTO CONTRATUAL', 'ITEM_EMPENHO_DESCRICAO', 'ITEM_EMPENHO_QUANTIDADE', 'ITEM_EMPENHO_UNIDADE_MEDIDA', 'ITEM_EMPENHO_VALOR_TOTAL', 'ITEM_EMPENHO_VALOR_UNITARIO', 'LIK_EDITAL_CREDENCIAMENTO', 'LINK DO PROCESSO DE CONTRATAÇÃO/AQUISIÇÃO', 'LINK_CONTRATO', 'LINK_CONVENIO', 'LINK_JUSTIFICATIVA', 'LINK_MAPA_PRECOS', 'LINK_NOTA_TECNICA', 'LINK_PLANILHA_CONSOLIDADA', 'LINK_PLANO_DE_TRABALHO', 'LINK_PROCESSO', 'LINK_PROJETO_BASICO', 'LINK_PROPOSTA_EMPRESA', 'LINK_TERMO_ADITIVO', 'LINK_TERMO_COLOB_EMERG', 'LINK_TERMO_DE_REFERÊNCIA', 'LOCAL_EXECUCAO_OU_ENTREGA', 'MODALIDADE DA NOTA DE EMPENHO', 'MOD_APLICACAO_COD', 'MOD_APLIC_DESCRICAO', 'MOTIVAÇÃO/JUSTIFICATIVA', 'MUNICIPIO_DESCRICAO', 'NATUREZA', 'NE1', 'NE10', 'NE10CANCELADA', 'NE1CANCELADA', 'NE2', 'NE2CANCELADA', 'NE3', 'NE3CANCELADA', 'NE4', 'NE4CANCELADA', 'NE5', 'NE5CANCELADA', 'NE6', 'NE6CANCELADA', 'NE7', 'NE7CANCELADA', 'NE8', 'NE8CANCELADA', 'NE9', 'NE9CANCELADA', 'NUMERO_CONTRATO', 'NUMERO_PROCESSO', 'NUMERO_SIGA', 'NUM_CERTIDAO', 'Nº E ÍNTEGRA DO PROCESSO / CONTRATO', 'NÚMERO/ANO', 'ORGAO_SIGLA', 'PDFNE1', 'PDFNE10', 'PDFNE2', 'PDFNE3', 'PDFNE4', 'PDFNE5', 'PDFNE6', 'PDFNE7', 'PDFNE8', 'PDFNE9', 'PORTAL COVID-19', 'PRAZO DE VIGÊNCIA', 'PRAZO_EM_DIAS', 'PROCESSO E-COMPRAS', 'PROCESSO_LICITACAO', 'PUBLICAÇÃO DODF', 'PUBLICIDADE', 'RESPONSAVEL', 'SITUACAO EMPENHO', 'SITUAÇÃO CONTRATUAL', 'STATUS', 'TERMO', 'TERMO DE REFERÊNCIA / PROJETO BÁSICO', 'TIPO DE CREDOR', 'TIPO DESPESA', 'TIPO_DOCUMENTO', 'UF', 'UG_COD', 'UG_DESCRICAO', 'VALOR ANULADO', 'VALOR ATUAL', 'VALOR MENSAL', 'VALOR_EMPENHADO', 'VALOR_LIQUIDADO', 'VALOR_PAGO', 'VALOR_R$', 'VIGÊNCIA', 'ÍNTEGRA DO INSTRUMENTO CONTRATUAL'])"
      ]
     },
     "execution_count": 43,
     "metadata": {},
     "output_type": "execute_result"
    }
   ],
   "source": [
    "colunas"
   ]
  },
  {
   "cell_type": "code",
   "execution_count": 9,
   "metadata": {},
   "outputs": [],
   "source": [
    "#projeto, codigo de dispensa\n",
    "#Colunas relacionadas a data aparentemente repetidas\n",
    "#DATA (MS): sem documentação \n",
    "#DATA CONTRATO (RR) => DATA_CELEBRACAO\n",
    "#DATA DO ENCERRAMENTO (RJ): coluna vazia excluí\n",
    "#DATA FIM VIGÊNCIA (SC) => DATA_FIM_PREVISTO\n",
    "#DATA TÉRMINO (RR) => DATA_FIM_PREVISTO (nos dados, está como não informado) \n",
    "#DATA_FECHAMENTO (AL): sem  documentação\n",
    "#DATA_TERMINO (CE) => DATA_FIM_PREVISTO (tem datas no futuro)\n",
    "#DATA INÍCIO (RR) => INICIO_VIGENCIA\n",
    "#DATA INÍCIO PREVISTO (RJ) => INICIO_VIGENCIA\n",
    "#DATA INÍCIO VIGÊNCIA (SC) => INICIO_VIGENCIA"
   ]
  },
  {
   "cell_type": "code",
   "execution_count": 20,
   "metadata": {},
   "outputs": [
    {
     "data": {
      "text/plain": [
       "['AL.xlsx']"
      ]
     },
     "execution_count": 20,
     "metadata": {},
     "output_type": "execute_result"
    }
   ],
   "source": [
    "map_colunas_planilhas['DATA_FECHAMENTO']"
   ]
  },
  {
   "cell_type": "code",
   "execution_count": 21,
   "metadata": {},
   "outputs": [
    {
     "data": {
      "text/plain": [
       "array([nan, '2020-04-28T03:00:00.000000Z'], dtype=object)"
      ]
     },
     "execution_count": 21,
     "metadata": {},
     "output_type": "execute_result"
    }
   ],
   "source": [
    "#Não consegui rastrear a fonte original para checar o significado\n",
    "map_arquivos_dfs['AL.xlsx']['DATA_FECHAMENTO'].unique()"
   ]
  },
  {
   "cell_type": "code",
   "execution_count": 22,
   "metadata": {},
   "outputs": [
    {
     "data": {
      "text/plain": [
       "['AC.xlsx']"
      ]
     },
     "execution_count": 22,
     "metadata": {},
     "output_type": "execute_result"
    }
   ],
   "source": [
    "map_colunas_planilhas['DATA_FIM_VIGENCIA']"
   ]
  },
  {
   "cell_type": "code",
   "execution_count": 35,
   "metadata": {},
   "outputs": [
    {
     "data": {
      "text/plain": [
       "['AM.xlsx']"
      ]
     },
     "execution_count": 35,
     "metadata": {},
     "output_type": "execute_result"
    }
   ],
   "source": [
    "map_colunas_planilhas['CONTRATO']"
   ]
  },
  {
   "cell_type": "code",
   "execution_count": 36,
   "metadata": {},
   "outputs": [
    {
     "data": {
      "text/plain": [
       "array([nan, 'DESPESA ORDINÁRIA  ENTREGA IMEDIATA*',\n",
       "       'DESPESA ORDINÁRIA ENTREGA IMEDIATA',\n",
       "       'DESPESA ORDINÁRIA ENTREGA IMEDIATA*', 'CONTRATO 003/2020 ',\n",
       "       'CONTRATO 004/2020', 'CONTRATO 005/2020', 'Contrato 006/2020',\n",
       "       'Contrato 007/2020', 'Contrato 011/2020', 'Contrato 016/2020',\n",
       "       'Contrato 009/2020', 'Contrato 013/2020', 'Contrato 012/2020',\n",
       "       'Contrato 014/2020', 'Contrato 010/2020', 'Contrato 008/2020',\n",
       "       'Contrato 015/2020', 'Contrato 017/2020'], dtype=object)"
      ]
     },
     "execution_count": 36,
     "metadata": {},
     "output_type": "execute_result"
    }
   ],
   "source": [
    "map_arquivos_dfs['AM.xlsx']['CONTRATO'].unique()"
   ]
  },
  {
   "cell_type": "code",
   "execution_count": 37,
   "metadata": {},
   "outputs": [
    {
     "data": {
      "text/plain": [
       "['AP.xlsx']"
      ]
     },
     "execution_count": 37,
     "metadata": {},
     "output_type": "execute_result"
    }
   ],
   "source": [
    "map_colunas_planilhas['DATA DE CELEBRAÇÃO / PUBLICAÇÃO']"
   ]
  },
  {
   "cell_type": "code",
   "execution_count": 39,
   "metadata": {},
   "outputs": [
    {
     "data": {
      "text/plain": [
       "array([nan, '13/07/2020', '13/05/2020', '29/05/2020', '19/06/2020',\n",
       "       '08/06/2020', '26/05/2020', '25/05/2020', '27/04/2020',\n",
       "       '22/05/2020', '27/03/2020', '03/06/2020', '19/05/2020',\n",
       "       '01/04/2020', '03/04/2020', '24/04/2020', '07/04/2020',\n",
       "       '26/03/2020', '23/04/2020', '30/03/2020', '08/04/2020'],\n",
       "      dtype=object)"
      ]
     },
     "execution_count": 39,
     "metadata": {},
     "output_type": "execute_result"
    }
   ],
   "source": [
    "map_arquivos_dfs['AP.xlsx']['DATA DE CELEBRAÇÃO / PUBLICAÇÃO'].unique()"
   ]
  },
  {
   "cell_type": "code",
   "execution_count": null,
   "metadata": {},
   "outputs": [],
   "source": []
  }
 ],
 "metadata": {
  "kernelspec": {
   "display_name": "Python 3",
   "language": "python",
   "name": "python3"
  },
  "language_info": {
   "codemirror_mode": {
    "name": "ipython",
    "version": 3
   },
   "file_extension": ".py",
   "mimetype": "text/x-python",
   "name": "python",
   "nbconvert_exporter": "python",
   "pygments_lexer": "ipython3",
   "version": "3.7.3"
  }
 },
 "nbformat": 4,
 "nbformat_minor": 2
}
