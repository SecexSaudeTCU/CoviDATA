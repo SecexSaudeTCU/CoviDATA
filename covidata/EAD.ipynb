{
 "cells": [
  {
   "cell_type": "code",
   "execution_count": 1,
   "metadata": {},
   "outputs": [],
   "source": [
    "import os\n",
    "from sortedcontainers import SortedSet\n",
    "import pandas as pd"
   ]
  },
  {
   "cell_type": "code",
   "execution_count": 2,
   "metadata": {},
   "outputs": [],
   "source": [
    "diretorio = 'C:\\\\Users\\\\moniq\\\\Documents\\\\TCU\\SecexSaude\\\\CoviDATA\\\\dados\\\\consolidados'"
   ]
  },
  {
   "cell_type": "code",
   "execution_count": 3,
   "metadata": {},
   "outputs": [],
   "source": [
    "colunas = SortedSet()\n",
    "map_colunas_planilhas = {}\n",
    "map_arquivos_dfs = {}\n",
    "\n",
    "for root, subdirs, files in os.walk(diretorio):\n",
    "    for file in files:\n",
    "        if len(file) <= 7:\n",
    "            df = pd.read_excel(os.path.join(root, file))\n",
    "            df = df.drop(columns='Unnamed: 0', axis=1, errors='ignore')\n",
    "            map_arquivos_dfs[file] = df\n",
    "            \n",
    "            for coluna in df.columns:\n",
    "                colunas.add(coluna)\n",
    "\n",
    "                if coluna not in map_colunas_planilhas.keys():\n",
    "                    map_colunas_planilhas[coluna] = []\n",
    "\n",
    "                map_colunas_planilhas[coluna].append(file)\n"
   ]
  },
  {
   "cell_type": "code",
   "execution_count": 4,
   "metadata": {},
   "outputs": [
    {
     "data": {
      "text/plain": [
       "SortedSet(['ANO', 'COD_IBGE_MUNICIPIO', 'CONTRATADO_CNPJ', 'CONTRATADO_DESCRICAO', 'CONTRATANTE_CNPJ', 'CONTRATANTE_DESCRICAO', 'CONTRATOS/OBSERVAÇÕES', 'CÓD.\\r\\n  DISPENSA', 'DATA DA ALIMENTAÇÃO', 'DATA PEDIDO', 'DATA_ASSINATURA', 'DATA_EXTRACAO_DADOS', 'DATA_FIM_VIGENCIA', 'DESPESA_DESCRICAO', 'DOCUMENTO_DATA', 'DOCUMENTO_NUMERO', 'ESFERA', 'FAVORECIDO_TIPO', 'FONTE_DADOS', 'FONTE_RECURSOS_COD', 'FUNDAMENTO_LEGAL', 'MOD_APLIC_DESCRICAO', 'MUNICIPIO_DESCRICAO', 'NUMERO_CONTRATO', 'NUMERO_PROCESSO', 'Nº PROCESSO', 'TIPO DE CREDOR', 'TIPO_DOCUMENTO', 'UF', 'UG_DESCRICAO', 'VALOR_EMPENHADO', 'VALOR_R$'])"
      ]
     },
     "execution_count": 4,
     "metadata": {},
     "output_type": "execute_result"
    }
   ],
   "source": [
    "colunas"
   ]
  },
  {
   "cell_type": "code",
   "execution_count": 5,
   "metadata": {},
   "outputs": [
    {
     "data": {
      "text/plain": [
       "['AC.xlsx']"
      ]
     },
     "execution_count": 5,
     "metadata": {},
     "output_type": "execute_result"
    }
   ],
   "source": [
    "map_colunas_planilhas['NUMERO_PROCESSO']"
   ]
  },
  {
   "cell_type": "code",
   "execution_count": 6,
   "metadata": {},
   "outputs": [
    {
     "data": {
      "text/plain": [
       "array([  nan, 1279., 1288., 1383., 1382., 1321., 1371., 1381.])"
      ]
     },
     "execution_count": 6,
     "metadata": {},
     "output_type": "execute_result"
    }
   ],
   "source": [
    "map_arquivos_dfs['AC.xlsx']['NUMERO_PROCESSO'].unique()"
   ]
  },
  {
   "cell_type": "code",
   "execution_count": 7,
   "metadata": {},
   "outputs": [
    {
     "data": {
      "text/plain": [
       "['AC.xlsx']"
      ]
     },
     "execution_count": 7,
     "metadata": {},
     "output_type": "execute_result"
    }
   ],
   "source": [
    "map_colunas_planilhas['Nº PROCESSO']"
   ]
  },
  {
   "cell_type": "code",
   "execution_count": 8,
   "metadata": {},
   "outputs": [
    {
     "data": {
      "text/plain": [
       "array([nan, '19-20-0010908\\xa0', '\\t 0007.009187.00006/2020-11',\n",
       "       'D N de Souza Eireli', '004/2020', '09/2020', '014/2020',\n",
       "       '016/2020', '013/2020', '\\n19-20-0022902\\n', '\\n19-20-0011583\\n',\n",
       "       '\\n19.05.0050.0001902/2020-09\\n', '\\n19.05.0050.0001933/2020-45\\n',\n",
       "       '\\n19-20-0032807\\n', '\\n19-20-0011491\\n', '\\n19-20-0032855\\n',\n",
       "       '\\n013/2020\\n', '\\n003/2020/SEMSA\\n', '\\n002/2020/SEMSA\\n',\n",
       "       '\\n19-20-0032806\\n', '\\n0819.012803.00129/2020-06\\n',\n",
       "       '\\n007/2020\\n', '\\n016/2020\\n', '\\n14/2020/SEJUSP\\n',\n",
       "       '\\n10/2020/SEJUSP\\n', '\\n19-20-0011560\\n', '\\n014/2020\\n',\n",
       "       '\\n19-20-0032824\\n', '\\n19-20-0010911\\n', '\\n19-20-0000964\\n',\n",
       "       '\\n401601194800023/2020-93\\n', '\\n66.2020.03 DCLC\\n',\n",
       "       '\\n010/2020\\n', '\\n401601192400038/2020-75\\n', '\\n127/2020\\n',\n",
       "       '\\n\\xa008/2020\\n', '\\n061.2020.90\\r\\n  DCLC\\n',\n",
       "       '\\n\\xa0061.2020.90 DCLC\\n', '\\n003/2020\\n', '\\n\\xa0010/2020\\n',\n",
       "       '\\n\\xa0003/2020\\n', '\\n\\xa009/2020\\n',\n",
       "       '\\n\\xa00007.009187.00006/2020-11\\n', '\\n\\xa019-20-0010908\\n'],\n",
       "      dtype=object)"
      ]
     },
     "execution_count": 8,
     "metadata": {},
     "output_type": "execute_result"
    }
   ],
   "source": [
    "map_arquivos_dfs['AC.xlsx']['Nº PROCESSO'].unique()"
   ]
  },
  {
   "cell_type": "code",
   "execution_count": null,
   "metadata": {},
   "outputs": [],
   "source": [
    "#projeto, codigo de dispensa\n",
    "#Colunas relacionadas a data aparentemente repetidas\n",
    "#DATA (MS): sem documentação \n",
    "#DATA CONTRATO (RR) => DATA_CELEBRACAO\n",
    "#DATA DO ENCERRAMENTO (RJ): coluna vazia excluí\n",
    "#DATA FIM VIGÊNCIA (SC) => DATA_FIM_PREVISTO\n",
    "#DATA TÉRMINO (RR) => DATA_FIM_PREVISTO (nos dados, está como não informado) \n",
    "#DATA_FECHAMENTO (AL): sem  documentação\n",
    "#DATA_TERMINO (CE) => DATA_FIM_PREVISTO (tem datas no futuro)\n",
    "#DATA INÍCIO (RR) => INICIO_VIGENCIA\n",
    "#DATA INÍCIO PREVISTO (RJ) => INICIO_VIGENCIA\n",
    "#DATA INÍCIO VIGÊNCIA (SC) => INICIO_VIGENCIA"
   ]
  },
  {
   "cell_type": "code",
   "execution_count": null,
   "metadata": {},
   "outputs": [],
   "source": [
    "map_colunas_planilhas['DATA']"
   ]
  },
  {
   "cell_type": "code",
   "execution_count": null,
   "metadata": {},
   "outputs": [],
   "source": [
    "#Não tem dicionário de dados explicando o significado \n",
    "map_arquivos_dfs['MS.xlsx']['DATA'].unique()"
   ]
  },
  {
   "cell_type": "code",
   "execution_count": null,
   "metadata": {},
   "outputs": [],
   "source": [
    "map_colunas_planilhas['DATA CONTRATO']"
   ]
  },
  {
   "cell_type": "code",
   "execution_count": null,
   "metadata": {},
   "outputs": [],
   "source": [
    "#Segundo rastreamento do código do scraping, é a data de celebração: \n",
    "map_arquivos_dfs['RR.xlsx']['DATA CONTRATO'].unique()"
   ]
  },
  {
   "cell_type": "code",
   "execution_count": null,
   "metadata": {},
   "outputs": [],
   "source": [
    "map_colunas_planilhas['DATA DO ENCERRAMENTO']"
   ]
  },
  {
   "cell_type": "code",
   "execution_count": null,
   "metadata": {},
   "outputs": [],
   "source": [
    "map_arquivos_dfs['RJ.xlsx']['DATA DO ENCERRAMENTO'].unique()"
   ]
  },
  {
   "cell_type": "code",
   "execution_count": null,
   "metadata": {},
   "outputs": [],
   "source": [
    "map_colunas_planilhas['DATA FIM VIGÊNCIA']"
   ]
  },
  {
   "cell_type": "code",
   "execution_count": null,
   "metadata": {},
   "outputs": [],
   "source": [
    "#Segundo o dicionário de dados, é a data de término da vigência do contrato\n",
    "map_arquivos_dfs['SC.xlsx']['DATA FIM VIGÊNCIA'].unique()"
   ]
  },
  {
   "cell_type": "code",
   "execution_count": null,
   "metadata": {},
   "outputs": [],
   "source": [
    "map_colunas_planilhas['DATA TÉRMINO']"
   ]
  },
  {
   "cell_type": "code",
   "execution_count": null,
   "metadata": {},
   "outputs": [],
   "source": [
    "map_arquivos_dfs['RR.xlsx']['DATA TÉRMINO'].unique()"
   ]
  },
  {
   "cell_type": "code",
   "execution_count": null,
   "metadata": {},
   "outputs": [],
   "source": [
    "map_colunas_planilhas['DATA_FECHAMENTO']"
   ]
  },
  {
   "cell_type": "code",
   "execution_count": null,
   "metadata": {},
   "outputs": [],
   "source": [
    "#Não consegui rastrear a fonte original para checar o significado\n",
    "map_arquivos_dfs['AL.xlsx']['DATA_FECHAMENTO'].unique()"
   ]
  },
  {
   "cell_type": "code",
   "execution_count": null,
   "metadata": {},
   "outputs": [],
   "source": [
    "map_colunas_planilhas['DATA_FIM_VIGENCIA']"
   ]
  },
  {
   "cell_type": "code",
   "execution_count": null,
   "metadata": {},
   "outputs": [],
   "source": [
    "map_arquivos_dfs['MG.xlsx']['DATA_FIM_VIGENCIA'].unique()"
   ]
  },
  {
   "cell_type": "code",
   "execution_count": null,
   "metadata": {},
   "outputs": [],
   "source": [
    "map_colunas_planilhas['DATA_TERMINO']"
   ]
  },
  {
   "cell_type": "code",
   "execution_count": null,
   "metadata": {},
   "outputs": [],
   "source": [
    "map_arquivos_dfs['CE.xlsx']['DATA_TERMINO'].unique()"
   ]
  },
  {
   "cell_type": "code",
   "execution_count": null,
   "metadata": {},
   "outputs": [],
   "source": [
    "map_colunas_planilhas['DATA_VIGENCIA']"
   ]
  },
  {
   "cell_type": "code",
   "execution_count": null,
   "metadata": {},
   "outputs": [],
   "source": [
    "map_arquivos_dfs['MT.xlsx']['DATA_VIGENCIA'].unique()"
   ]
  },
  {
   "cell_type": "code",
   "execution_count": null,
   "metadata": {},
   "outputs": [],
   "source": [
    "map_colunas_planilhas['DATA INÍCIO']"
   ]
  },
  {
   "cell_type": "code",
   "execution_count": null,
   "metadata": {},
   "outputs": [],
   "source": [
    "map_arquivos_dfs['RR.xlsx']['DATA INÍCIO'].unique()"
   ]
  },
  {
   "cell_type": "code",
   "execution_count": null,
   "metadata": {},
   "outputs": [],
   "source": [
    "map_colunas_planilhas['DATA INÍCIO PREVISTO']"
   ]
  },
  {
   "cell_type": "code",
   "execution_count": null,
   "metadata": {},
   "outputs": [],
   "source": [
    "map_arquivos_dfs['RJ.xlsx']['DATA INÍCIO PREVISTO'].unique()"
   ]
  },
  {
   "cell_type": "code",
   "execution_count": null,
   "metadata": {},
   "outputs": [],
   "source": [
    "map_colunas_planilhas['DATA INÍCIO VIGÊNCIA']"
   ]
  },
  {
   "cell_type": "code",
   "execution_count": null,
   "metadata": {},
   "outputs": [],
   "source": []
  }
 ],
 "metadata": {
  "kernelspec": {
   "display_name": "Python 3",
   "language": "python",
   "name": "python3"
  },
  "language_info": {
   "codemirror_mode": {
    "name": "ipython",
    "version": 3
   },
   "file_extension": ".py",
   "mimetype": "text/x-python",
   "name": "python",
   "nbconvert_exporter": "python",
   "pygments_lexer": "ipython3",
   "version": "3.7.3"
  }
 },
 "nbformat": 4,
 "nbformat_minor": 2
}
