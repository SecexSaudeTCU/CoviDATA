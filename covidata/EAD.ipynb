{
 "cells": [
  {
   "cell_type": "code",
   "execution_count": 1,
   "metadata": {},
   "outputs": [],
   "source": [
    "import os\n",
    "from sortedcontainers import SortedSet\n",
    "import pandas as pd"
   ]
  },
  {
   "cell_type": "code",
   "execution_count": 2,
   "metadata": {},
   "outputs": [],
   "source": [
    "diretorio = 'C:\\\\Users\\\\moniq\\\\Documents\\\\TCU\\SecexSaude\\\\CoviDATA\\\\dados\\\\consolidados'"
   ]
  },
  {
   "cell_type": "code",
   "execution_count": 12,
   "metadata": {},
   "outputs": [],
   "source": [
    "colunas = SortedSet()\n",
    "map_colunas_planilhas = {}\n",
    "map_arquivos_dfs = {}\n",
    "\n",
    "for root, subdirs, files in os.walk(diretorio):\n",
    "    for file in files:\n",
    "        if len(file) <= 7:\n",
    "            df = pd.read_excel(os.path.join(root, file))\n",
    "            df = df.drop(columns='Unnamed: 0', axis=1, errors='ignore')\n",
    "            map_arquivos_dfs[file] = df\n",
    "            \n",
    "            for coluna in df.columns:\n",
    "                colunas.add(coluna)\n",
    "\n",
    "                if coluna not in map_colunas_planilhas.keys():\n",
    "                    map_colunas_planilhas[coluna] = []\n",
    "\n",
    "                map_colunas_planilhas[coluna].append(file)\n"
   ]
  },
  {
   "cell_type": "code",
   "execution_count": 13,
   "metadata": {},
   "outputs": [
    {
     "data": {
      "text/plain": [
       "SortedSet(['ANO', 'COD_IBGE_MUNICIPIO', 'CONTRATADO_CNPJ', 'CONTRATADO_DESCRICAO', 'CONTRATANTE_DESCRICAO', 'CONTRATO', 'CONTRATOS/OBSERVAÇÕES', 'COTA', 'CÓD.\\r\\n  DISPENSA', 'DATA DA ALIMENTAÇÃO', 'DATA DE CELEBRAÇÃO / PUBLICAÇÃO', 'DATA PEDIDO', 'DATA RATIFICAÇÃO', 'DATA_ABERTURA', 'DATA_ASSINATURA', 'DATA_CELEBRACAO', 'DATA_EXTRACAO_DADOS', 'DATA_FECHAMENTO', 'DATA_FIM_VIGENCIA', 'DATA_INICIO_VIGENCIA', 'DESPESA_DESCRICAO', 'DESTINAÇÃO DE USO', 'DESTINO', 'DOCUMENTO_DATA', 'DOCUMENTO_NUMERO', 'DURACAO', 'EDITAL DE LICITAÇÃO', 'ELEMENTO_DESPESA_DESCRICAO', 'ENQUADRAMENTO', 'ESFERA', 'FAVORECIDO_TIPO', 'FONTE CONTRATADO DOAÇÕES', 'FONTE CONTRATADO ESTADUAL', 'FONTE CONTRATADO FEDERAL', 'FONTE PAGO DOAÇÕES', 'FONTE PAGO ESTADUAL', 'FONTE PAGO FEDERAL', 'FONTE_DADOS', 'FONTE_RECURSOS_COD', 'FONTE_RECURSOS_DESCRICAO', 'FUNDAMENTO_LEGAL', 'HORA_ABERTURA', 'HORA_FECHAMENTO', 'ID', 'INSTRUMENTO CONTRATUAL', 'INTEGRA_CONTRATO', 'ITEM_EMPENHO_DESCRICAO', 'ITEM_EMPENHO_QUANTIDADE', 'ITEM_EMPENHO_UNIDADE_MEDIDA', 'ITEM_EMPENHO_VALOR_TOTAL', 'ITEM_EMPENHO_VALOR_UNITARIO', 'LIK_EDITAL_CREDENCIAMENTO', 'LINK DO PROCESSO DE CONTRATAÇÃO/AQUISIÇÃO', 'LINK_CONTRATO', 'LINK_CONVENIO', 'LINK_JUSTIFICATIVA', 'LINK_MAPA_PRECOS', 'LINK_NOTA_TECNICA', 'LINK_PLANILHA_CONSOLIDADA', 'LINK_PLANO_DE_TRABALHO', 'LINK_PROCESSO', 'LINK_PROJETO_BASICO', 'LINK_PROPOSTA_EMPRESA', 'LINK_TERMO_ADITIVO', 'LINK_TERMO_COLOB_EMERG', 'LINK_TERMO_DE_REFERÊNCIA', 'LOCAL_EXECUCAO_OU_ENTREGA', 'MODALIDADE DA NOTA DE EMPENHO', 'MOD_APLICACAO_COD', 'MOD_APLIC_DESCRICAO', 'MOTIVAÇÃO/JUSTIFICATIVA', 'MUNICIPIO_DESCRICAO', 'NATUREZA', 'NE1', 'NE10', 'NE10CANCELADA', 'NE1CANCELADA', 'NE2', 'NE2CANCELADA', 'NE3', 'NE3CANCELADA', 'NE4', 'NE4CANCELADA', 'NE5', 'NE5CANCELADA', 'NE6', 'NE6CANCELADA', 'NE7', 'NE7CANCELADA', 'NE8', 'NE8CANCELADA', 'NE9', 'NE9CANCELADA', 'NUMERO_CONTRATO', 'NUMERO_PROCESSO', 'NUMERO_SIGA', 'NUM_CERTIDAO', 'Nº E ÍNTEGRA DO PROCESSO / CONTRATO', 'Nº PROCESSO', 'NÚMERO\\r\\n  PROCESSO', 'NÚMERO / ANO DO INSTRUMENTO CONTRATUAL', 'NÚMERO DO PROCESSO DE CONTRATAÇÃO / AQUISIÇÃO', 'NÚMERO/ANO', 'ORGAO_SIGLA', 'PDFNE1', 'PDFNE10', 'PDFNE2', 'PDFNE3', 'PDFNE4', 'PDFNE5', 'PDFNE6', 'PDFNE7', 'PDFNE8', 'PDFNE9', 'PORTAL COVID-19', 'PRAZO CONTRATUAL', 'PRAZO DE VIGÊNCIA', 'PRAZO_EM_DIAS', 'PROCESSO E-COMPRAS', 'PROCESSO/ANO', 'PROCESSO_LICITACAO', 'PUBLICAÇÃO DODF', 'PUBLICIDADE', 'RESPONSAVEL', 'SITUACAO EMPENHO', 'STATUS', 'TERMO', 'TERMO DE REFERÊNCIA / PROJETO BÁSICO', 'TIPO DE CREDOR', 'TIPO DESPESA', 'TIPO_DOCUMENTO', 'UF', 'UG_COD', 'UG_DESCRICAO', 'VALOR ANULADO', 'VALOR ATUAL', 'VALOR MENSAL', 'VALOR_EMPENHADO', 'VALOR_LIQUIDADO', 'VALOR_PAGO', 'VALOR_R$', 'VIGÊNCIA', 'ÍNTEGRA DO INSTRUMENTO CONTRATUAL'])"
      ]
     },
     "execution_count": 13,
     "metadata": {},
     "output_type": "execute_result"
    }
   ],
   "source": [
    "colunas"
   ]
  },
  {
   "cell_type": "code",
   "execution_count": 23,
   "metadata": {},
   "outputs": [
    {
     "data": {
      "text/plain": [
       "['AP.xlsx']"
      ]
     },
     "execution_count": 23,
     "metadata": {},
     "output_type": "execute_result"
    }
   ],
   "source": [
    "map_colunas_planilhas['PRAZO CONTRATUAL']"
   ]
  },
  {
   "cell_type": "code",
   "execution_count": 24,
   "metadata": {},
   "outputs": [
    {
     "data": {
      "text/plain": [
       "array([nan, '13/05/2020 a 13/07/2020', '29/05/2020 a 28/06/2020',\n",
       "       '13/05/2020 a 13/06/2020', '19/05/2020 a 19/06/2020',\n",
       "       '15/05/2020 a 08/06/2020', '15/05/2020 a 26/05/2020',\n",
       "       '15/05/2020 a 25/05/2020', '13/05/2020 a 13/05/2020',\n",
       "       '27/04/2020 a 26/10/2020', '22/05/2020 a 21/06/2020',\n",
       "       '27/03/2020 a 26/06/2020', '03/06/2020 a 01/09/2020',\n",
       "       '19/05/2020 a 16/09/2020', '01/04/2020 a 30/04/2020',\n",
       "       '03/04/2020 a 05/10/2020', '24/04/2020 a 25/10/2020',\n",
       "       '07/04/2020 a 06/10/2020', '26/03/2020 a 13/04/2020',\n",
       "       '02/04/2020 a 02/05/2020', '30/03/2020 a 06/04/2020',\n",
       "       '08/04/2020 a 08/04/2020'], dtype=object)"
      ]
     },
     "execution_count": 24,
     "metadata": {},
     "output_type": "execute_result"
    }
   ],
   "source": [
    "map_arquivos_dfs['AP.xlsx']['PRAZO CONTRATUAL'].unique()"
   ]
  },
  {
   "cell_type": "code",
   "execution_count": 7,
   "metadata": {},
   "outputs": [
    {
     "data": {
      "text/plain": [
       "['AC.xlsx']"
      ]
     },
     "execution_count": 7,
     "metadata": {},
     "output_type": "execute_result"
    }
   ],
   "source": [
    "map_colunas_planilhas['Nº PROCESSO']"
   ]
  },
  {
   "cell_type": "code",
   "execution_count": 8,
   "metadata": {},
   "outputs": [
    {
     "data": {
      "text/plain": [
       "array([nan, '19-20-0010908\\xa0', '\\t 0007.009187.00006/2020-11',\n",
       "       'D N de Souza Eireli', '004/2020', '09/2020', '014/2020',\n",
       "       '016/2020', '013/2020', '\\n19-20-0022902\\n', '\\n19-20-0011583\\n',\n",
       "       '\\n19.05.0050.0001902/2020-09\\n', '\\n19.05.0050.0001933/2020-45\\n',\n",
       "       '\\n19-20-0032807\\n', '\\n19-20-0011491\\n', '\\n19-20-0032855\\n',\n",
       "       '\\n013/2020\\n', '\\n003/2020/SEMSA\\n', '\\n002/2020/SEMSA\\n',\n",
       "       '\\n19-20-0032806\\n', '\\n0819.012803.00129/2020-06\\n',\n",
       "       '\\n007/2020\\n', '\\n016/2020\\n', '\\n14/2020/SEJUSP\\n',\n",
       "       '\\n10/2020/SEJUSP\\n', '\\n19-20-0011560\\n', '\\n014/2020\\n',\n",
       "       '\\n19-20-0032824\\n', '\\n19-20-0010911\\n', '\\n19-20-0000964\\n',\n",
       "       '\\n401601194800023/2020-93\\n', '\\n66.2020.03 DCLC\\n',\n",
       "       '\\n010/2020\\n', '\\n401601192400038/2020-75\\n', '\\n127/2020\\n',\n",
       "       '\\n\\xa008/2020\\n', '\\n061.2020.90\\r\\n  DCLC\\n',\n",
       "       '\\n\\xa0061.2020.90 DCLC\\n', '\\n003/2020\\n', '\\n\\xa0010/2020\\n',\n",
       "       '\\n\\xa0003/2020\\n', '\\n\\xa009/2020\\n',\n",
       "       '\\n\\xa00007.009187.00006/2020-11\\n', '\\n\\xa019-20-0010908\\n'],\n",
       "      dtype=object)"
      ]
     },
     "execution_count": 8,
     "metadata": {},
     "output_type": "execute_result"
    }
   ],
   "source": [
    "map_arquivos_dfs['AC.xlsx']['Nº PROCESSO'].unique()"
   ]
  },
  {
   "cell_type": "code",
   "execution_count": null,
   "metadata": {},
   "outputs": [],
   "source": [
    "#projeto, codigo de dispensa\n",
    "#Colunas relacionadas a data aparentemente repetidas\n",
    "#DATA (MS): sem documentação \n",
    "#DATA CONTRATO (RR) => DATA_CELEBRACAO\n",
    "#DATA DO ENCERRAMENTO (RJ): coluna vazia excluí\n",
    "#DATA FIM VIGÊNCIA (SC) => DATA_FIM_PREVISTO\n",
    "#DATA TÉRMINO (RR) => DATA_FIM_PREVISTO (nos dados, está como não informado) \n",
    "#DATA_FECHAMENTO (AL): sem  documentação\n",
    "#DATA_TERMINO (CE) => DATA_FIM_PREVISTO (tem datas no futuro)\n",
    "#DATA INÍCIO (RR) => INICIO_VIGENCIA\n",
    "#DATA INÍCIO PREVISTO (RJ) => INICIO_VIGENCIA\n",
    "#DATA INÍCIO VIGÊNCIA (SC) => INICIO_VIGENCIA"
   ]
  },
  {
   "cell_type": "code",
   "execution_count": null,
   "metadata": {},
   "outputs": [],
   "source": [
    "map_colunas_planilhas['DATA']"
   ]
  },
  {
   "cell_type": "code",
   "execution_count": null,
   "metadata": {},
   "outputs": [],
   "source": [
    "#Não tem dicionário de dados explicando o significado \n",
    "map_arquivos_dfs['MS.xlsx']['DATA'].unique()"
   ]
  },
  {
   "cell_type": "code",
   "execution_count": null,
   "metadata": {},
   "outputs": [],
   "source": [
    "map_colunas_planilhas['DATA CONTRATO']"
   ]
  },
  {
   "cell_type": "code",
   "execution_count": null,
   "metadata": {},
   "outputs": [],
   "source": [
    "#Segundo rastreamento do código do scraping, é a data de celebração: \n",
    "map_arquivos_dfs['RR.xlsx']['DATA CONTRATO'].unique()"
   ]
  },
  {
   "cell_type": "code",
   "execution_count": null,
   "metadata": {},
   "outputs": [],
   "source": [
    "map_colunas_planilhas['DATA DO ENCERRAMENTO']"
   ]
  },
  {
   "cell_type": "code",
   "execution_count": null,
   "metadata": {},
   "outputs": [],
   "source": [
    "map_arquivos_dfs['RJ.xlsx']['DATA DO ENCERRAMENTO'].unique()"
   ]
  },
  {
   "cell_type": "code",
   "execution_count": null,
   "metadata": {},
   "outputs": [],
   "source": [
    "map_colunas_planilhas['DATA FIM VIGÊNCIA']"
   ]
  },
  {
   "cell_type": "code",
   "execution_count": null,
   "metadata": {},
   "outputs": [],
   "source": [
    "#Segundo o dicionário de dados, é a data de término da vigência do contrato\n",
    "map_arquivos_dfs['SC.xlsx']['DATA FIM VIGÊNCIA'].unique()"
   ]
  },
  {
   "cell_type": "code",
   "execution_count": null,
   "metadata": {},
   "outputs": [],
   "source": [
    "map_colunas_planilhas['DATA TÉRMINO']"
   ]
  },
  {
   "cell_type": "code",
   "execution_count": null,
   "metadata": {},
   "outputs": [],
   "source": [
    "map_arquivos_dfs['RR.xlsx']['DATA TÉRMINO'].unique()"
   ]
  },
  {
   "cell_type": "code",
   "execution_count": null,
   "metadata": {},
   "outputs": [],
   "source": [
    "map_colunas_planilhas['DATA_FECHAMENTO']"
   ]
  },
  {
   "cell_type": "code",
   "execution_count": null,
   "metadata": {},
   "outputs": [],
   "source": [
    "#Não consegui rastrear a fonte original para checar o significado\n",
    "map_arquivos_dfs['AL.xlsx']['DATA_FECHAMENTO'].unique()"
   ]
  },
  {
   "cell_type": "code",
   "execution_count": null,
   "metadata": {},
   "outputs": [],
   "source": [
    "map_colunas_planilhas['DATA_FIM_VIGENCIA']"
   ]
  },
  {
   "cell_type": "code",
   "execution_count": null,
   "metadata": {},
   "outputs": [],
   "source": [
    "map_arquivos_dfs['MG.xlsx']['DATA_FIM_VIGENCIA'].unique()"
   ]
  },
  {
   "cell_type": "code",
   "execution_count": null,
   "metadata": {},
   "outputs": [],
   "source": [
    "map_colunas_planilhas['DATA_TERMINO']"
   ]
  },
  {
   "cell_type": "code",
   "execution_count": null,
   "metadata": {},
   "outputs": [],
   "source": [
    "map_arquivos_dfs['CE.xlsx']['DATA_TERMINO'].unique()"
   ]
  },
  {
   "cell_type": "code",
   "execution_count": null,
   "metadata": {},
   "outputs": [],
   "source": [
    "map_colunas_planilhas['DATA_VIGENCIA']"
   ]
  },
  {
   "cell_type": "code",
   "execution_count": null,
   "metadata": {},
   "outputs": [],
   "source": [
    "map_arquivos_dfs['MT.xlsx']['DATA_VIGENCIA'].unique()"
   ]
  },
  {
   "cell_type": "code",
   "execution_count": null,
   "metadata": {},
   "outputs": [],
   "source": [
    "map_colunas_planilhas['DATA INÍCIO']"
   ]
  },
  {
   "cell_type": "code",
   "execution_count": null,
   "metadata": {},
   "outputs": [],
   "source": [
    "map_arquivos_dfs['RR.xlsx']['DATA INÍCIO'].unique()"
   ]
  },
  {
   "cell_type": "code",
   "execution_count": null,
   "metadata": {},
   "outputs": [],
   "source": [
    "map_colunas_planilhas['DATA INÍCIO PREVISTO']"
   ]
  },
  {
   "cell_type": "code",
   "execution_count": null,
   "metadata": {},
   "outputs": [],
   "source": [
    "map_arquivos_dfs['RJ.xlsx']['DATA INÍCIO PREVISTO'].unique()"
   ]
  },
  {
   "cell_type": "code",
   "execution_count": null,
   "metadata": {},
   "outputs": [],
   "source": [
    "map_colunas_planilhas['DATA INÍCIO VIGÊNCIA']"
   ]
  },
  {
   "cell_type": "code",
   "execution_count": null,
   "metadata": {},
   "outputs": [],
   "source": []
  }
 ],
 "metadata": {
  "kernelspec": {
   "display_name": "Python 3",
   "language": "python",
   "name": "python3"
  },
  "language_info": {
   "codemirror_mode": {
    "name": "ipython",
    "version": 3
   },
   "file_extension": ".py",
   "mimetype": "text/x-python",
   "name": "python",
   "nbconvert_exporter": "python",
   "pygments_lexer": "ipython3",
   "version": "3.7.3"
  }
 },
 "nbformat": 4,
 "nbformat_minor": 2
}
