{
 "cells": [
  {
   "cell_type": "code",
   "execution_count": 1,
   "metadata": {},
   "outputs": [],
   "source": [
    "import os\n",
    "from sortedcontainers import SortedSet\n",
    "import pandas as pd"
   ]
  },
  {
   "cell_type": "code",
   "execution_count": 2,
   "metadata": {},
   "outputs": [],
   "source": [
    "diretorio = 'C:\\\\Users\\\\moniq\\\\Documents\\\\TCU\\SecexSaude\\\\CoviDATA\\\\dados\\\\consolidados'"
   ]
  },
  {
   "cell_type": "code",
   "execution_count": 9,
   "metadata": {},
   "outputs": [],
   "source": [
    "colunas = SortedSet()\n",
    "map_colunas_planilhas = {}\n",
    "map_arquivos_dfs = {}\n",
    "\n",
    "for root, subdirs, files in os.walk(diretorio):\n",
    "    for file in files:\n",
    "        if len(file) <= 7:\n",
    "            df = pd.read_excel(os.path.join(root, file))\n",
    "            df = df.drop(columns='Unnamed: 0', axis=1, errors='ignore')\n",
    "            map_arquivos_dfs[file] = df\n",
    "            \n",
    "            for coluna in df.columns:\n",
    "                colunas.add(coluna)\n",
    "\n",
    "                if coluna not in map_colunas_planilhas.keys():\n",
    "                    map_colunas_planilhas[coluna] = []\n",
    "\n",
    "                map_colunas_planilhas[coluna].append(file)\n"
   ]
  },
  {
   "cell_type": "code",
   "execution_count": 12,
   "metadata": {},
   "outputs": [
    {
     "data": {
      "text/plain": [
       "SortedSet(['A PAGAR', 'ACAO_COD', 'ACAO_DESCRICAO', 'ADITIVOS', 'AFASTAMENTO', 'AGENCIA', 'ANO', 'ANULADO', 'ANULAÇÃO/ REVOGAÇÃO/ RETIFICAÇÃO/\\nSUSPENSÃO', 'ASPS', 'BANCO', 'BOLETIM DE PAGAMENTO', 'CATEGORIA_ECONOMICA_COD', 'CATEGORIA_ECONOMICA_DESCRICAO', 'CELEBRAÇÃO', 'CNPJ ARREMATANTE', 'CODESPECIFICACAODESPESA', 'CODORGAO', 'CODPROJETO', 'COD_IBGE_MUNICIPIO', 'CONTA_CORRENTE', 'CONTRATADO_CNPJ', 'CONTRATADO_DESCRICAO', 'CONTRATANTE_CNPJ', 'CONTRATANTE_DESCRICAO', 'CONTRATO', 'CONTRATOS/OBSERVAÇÕES', 'COTA', 'CÓD.\\r\\n  DISPENSA', 'CÓDIGO GESTÃO', 'CÓDIGO ITEM', 'DATA', 'DATA ABERTURA', 'DATA APROVAÇÃO', 'DATA ASSINATURA', 'DATA ASSINATURA CONTRATO', 'DATA CONTRATO', 'DATA DA ALIMENTAÇÃO', 'DATA DA ASSINATURA', 'DATA DA LIQUIDAÇÃO', 'DATA DE CADASTRAMENTO DO PROCESSO', 'DATA DE CELEBRAÇÃO / PUBLICAÇÃO', 'DATA DO ENCERRAMENTO', 'DATA DO PAGAMENTO', 'DATA EMPENHO', 'DATA FIM VIGÊNCIA', 'DATA HOMOLOGAÇÃO', 'DATA INÍCIO', 'DATA INÍCIO PREVISTO', 'DATA INÍCIO VIGÊNCIA', 'DATA LIQUIDAÇÃO', 'DATA PAGAMENTO', 'DATA PEDIDO', 'DATA PUBLICAÇÃO', 'DATA RATIFICAÇÃO', 'DATA TÉRMINO', 'DATA_ABERTURA', 'DATA_ASSINATURA', 'DATA_CELEBRACAO', 'DATA_EXTRACAO_DADOS', 'DATA_FECHAMENTO', 'DATA_FIM_PREVISTO', 'DATA_FIM_VIGENCIA', 'DATA_PUBLICACAO', 'DATA_TERMINO', 'DATA_VIGENCIA', 'DESCRIÇÃO DA NATUREZA DA DESPESA', 'DESCRIÇÃO DETALHADA ITEM', 'DESCRIÇÃO DO PROGRAMA DE TRABALHO', 'DESCRIÇÃO DO ÓRGÃO DO EMPENHO', 'DESCRIÇÃO ITEM', 'DESCRIÇÃO PRODUTO', 'DESCRIÇÃO SUBITEM', 'DESPESA_DESCRICAO', 'DESTINAÇÃO DE USO', 'DESTINO', 'DIR IND', 'DOCUMENTO', 'DOCUMENTO_DATA', 'DOCUMENTO_NUMERO', 'DOCUMENT_NE', 'DOE N˚', 'DT ANUL LIQ', 'DT ANUL PAG', 'DURACAO', 'EDITAL DE LICITAÇÃO', 'ELEMENTO_DESPESA_COD', 'ELEMENTO_DESPESA_DESCRICAO', 'EMPENHADO ANULADO', 'EMPENHADO ORIGINAL', 'EMPENHADO REFORÇADO', 'EMPENHADO REFORÇO', 'ENQUADRAMENTO', 'ESFERA', 'ESPECIE', 'EVENTO', 'EXERCICIOCONTRATO', 'FAVORECIDO_TIPO', 'FIM DA VIGÊNCIA ATUALIZADA', 'FINAL', 'FONTE CONTRATADO DOAÇÕES', 'FONTE CONTRATADO ESTADUAL', 'FONTE CONTRATADO FEDERAL', 'FONTE PAGO DOAÇÕES', 'FONTE PAGO ESTADUAL', 'FONTE PAGO FEDERAL', 'FONTE_DADOS', 'FONTE_RECURSOS_COD', 'FONTE_RECURSOS_DESCRICAO', 'FUNCAO_COD', 'FUNCAO_DESCRICAO', 'FUNDAMENTO LEGAL', 'FUNDAMENTO_LEGAL', 'GND_COD', 'GND_DESCRICAO', 'HISTORICO', 'HORA_ABERTURA', 'HORA_FECHAMENTO', 'ID', 'IDENTIFICADOR LICITAÇÃO', 'INICIO_VIGENCIA', 'INSTRUMENTO CONTRATUAL', 'INTEGRA_CONTRATO', 'INÍCIO', 'ITEM', 'ITEM_EMPENHO_DESCRICAO', 'ITEM_EMPENHO_QUANTIDADE', 'ITEM_EMPENHO_UNIDADE_MEDIDA', 'ITEM_EMPENHO_VALOR_TOTAL', 'ITEM_EMPENHO_VALOR_UNITARIO', 'LICITACAO', 'LIK_EDITAL_CREDENCIAMENTO', 'LINK DO PROCESSO DE CONTRATAÇÃO/AQUISIÇÃO', 'LINK_CONTRATO', 'LINK_CONVENIO', 'LINK_JUSTIFICATIVA', 'LINK_MAPA_PRECOS', 'LINK_NOTA_TECNICA', 'LINK_PLANILHA_CONSOLIDADA', 'LINK_PLANO_DE_TRABALHO', 'LINK_PROCESSO', 'LINK_PROJETO_BASICO', 'LINK_PROPOSTA_EMPRESA', 'LINK_TERMO_ADITIVO', 'LINK_TERMO_COLOB_EMERG', 'LINK_TERMO_DE_REFERÊNCIA', 'LIQUIDACAO', 'LIQUIDADO RETIDO', 'LIQUIDAÇÃO', 'LOCAL ENTREGA', 'LOCAL EXECUÇÃO', 'LOCAL_EXECUCAO_OU_ENTREGA', 'MARCA ITEM', 'MDE', 'MODALIDADE', 'MODALIDADE DA NOTA DE EMPENHO', 'MODALIDADE DE LICITAÇÃO', 'MODALIDADE LICITACAO', 'MODALIDADE LICITAÇÃO', 'MODALIDADE2', 'MOD_APLICACAO_COD', 'MOD_APLIC_DESCRICAO', 'MOTIVAÇÃO/JUSTIFICATIVA', 'MUNICIPIO_DESCRICAO', 'MÊS', 'MÊS EMPENHO', 'MÊS LIQUIDAÇÃO', 'N. PROCESSO', 'NATUREZA', 'NATUREZA DA DESPESA', 'NATUREZA2', 'NE1', 'NE10', 'NE10CANCELADA', 'NE1CANCELADA', 'NE2', 'NE2CANCELADA', 'NE3', 'NE3CANCELADA', 'NE4', 'NE4CANCELADA', 'NE5', 'NE5CANCELADA', 'NE6', 'NE6CANCELADA', 'NE7', 'NE7CANCELADA', 'NE8', 'NE8CANCELADA', 'NE9', 'NE9CANCELADA', 'NOME ARREMATANTE', 'NOME GESTÃO CONTRATANTE', 'NOMEBANCO', 'NOMECONTACORRENTE', 'NOMEUO', 'NOMSIGLA', 'NOTA DE PAGAMENTO', 'NR INSTRUMENTO', 'NUMEMPENHO', 'NUMERO_CONTRATO', 'NUMERO_PROCESSO', 'NUMERO_SIGA', 'NUM_CERTIDAO', 'N_PROCESSO_NE', 'Nº DISPENSA', 'Nº E ÍNTEGRA DO PROCESSO / CONTRATO', 'Nº LICITAÇÃO', 'Nº PROCESSO', 'NÚMERO / ANO DO INSTRUMENTO CONTRATUAL', 'NÚMERO CONTRATO', 'NÚMERO DA LIQUIDAÇÃO', 'NÚMERO DISPENSA', 'NÚMERO DO PROCESSO DE COMPRA', 'NÚMERO DO PROCESSO DE CONTRATAÇÃO / AQUISIÇÃO', 'NÚMERO ITEM', 'NÚMERO LICITACAO', 'NÚMERO LICITAÇÃO', 'NÚMERO LOTE', 'NÚMERO PROCESSO', 'NÚMERO SERVIÇO/MATERIAL', 'NÚMERO/ANO', 'OBRA_META', 'ORGAO', 'ORGAO_COD', 'ORGAO_SIGLA', 'PAGAMENTO', 'PAGAMENTO RETIDO', 'PDFNE1', 'PDFNE10', 'PDFNE2', 'PDFNE3', 'PDFNE4', 'PDFNE5', 'PDFNE6', 'PDFNE7', 'PDFNE8', 'PDFNE9', 'PODER', 'PORTAL COVID-19', 'PRAZO', 'PRAZO              CONTRATO (MÊS)', 'PRAZO CONTRATUAL', 'PRAZO DE VIGÊNCIA', 'PRAZO EXECUÇÃO', 'PRAZO_EM_DIAS', 'PREÇO ITEM', 'PREÇO SUBITEM', 'PREÇO TOTAL', 'PREÇO UNITÁRIO', 'PROCESSO', 'PROCESSO DE LIQUIDAÇÃO', 'PROCESSO DO EMPENHO', 'PROCESSO E-COMPRAS', 'PROCESSO/ANO', 'PROCESSO_LICITACAO', 'PROGRAMA DE TRABALHO', 'PROGRAMA_COD', 'PROGRAMA_DESCRICAO', 'PROTOCOLO', 'PROTOCOLO / PROCESSO', 'PU ITEM', 'PU PRODUTO', 'PU SUBITEM', 'PUBLICAÇÃO', 'PUBLICAÇÃO DODF', 'PUBLICIDADE', 'P_A_OE', 'QUANTIDADE', 'QUANTIDADE ITEM', 'QUANTIDADE OBJETO', 'QUANTIDADE PRODUTO', 'QUANTIDADE SUBITEM', 'RESPONSAVEL', 'RESULTADO LICITAÇÃO', 'RP_PAGO', 'SALDO A EXECUTAR DO INSTRUMENTO', 'SIGLA ÓRGÃO', 'SITUACAO', 'SITUACAO EMPENHO', 'SITUAÇÃO CONTRATUAL', 'SITUAÇÃO DO PROCESSO', 'SITUAÇÃO LICITAÇÃO', 'SITUAÇÃO LOTE', 'SITUAÇÃO OFERTA', 'STATUS', 'SUBFUNCAO_COD', 'SUBFUNCAO_DESCRICAO', 'SUB_ELEMENTO_DESPESA_COD', 'SUB_ELEMENTO_DESPESA_DESCRICAO', 'TERMO', 'TERMO DE REFERÊNCIA / PROJETO BÁSICO', 'TEXTO PUBLICADO', 'TIPO ADMINISTRAÇÃO', 'TIPO CONTRATO', 'TIPO DE CREDOR', 'TIPO DESPESA', 'TIPO OBJETO', 'TIPO_DOCUMENTO', 'UF', 'UG_COD', 'UG_DESCRICAO', 'UNIDADE', 'UNIDADE CONTÁBIL', 'UNIDADE ITEM', 'UNIDADE OBJETO', 'UNIDADE ORÇAMENTÁRIA', 'UNIDADE PROGRAMA DE TRABALHO', 'UNIDADE SUBITEM', 'UNIDADE TEMPO', 'UNIDADE VALOR', 'UO', 'URL DOCUMENTOS', 'URL PROPOSTAS', 'VALOR ANULADO', 'VALOR ANULADO (R$)', 'VALOR ATUAL', 'VALOR ATUALIZADO DO INSTRUMENTO', 'VALOR CANCELADO', 'VALOR DE REFERÊNCIA', 'VALOR DO ACRÉSCIMO OU REDUÇÃO', 'VALOR DOTAÇÃO ATUALIZADA', 'VALOR DOTAÇÃO INICIAL', 'VALOR HOMOLOGADO', 'VALOR INICIAL DO INSTRUMENTO', 'VALOR MENSAL', 'VALORDESPESA', 'VALOR_EMPENHADO', 'VALOR_LIQUIDADO', 'VALOR_PAGO', 'VALOR_R$', 'VENCEDOR LICITAÇÃO', 'VIGENCIA DO CONTRATO', 'VIGÊNCIA', 'VL ANUL DISP', 'VL ANUL EMP', 'VL ANUL LIQ', 'VL ANUL LIQ RP', 'VL ANUL RP', 'VL COFINS', 'VL COFINS PIS PASEP CSLL', 'VL CSLL', 'VL DESCONTOS', 'VL INSS', 'VL IR', 'VL ISS', 'VL MULTAS', 'VL PIS PASEP', 'VL SEM RETENCAO', 'VL SOMA RETENCAO', 'VL TAFC', 'VL TAFI', 'VL TRFC', 'VLR_EMPENHO', 'ÍNTEGRA DO INSTRUMENTO CONTRATUAL', 'ÓRGÃO DO EMPENHO', 'ÓRGÃO INSTRUMENTO', 'ÓRGÃO PROGRAMA DE TRABALHO'])"
      ]
     },
     "execution_count": 12,
     "metadata": {},
     "output_type": "execute_result"
    }
   ],
   "source": [
    "colunas"
   ]
  },
  {
   "cell_type": "code",
   "execution_count": 4,
   "metadata": {},
   "outputs": [],
   "source": [
    "#projeto, codigo de dispensa\n",
    "#Colunas relacionadas a data aparentemente repetidas\n",
    "#DATA (MS): sem documentação \n",
    "#DATA CONTRATO (RR) => DATA_CELEBRACAO\n",
    "#DATA DO ENCERRAMENTO (RJ): coluna vazia excluí\n",
    "#DATA FIM VIGÊNCIA (SC) => DATA_FIM_PREVISTO\n",
    "#DATA TÉRMINO (RR) => DATA_FIM_PREVISTO (nos dados, está como não informado) \n",
    "#DATA_FECHAMENTO (AL): sem  documentação\n",
    "#DATA_TERMINO (CE) => DATA_FIM_PREVISTO (tem datas no futuro)\n",
    "#DATA INÍCIO (RR) => INICIO_VIGENCIA\n",
    "#DATA INÍCIO PREVISTO (RJ) => INICIO_VIGENCIA\n",
    "#DATA INÍCIO VIGÊNCIA (SC) => INICIO_VIGENCIA"
   ]
  },
  {
   "cell_type": "code",
   "execution_count": 7,
   "metadata": {},
   "outputs": [
    {
     "data": {
      "text/plain": [
       "['MS.xlsx']"
      ]
     },
     "execution_count": 7,
     "metadata": {},
     "output_type": "execute_result"
    }
   ],
   "source": [
    "map_colunas_planilhas['DATA']"
   ]
  },
  {
   "cell_type": "code",
   "execution_count": 8,
   "metadata": {},
   "outputs": [
    {
     "data": {
      "text/plain": [
       "array([nan, '15/07/2020', '13/07/2020', '10/07/2020', '02/07/2020',\n",
       "       '29/06/2020', '26/06/2020', '25/06/2020', '16/06/2020',\n",
       "       '10/06/2020', '09/06/2020', '08/06/2020', '04/06/2020',\n",
       "       '03/06/2020', '02/06/2020', '26/05/2020', '25/05/2020',\n",
       "       '22/05/2020', '19/05/2020', '18/05/2020', '15/05/2020',\n",
       "       '13/05/2020', '11/05/2020', '05/05/2020', '04/05/2020',\n",
       "       '01/05/2020', '30/04/2020', '29/04/2020', '28/04/2020',\n",
       "       '27/04/2020', '23/04/2020', '22/04/2020', '16/04/2020',\n",
       "       '07/04/2020', '01/04/2020'], dtype=object)"
      ]
     },
     "execution_count": 8,
     "metadata": {},
     "output_type": "execute_result"
    }
   ],
   "source": [
    "#Não tem dicionário de dados explicando o significado \n",
    "map_arquivos_dfs['MS.xlsx']['DATA'].unique()"
   ]
  },
  {
   "cell_type": "code",
   "execution_count": 13,
   "metadata": {},
   "outputs": [
    {
     "data": {
      "text/plain": [
       "['RR.xlsx']"
      ]
     },
     "execution_count": 13,
     "metadata": {},
     "output_type": "execute_result"
    }
   ],
   "source": [
    "map_colunas_planilhas['DATA CONTRATO']"
   ]
  },
  {
   "cell_type": "code",
   "execution_count": 18,
   "metadata": {},
   "outputs": [
    {
     "data": {
      "text/plain": [
       "array([nan, '2020-07-01', '2020-06-22', '2020-06-08', '2020-06-02',\n",
       "       '2020-05-18', '2020-05-14', '2020-04-27', '2020-05-15',\n",
       "       '2020-04-17', '2020-04-09', '2020-03-23'], dtype=object)"
      ]
     },
     "execution_count": 18,
     "metadata": {},
     "output_type": "execute_result"
    }
   ],
   "source": [
    "#Segundo rastreamento do código do scraping, é a data de celebração: \n",
    "map_arquivos_dfs['RR.xlsx']['DATA CONTRATO'].unique()"
   ]
  },
  {
   "cell_type": "code",
   "execution_count": 15,
   "metadata": {},
   "outputs": [
    {
     "data": {
      "text/plain": [
       "['RJ.xlsx']"
      ]
     },
     "execution_count": 15,
     "metadata": {},
     "output_type": "execute_result"
    }
   ],
   "source": [
    "map_colunas_planilhas['DATA DO ENCERRAMENTO']"
   ]
  },
  {
   "cell_type": "code",
   "execution_count": 19,
   "metadata": {},
   "outputs": [
    {
     "data": {
      "text/plain": [
       "array([nan])"
      ]
     },
     "execution_count": 19,
     "metadata": {},
     "output_type": "execute_result"
    }
   ],
   "source": [
    "map_arquivos_dfs['RJ.xlsx']['DATA DO ENCERRAMENTO'].unique()"
   ]
  },
  {
   "cell_type": "code",
   "execution_count": 21,
   "metadata": {},
   "outputs": [
    {
     "data": {
      "text/plain": [
       "['SC.xlsx']"
      ]
     },
     "execution_count": 21,
     "metadata": {},
     "output_type": "execute_result"
    }
   ],
   "source": [
    "map_colunas_planilhas['DATA FIM VIGÊNCIA']"
   ]
  },
  {
   "cell_type": "code",
   "execution_count": 23,
   "metadata": {},
   "outputs": [
    {
     "data": {
      "text/plain": [
       "array(['2020-09-16T00:00:00-03:00', '2020-12-31T00:00:00-02:00',\n",
       "       '2020-09-18T00:00:00-03:00', '2020-05-07T00:00:00-03:00',\n",
       "       '2020-10-14T00:00:00-03:00', '2020-10-27T00:00:00-03:00',\n",
       "       '2020-11-29T00:00:00-02:00', '2020-12-13T00:00:00-02:00', nan],\n",
       "      dtype=object)"
      ]
     },
     "execution_count": 23,
     "metadata": {},
     "output_type": "execute_result"
    }
   ],
   "source": [
    "#Segundo o dicionário de dados, é a data de término da vigência do contrato\n",
    "map_arquivos_dfs['SC.xlsx']['DATA FIM VIGÊNCIA'].unique()"
   ]
  },
  {
   "cell_type": "code",
   "execution_count": 24,
   "metadata": {},
   "outputs": [
    {
     "data": {
      "text/plain": [
       "['RR.xlsx']"
      ]
     },
     "execution_count": 24,
     "metadata": {},
     "output_type": "execute_result"
    }
   ],
   "source": [
    "map_colunas_planilhas['DATA TÉRMINO']"
   ]
  },
  {
   "cell_type": "code",
   "execution_count": 25,
   "metadata": {},
   "outputs": [
    {
     "data": {
      "text/plain": [
       "array(['Não informado', nan], dtype=object)"
      ]
     },
     "execution_count": 25,
     "metadata": {},
     "output_type": "execute_result"
    }
   ],
   "source": [
    "map_arquivos_dfs['RR.xlsx']['DATA TÉRMINO'].unique()"
   ]
  },
  {
   "cell_type": "code",
   "execution_count": 26,
   "metadata": {},
   "outputs": [
    {
     "data": {
      "text/plain": [
       "['AL.xlsx']"
      ]
     },
     "execution_count": 26,
     "metadata": {},
     "output_type": "execute_result"
    }
   ],
   "source": [
    "map_colunas_planilhas['DATA_FECHAMENTO']"
   ]
  },
  {
   "cell_type": "code",
   "execution_count": 28,
   "metadata": {},
   "outputs": [
    {
     "data": {
      "text/plain": [
       "array([nan, '2020-04-28T03:00:00.000000Z'], dtype=object)"
      ]
     },
     "execution_count": 28,
     "metadata": {},
     "output_type": "execute_result"
    }
   ],
   "source": [
    "#Não consegui rastrear a fonte original para checar o significado\n",
    "map_arquivos_dfs['AL.xlsx']['DATA_FECHAMENTO'].unique()"
   ]
  },
  {
   "cell_type": "code",
   "execution_count": 29,
   "metadata": {},
   "outputs": [
    {
     "data": {
      "text/plain": [
       "['MG.xlsx']"
      ]
     },
     "execution_count": 29,
     "metadata": {},
     "output_type": "execute_result"
    }
   ],
   "source": [
    "map_colunas_planilhas['DATA_FIM_VIGENCIA']"
   ]
  },
  {
   "cell_type": "code",
   "execution_count": 30,
   "metadata": {},
   "outputs": [
    {
     "data": {
      "text/plain": [
       "array([nan, datetime.datetime(2016, 6, 13, 0, 0),\n",
       "       datetime.datetime(2020, 9, 19, 0, 0),\n",
       "       datetime.datetime(2020, 4, 13, 0, 0),\n",
       "       datetime.datetime(2020, 5, 15, 0, 0),\n",
       "       datetime.datetime(2020, 4, 8, 0, 0),\n",
       "       datetime.datetime(2020, 9, 22, 0, 0),\n",
       "       datetime.datetime(2020, 9, 23, 0, 0),\n",
       "       datetime.datetime(2020, 7, 29, 0, 0),\n",
       "       datetime.datetime(2020, 9, 29, 0, 0),\n",
       "       datetime.datetime(2020, 5, 19, 0, 0),\n",
       "       datetime.datetime(2020, 3, 31, 0, 0),\n",
       "       datetime.datetime(2020, 4, 21, 0, 0),\n",
       "       datetime.datetime(2020, 7, 7, 0, 0),\n",
       "       datetime.datetime(2020, 6, 8, 0, 0),\n",
       "       datetime.datetime(2020, 4, 18, 0, 0),\n",
       "       datetime.datetime(2020, 6, 28, 0, 0),\n",
       "       datetime.datetime(2020, 5, 7, 0, 0),\n",
       "       datetime.datetime(2020, 5, 8, 0, 0),\n",
       "       datetime.datetime(2020, 5, 14, 0, 0),\n",
       "       datetime.datetime(2020, 5, 16, 0, 0),\n",
       "       datetime.datetime(2020, 5, 22, 0, 0),\n",
       "       datetime.datetime(2020, 5, 13, 0, 0),\n",
       "       datetime.datetime(2020, 7, 11, 0, 0),\n",
       "       datetime.datetime(2020, 5, 23, 0, 0),\n",
       "       datetime.datetime(2020, 6, 2, 0, 0),\n",
       "       datetime.datetime(2020, 6, 5, 0, 0),\n",
       "       datetime.datetime(2020, 6, 13, 0, 0),\n",
       "       datetime.datetime(2020, 6, 23, 0, 0),\n",
       "       'até 15 dias após recebimento da NE',\n",
       "       datetime.datetime(2020, 12, 14, 0, 0),\n",
       "       datetime.datetime(2020, 12, 22, 0, 0)], dtype=object)"
      ]
     },
     "execution_count": 30,
     "metadata": {},
     "output_type": "execute_result"
    }
   ],
   "source": [
    "map_arquivos_dfs['MG.xlsx']['DATA_FIM_VIGENCIA'].unique()"
   ]
  },
  {
   "cell_type": "code",
   "execution_count": 31,
   "metadata": {},
   "outputs": [
    {
     "data": {
      "text/plain": [
       "['CE.xlsx']"
      ]
     },
     "execution_count": 31,
     "metadata": {},
     "output_type": "execute_result"
    }
   ],
   "source": [
    "map_colunas_planilhas['DATA_TERMINO']"
   ]
  },
  {
   "cell_type": "code",
   "execution_count": 32,
   "metadata": {},
   "outputs": [
    {
     "data": {
      "text/plain": [
       "array([nan, '2020-10-29 00:00:00', '2021-03-31 00:00:00',\n",
       "       '2020-12-31 00:00:00', '2020-08-15 00:00:00',\n",
       "       '2020-10-01 00:00:00', '2020-11-14 00:00:00',\n",
       "       '2021-03-22 00:00:00', '2021-03-04 00:00:00',\n",
       "       '2020-10-27 00:00:00', '2020-12-10 00:00:00',\n",
       "       '2020-11-13 00:00:00', '2020-11-05 00:00:00',\n",
       "       '2020-07-21 00:00:00', '2020-10-06 00:00:00',\n",
       "       '2021-05-18 00:00:00', '2020-08-09 00:00:00',\n",
       "       '2021-06-25 00:00:00', '2020-09-24 00:00:00',\n",
       "       '2020-09-25 00:00:00', '2020-07-26 00:00:00',\n",
       "       '2020-09-29 00:00:00', '2020-12-08 00:00:00',\n",
       "       '2020-07-31 00:00:00', '2020-12-19 00:00:00',\n",
       "       '2021-04-20 00:00:00', '2020-12-12 00:00:00',\n",
       "       '2020-08-08 00:00:00', '2020-10-15 00:00:00',\n",
       "       '2021-03-01 00:00:00', '2020-11-15 00:00:00',\n",
       "       '2020-10-28 00:00:00', '2020-08-07 00:00:00',\n",
       "       '2021-03-20 00:00:00', '2020-11-11 00:00:00',\n",
       "       '2020-10-12 00:00:00', '2021-04-16 00:00:00',\n",
       "       '2020-08-10 00:00:00', '2020-12-14 00:00:00',\n",
       "       '2020-10-16 00:00:00', '2021-04-01 00:00:00',\n",
       "       '2020-09-28 00:00:00', '2020-12-24 00:00:00',\n",
       "       '2020-07-20 00:00:00', '2020-07-19 00:00:00',\n",
       "       '2020-07-24 00:00:00', '2020-09-12 00:00:00',\n",
       "       '2020-07-18 00:00:00', '2020-10-25 00:00:00',\n",
       "       '2020-10-20 00:00:00', '2020-07-17 00:00:00',\n",
       "       '2020-10-14 00:00:00', '2021-02-26 00:00:00',\n",
       "       '2020-10-04 00:00:00', '2021-05-21 00:00:00',\n",
       "       '2021-06-01 00:00:00', '2020-06-13 00:00:00',\n",
       "       '2020-07-14 00:00:00', '2020-06-22 00:00:00',\n",
       "       '2020-09-27 00:00:00', '2020-11-07 00:00:00',\n",
       "       '2020-11-09 00:00:00', '2021-05-14 00:00:00',\n",
       "       '2020-07-13 00:00:00', '2021-05-29 00:00:00',\n",
       "       '2020-08-17 00:00:00', '2020-07-11 00:00:00',\n",
       "       '2020-07-12 00:00:00', '2020-09-19 00:00:00',\n",
       "       '2020-09-20 00:00:00', '2021-02-01 00:00:00',\n",
       "       '2020-10-08 00:00:00', '2020-08-05 00:00:00',\n",
       "       '2020-11-08 00:00:00', '2020-10-22 00:00:00',\n",
       "       '2021-04-29 00:00:00', '2021-07-17 00:00:00',\n",
       "       '2020-11-04 00:00:00', '2021-03-18 00:00:00',\n",
       "       '2020-08-21 00:00:00', '2020-09-21 00:00:00',\n",
       "       '2020-04-29 00:00:00', '2021-07-03 00:00:00',\n",
       "       '2020-09-02 00:00:00', '2021-07-19 00:00:00',\n",
       "       '2020-04-20 00:00:00', '2020-05-22 00:00:00',\n",
       "       '2020-06-08 00:00:00', '2020-09-23 00:00:00',\n",
       "       '2020-05-15 00:00:00'], dtype=object)"
      ]
     },
     "execution_count": 32,
     "metadata": {},
     "output_type": "execute_result"
    }
   ],
   "source": [
    "map_arquivos_dfs['CE.xlsx']['DATA_TERMINO'].unique()"
   ]
  },
  {
   "cell_type": "code",
   "execution_count": 33,
   "metadata": {},
   "outputs": [
    {
     "data": {
      "text/plain": [
       "['MT.xlsx']"
      ]
     },
     "execution_count": 33,
     "metadata": {},
     "output_type": "execute_result"
    }
   ],
   "source": [
    "map_colunas_planilhas['DATA_VIGENCIA']"
   ]
  },
  {
   "cell_type": "code",
   "execution_count": 34,
   "metadata": {},
   "outputs": [
    {
     "data": {
      "text/plain": [
       "array(['2020-03-25T00:00:00.000000000', '2020-03-19T00:00:00.000000000',\n",
       "       '2020-06-24T00:00:00.000000000', '2020-04-01T00:00:00.000000000',\n",
       "       '2020-04-06T00:00:00.000000000', '2020-06-22T00:00:00.000000000',\n",
       "       '2020-06-05T00:00:00.000000000', '2020-06-08T00:00:00.000000000',\n",
       "       '2020-05-08T00:00:00.000000000', '2020-03-20T00:00:00.000000000',\n",
       "       '2020-04-02T00:00:00.000000000', '2020-05-12T00:00:00.000000000',\n",
       "       '2020-05-05T00:00:00.000000000', '2020-04-13T00:00:00.000000000',\n",
       "       '2020-05-29T00:00:00.000000000', '2020-03-31T00:00:00.000000000',\n",
       "       '2020-03-27T00:00:00.000000000', '2020-03-30T00:00:00.000000000',\n",
       "       '2020-03-26T00:00:00.000000000', '2020-04-29T00:00:00.000000000',\n",
       "       '2020-04-07T00:00:00.000000000', '2020-04-20T00:00:00.000000000',\n",
       "       '2020-04-17T00:00:00.000000000', '2020-04-27T00:00:00.000000000',\n",
       "       '2020-04-30T00:00:00.000000000', '2020-05-18T00:00:00.000000000',\n",
       "       '2020-05-20T00:00:00.000000000', '2020-06-01T00:00:00.000000000',\n",
       "       '2020-05-21T00:00:00.000000000', '2020-05-11T00:00:00.000000000',\n",
       "       '2020-05-14T00:00:00.000000000', '2020-03-24T00:00:00.000000000',\n",
       "       '2020-06-17T00:00:00.000000000'], dtype='datetime64[ns]')"
      ]
     },
     "execution_count": 34,
     "metadata": {},
     "output_type": "execute_result"
    }
   ],
   "source": [
    "map_arquivos_dfs['MT.xlsx']['DATA_VIGENCIA'].unique()"
   ]
  },
  {
   "cell_type": "code",
   "execution_count": 35,
   "metadata": {},
   "outputs": [
    {
     "data": {
      "text/plain": [
       "['RR.xlsx']"
      ]
     },
     "execution_count": 35,
     "metadata": {},
     "output_type": "execute_result"
    }
   ],
   "source": [
    "map_colunas_planilhas['DATA INÍCIO']"
   ]
  },
  {
   "cell_type": "code",
   "execution_count": 36,
   "metadata": {},
   "outputs": [
    {
     "data": {
      "text/plain": [
       "array(['Não informado', nan], dtype=object)"
      ]
     },
     "execution_count": 36,
     "metadata": {},
     "output_type": "execute_result"
    }
   ],
   "source": [
    "map_arquivos_dfs['RR.xlsx']['DATA INÍCIO'].unique()"
   ]
  },
  {
   "cell_type": "code",
   "execution_count": 37,
   "metadata": {},
   "outputs": [
    {
     "data": {
      "text/plain": [
       "['RJ.xlsx']"
      ]
     },
     "execution_count": 37,
     "metadata": {},
     "output_type": "execute_result"
    }
   ],
   "source": [
    "map_colunas_planilhas['DATA INÍCIO PREVISTO']"
   ]
  },
  {
   "cell_type": "code",
   "execution_count": 38,
   "metadata": {},
   "outputs": [
    {
     "data": {
      "text/plain": [
       "array([nan, '01/04/2020', '13/04/2020', '23/03/2020', '29/04/2020',\n",
       "       '11/05/2020', '13/05/2020', '07/04/2020', '01/05/2020',\n",
       "       '18/06/2020', '26/03/2020', '08/04/2020', '27/04/2020',\n",
       "       '29/06/2020', '01/06/2020'], dtype=object)"
      ]
     },
     "execution_count": 38,
     "metadata": {},
     "output_type": "execute_result"
    }
   ],
   "source": [
    "map_arquivos_dfs['RJ.xlsx']['DATA INÍCIO PREVISTO'].unique()"
   ]
  },
  {
   "cell_type": "code",
   "execution_count": 39,
   "metadata": {},
   "outputs": [
    {
     "data": {
      "text/plain": [
       "['SC.xlsx']"
      ]
     },
     "execution_count": 39,
     "metadata": {},
     "output_type": "execute_result"
    }
   ],
   "source": [
    "map_colunas_planilhas['DATA INÍCIO VIGÊNCIA']"
   ]
  },
  {
   "cell_type": "code",
   "execution_count": null,
   "metadata": {},
   "outputs": [],
   "source": []
  }
 ],
 "metadata": {
  "kernelspec": {
   "display_name": "Python 3",
   "language": "python",
   "name": "python3"
  },
  "language_info": {
   "codemirror_mode": {
    "name": "ipython",
    "version": 3
   },
   "file_extension": ".py",
   "mimetype": "text/x-python",
   "name": "python",
   "nbconvert_exporter": "python",
   "pygments_lexer": "ipython3",
   "version": "3.7.3"
  }
 },
 "nbformat": 4,
 "nbformat_minor": 2
}
